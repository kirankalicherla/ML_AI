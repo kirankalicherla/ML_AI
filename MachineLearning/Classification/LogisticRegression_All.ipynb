{
 "cells": [
  {
   "cell_type": "markdown",
   "id": "suited-radius",
   "metadata": {},
   "source": [
    "# Implementing logistic regression using Numpy"
   ]
  },
  {
   "cell_type": "code",
   "execution_count": 1,
   "id": "medical-percentage",
   "metadata": {},
   "outputs": [],
   "source": [
    "import numpy as np\n",
    "import matplotlib.pyplot as plt\n",
    "%matplotlib inline\n",
    "plt.rcParams[\"figure.figsize\"] = (10,10)\n",
    "import scipy.optimize as opt"
   ]
  },
  {
   "cell_type": "code",
   "execution_count": 2,
   "id": "certified-genome",
   "metadata": {},
   "outputs": [],
   "source": [
    "###Reading data from text file.\n",
    "myData = np.loadtxt('data/ex2data1.txt',delimiter=',')"
   ]
  },
  {
   "cell_type": "code",
   "execution_count": 3,
   "id": "antique-client",
   "metadata": {},
   "outputs": [
    {
     "name": "stdout",
     "output_type": "stream",
     "text": [
      "<class 'numpy.ndarray'>\n",
      "(100, 3)\n",
      "[[34.62365962 78.02469282  0.        ]\n",
      " [30.28671077 43.89499752  0.        ]\n",
      " [35.84740877 72.90219803  0.        ]\n",
      " [60.18259939 86.3085521   1.        ]\n",
      " [79.03273605 75.34437644  1.        ]]\n"
     ]
    }
   ],
   "source": [
    "###Examine the data\n",
    "print(type(myData))\n",
    "print(myData.shape)\n",
    "print(myData[:5,:])"
   ]
  },
  {
   "cell_type": "code",
   "execution_count": 4,
   "id": "surface-probe",
   "metadata": {},
   "outputs": [
    {
     "name": "stdout",
     "output_type": "stream",
     "text": [
      "(100, 2)\n",
      "(100, 1)\n"
     ]
    }
   ],
   "source": [
    "####Separating Attributes/Features and Labels\n",
    "X = myData[:,:-1]\n",
    "y = myData[:,-1,None]\n",
    "print(X.shape)\n",
    "print(y.shape)"
   ]
  },
  {
   "cell_type": "code",
   "execution_count": 5,
   "id": "hairy-thriller",
   "metadata": {},
   "outputs": [
    {
     "name": "stdout",
     "output_type": "stream",
     "text": [
      "(100, 1)\n",
      "(100, 3)\n",
      "[[ 1.         34.62365962 78.02469282]\n",
      " [ 1.         30.28671077 43.89499752]\n",
      " [ 1.         35.84740877 72.90219803]\n",
      " [ 1.         60.18259939 86.3085521 ]\n",
      " [ 1.         79.03273605 75.34437644]]\n"
     ]
    }
   ],
   "source": [
    "###Adding interceptor term X0 to the inputs\n",
    "X0 = np.ones((X.shape[0],1))\n",
    "print(X0.shape)\n",
    "X = np.append(X0,X,axis=1)\n",
    "print(X.shape)\n",
    "print(X[:5,:])"
   ]
  },
  {
   "cell_type": "code",
   "execution_count": 6,
   "id": "incident-permit",
   "metadata": {},
   "outputs": [
    {
     "data": {
      "text/plain": [
       "<matplotlib.legend.Legend at 0x1dac1393ac8>"
      ]
     },
     "execution_count": 6,
     "metadata": {},
     "output_type": "execute_result"
    },
    {
     "data": {
      "image/png": "[encoded data removed]",
      "text/plain": [
       "<Figure size 720x720 with 1 Axes>"
      ]
     },
     "metadata": {
      "needs_background": "light"
     },
     "output_type": "display_data"
    }
   ],
   "source": [
    "###Plotting the inputs as per labels\n",
    "pos = y == 1\n",
    "neg = y == 0\n",
    "\n",
    "plt.scatter(X[:,1,None][pos],X[:,2,None][pos],marker='+',color='orange',label='Admitted')\n",
    "plt.scatter(X[:,1,None][neg],X[:,2,None][neg],marker='o',color='red',label='Not Admitted')\n",
    "plt.xlabel('Exam Marks1')\n",
    "plt.ylabel('Exam Marks2')\n",
    "plt.legend()"
   ]
  },
  {
   "cell_type": "code",
   "execution_count": 7,
   "id": "light-cliff",
   "metadata": {},
   "outputs": [],
   "source": [
    "####Sigmoid/logistic function\n",
    "def Sigmoid(X):\n",
    "    s = 1/(1+np.exp(-X))\n",
    "    return s"
   ]
  },
  {
   "cell_type": "code",
   "execution_count": 8,
   "id": "studied-desktop",
   "metadata": {},
   "outputs": [],
   "source": [
    "####Compute cost\n",
    "def costFunction(Theta,X,y):\n",
    "    # m -> number of examples\n",
    "    m = X.shape[0]\n",
    "    Theta = Theta.reshape(X.shape[1],1)\n",
    "    #print(Theta.shape)\n",
    "    grads = np.zeros(Theta.shape)\n",
    "    # A -> is predicted value\n",
    "    A = Sigmoid(np.dot(X,Theta))\n",
    "    assert(A.shape == y.shape)\n",
    "    \n",
    "    #Calculating the Cost\n",
    "    cost = - (np.dot(y.T,np.log(A)) + np.dot((1-y).T,np.log(1-A)))/m\n",
    "    \n",
    "    grads = np.dot(X.T,(A-y))/m\n",
    "    \n",
    "    return cost,grads"
   ]
  },
  {
   "cell_type": "code",
   "execution_count": 9,
   "id": "fewer-bread",
   "metadata": {},
   "outputs": [],
   "source": [
    "initial_theta = np.zeros((X.shape[1],1))\n",
    "cost,grad = costFunction(initial_theta,X,y)"
   ]
  },
  {
   "cell_type": "code",
   "execution_count": 10,
   "id": "inclusive-sullivan",
   "metadata": {},
   "outputs": [
    {
     "name": "stdout",
     "output_type": "stream",
     "text": [
      "(3, 1)\n",
      "[[0.69314718]]\n"
     ]
    }
   ],
   "source": [
    "print(grad.shape)\n",
    "print(cost)"
   ]
  },
  {
   "cell_type": "code",
   "execution_count": 11,
   "id": "spare-bernard",
   "metadata": {},
   "outputs": [
    {
     "name": "stdout",
     "output_type": "stream",
     "text": [
      "[[0.21833019]]\n",
      "[[0.04290299]\n",
      " [2.56623412]\n",
      " [2.64679737]]\n"
     ]
    }
   ],
   "source": [
    "test_theta = np.array([-24,0.2,0.2])\n",
    "cost,grad = costFunction(test_theta,X,y)\n",
    "print(cost)\n",
    "print(grad)"
   ]
  },
  {
   "cell_type": "code",
   "execution_count": 12,
   "id": "quick-hierarchy",
   "metadata": {},
   "outputs": [],
   "source": [
    "#Importing optimizer to calculate the gradient descent\n",
    "import scipy.optimize as opt"
   ]
  },
  {
   "cell_type": "code",
   "execution_count": 13,
   "id": "floppy-treaty",
   "metadata": {},
   "outputs": [],
   "source": [
    "result = opt.fmin_tnc(func=costFunction,x0=initial_theta,args=(X,y))"
   ]
  },
  {
   "cell_type": "code",
   "execution_count": 14,
   "id": "bacterial-singapore",
   "metadata": {},
   "outputs": [
    {
     "name": "stdout",
     "output_type": "stream",
     "text": [
      "(array([-25.16131857,   0.20623159,   0.20147149]), 36, 0)\n"
     ]
    }
   ],
   "source": [
    "print(result)"
   ]
  },
  {
   "cell_type": "code",
   "execution_count": 15,
   "id": "signal-dallas",
   "metadata": {},
   "outputs": [],
   "source": [
    "Theta = result[0].reshape(initial_theta.shape)"
   ]
  },
  {
   "cell_type": "code",
   "execution_count": 16,
   "id": "identified-methodology",
   "metadata": {},
   "outputs": [
    {
     "data": {
      "text/plain": [
       "(3, 1)"
      ]
     },
     "execution_count": 16,
     "metadata": {},
     "output_type": "execute_result"
    }
   ],
   "source": [
    "Theta.shape"
   ]
  },
  {
   "cell_type": "code",
   "execution_count": 17,
   "id": "noted-classics",
   "metadata": {},
   "outputs": [
    {
     "name": "stdout",
     "output_type": "stream",
     "text": [
      "[0.77629062]\n"
     ]
    }
   ],
   "source": [
    "prob = Sigmoid(np.array([1,45,85])@Theta)\n",
    "print(prob)"
   ]
  },
  {
   "cell_type": "code",
   "execution_count": 18,
   "id": "equipped-denmark",
   "metadata": {},
   "outputs": [],
   "source": [
    "def predict(X,Theta):\n",
    "    pred = Sigmoid(np.dot(X,Theta))\n",
    "    pred[pred>=0.5]=1\n",
    "    pred[pred<0.5]=0\n",
    "    return pred"
   ]
  },
  {
   "cell_type": "code",
   "execution_count": 19,
   "id": "western-poster",
   "metadata": {},
   "outputs": [],
   "source": [
    "p =predict(X,Theta)"
   ]
  },
  {
   "cell_type": "code",
   "execution_count": 20,
   "id": "floppy-shooting",
   "metadata": {},
   "outputs": [
    {
     "name": "stdout",
     "output_type": "stream",
     "text": [
      "Train accuracy is 89.0\n"
     ]
    }
   ],
   "source": [
    "print(\"Train accuracy is \"+str(np.average(p==y)*100))"
   ]
  },
  {
   "cell_type": "code",
   "execution_count": 21,
   "id": "induced-helena",
   "metadata": {},
   "outputs": [
    {
     "data": {
      "text/plain": [
       "89"
      ]
     },
     "execution_count": 21,
     "metadata": {},
     "output_type": "execute_result"
    }
   ],
   "source": [
    "np.sum(p==y)"
   ]
  },
  {
   "cell_type": "code",
   "execution_count": 22,
   "id": "covered-chart",
   "metadata": {},
   "outputs": [],
   "source": [
    "plotting_x1 = np.linspace(30, 100, 100)"
   ]
  },
  {
   "cell_type": "code",
   "execution_count": 23,
   "id": "bigger-wheel",
   "metadata": {},
   "outputs": [
    {
     "data": {
      "text/plain": [
       "(100,)"
      ]
     },
     "execution_count": 23,
     "metadata": {},
     "output_type": "execute_result"
    }
   ],
   "source": [
    "plotting_x1.shape"
   ]
  },
  {
   "cell_type": "code",
   "execution_count": 24,
   "id": "moved-certificate",
   "metadata": {},
   "outputs": [],
   "source": [
    "plotting_h1 = (- result[0][0] - result[0][1] * plotting_x1) / result[0][2]"
   ]
  },
  {
   "cell_type": "code",
   "execution_count": 25,
   "id": "reduced-entrepreneur",
   "metadata": {},
   "outputs": [
    {
     "data": {
      "text/plain": [
       "<matplotlib.legend.Legend at 0x1dac1651b88>"
      ]
     },
     "execution_count": 25,
     "metadata": {},
     "output_type": "execute_result"
    },
    {
     "data": {
      "image/png": "[encoded data removed]",
      "text/plain": [
       "<Figure size 720x720 with 1 Axes>"
      ]
     },
     "metadata": {
      "needs_background": "light"
     },
     "output_type": "display_data"
    }
   ],
   "source": [
    "\n",
    "###Plotting the inputs as per labels\n",
    "pos = y == 1\n",
    "neg = y == 0\n",
    "\n",
    "plt.scatter(X[:,1,None][pos],X[:,2,None][pos],marker='+',color='orange',label='Admitted')\n",
    "plt.scatter(X[:,1,None][neg],X[:,2,None][neg],marker='o',color='red',label='Not Admitted')\n",
    "plt.plot(X[:,1],-(Theta[0]+(Theta[1]*X[:,1]))/Theta[2])\n",
    "plt.xlabel('Exam Marks1')\n",
    "plt.ylabel('Exam Marks2')\n",
    "plt.legend()"
   ]
  },
  {
   "cell_type": "markdown",
   "id": "adjusted-central",
   "metadata": {},
   "source": [
    "# Implementing regularization for overfitting"
   ]
  },
  {
   "cell_type": "code",
   "execution_count": 26,
   "id": "electrical-beginning",
   "metadata": {},
   "outputs": [],
   "source": [
    "####Loading Data######\n",
    "myData1 = np.loadtxt('data/ex2data2.txt',delimiter=',')"
   ]
  },
  {
   "cell_type": "code",
   "execution_count": 27,
   "id": "signal-glenn",
   "metadata": {},
   "outputs": [
    {
     "name": "stdout",
     "output_type": "stream",
     "text": [
      "<class 'numpy.ndarray'>\n",
      "(118, 3)\n"
     ]
    }
   ],
   "source": [
    "print(type(myData1))\n",
    "print(myData1.shape)\n"
   ]
  },
  {
   "cell_type": "code",
   "execution_count": 28,
   "id": "pressed-container",
   "metadata": {},
   "outputs": [
    {
     "name": "stdout",
     "output_type": "stream",
     "text": [
      "(118, 1)\n",
      "(118, 3)\n"
     ]
    }
   ],
   "source": [
    "###Adding interceptor term and separating labes and inputs\n",
    "X = myData1[:,:-1]\n",
    "X0 = np.ones((X.shape[0],1))\n",
    "X = np.append(X0,X,axis=1)\n",
    "y = myData1[:,-1,None]\n",
    "print(y.shape)\n",
    "print(X.shape)"
   ]
  },
  {
   "cell_type": "code",
   "execution_count": 29,
   "id": "single-outreach",
   "metadata": {},
   "outputs": [
    {
     "name": "stdout",
     "output_type": "stream",
     "text": [
      "[0. 1.]\n"
     ]
    }
   ],
   "source": [
    "print(np.unique(y))"
   ]
  },
  {
   "cell_type": "code",
   "execution_count": 30,
   "id": "wired-modeling",
   "metadata": {},
   "outputs": [
    {
     "data": {
      "text/plain": [
       "<matplotlib.legend.Legend at 0x1dac1a52ec8>"
      ]
     },
     "execution_count": 30,
     "metadata": {},
     "output_type": "execute_result"
    },
    {
     "data": {
      "image/png": "[encoded data removed]",
      "text/plain": [
       "<Figure size 720x720 with 1 Axes>"
      ]
     },
     "metadata": {
      "needs_background": "light"
     },
     "output_type": "display_data"
    }
   ],
   "source": [
    "###Plotting the inputs for label specific\n",
    "pos = y == 1\n",
    "neg = y == 0\n",
    "plt.scatter(X[:,1,None][pos],X[:,2,None][pos],color='orange',marker='+',label='positive')\n",
    "plt.scatter(X[:,1,None][neg],X[:,2,None][neg],color='green',label='negative')\n",
    "plt.legend()"
   ]
  },
  {
   "cell_type": "code",
   "execution_count": 111,
   "id": "hydraulic-paris",
   "metadata": {},
   "outputs": [],
   "source": [
    "###Feature mapping to degree 6.\n",
    "from sklearn.preprocessing import PolynomialFeatures\n",
    "feature_mapper = PolynomialFeatures(degree=8)\n",
    "X_fm = feature_mapper.fit_transform(X[:,1:])"
   ]
  },
  {
   "cell_type": "code",
   "execution_count": 112,
   "id": "speaking-switzerland",
   "metadata": {},
   "outputs": [
    {
     "name": "stdout",
     "output_type": "stream",
     "text": [
      "(118, 45)\n",
      "<bound method PolynomialFeatures.get_feature_names of PolynomialFeatures(degree=8)>\n"
     ]
    }
   ],
   "source": [
    "print(X_fm.shape)\n",
    "print(feature_mapper.get_feature_names)"
   ]
  },
  {
   "cell_type": "code",
   "execution_count": 48,
   "id": "incorrect-barrel",
   "metadata": {},
   "outputs": [],
   "source": [
    "def costFunction_reg(Theta,X,y,lambd):\n",
    "    # m -> Number of examples\n",
    "    m = X.shape[0]\n",
    "    # reshaping theta\n",
    "    Theta = Theta.reshape(X.shape[1],1)\n",
    "    \n",
    "    # Computing Hypothesis value\n",
    "    H = Sigmoid(np.dot(X,Theta))\n",
    "    #print(H.shape)\n",
    "    #Computing cost\n",
    "    assert(y.shape==H.shape)\n",
    "    J = - (np.dot(y.T,np.log(H)) + (np.dot(1-y.T,np.log(1-H))))/(m)\n",
    "    #Adding regularization value. Regularization should be execluded for interceptor term.\n",
    "    Jreg = np.sum(Theta[1:,:]**2)*(lambd/(2*m))\n",
    "    J = J + Jreg\n",
    "    \n",
    "    ###Gradient calculation\n",
    "    grads = np.dot(X.T,(H-y))/m\n",
    "    ###Adding regularization to grads\n",
    "    grads[1:,:] = grads[1:,:] +  (lambd/m)*Theta[1:,:]\n",
    "    \n",
    "    return J,grads"
   ]
  },
  {
   "cell_type": "code",
   "execution_count": 114,
   "id": "dominant-columbus",
   "metadata": {},
   "outputs": [],
   "source": [
    "initial_theta =np.zeros((X_fm.shape[1],1))\n",
    "lamd =1\n",
    "cost,grads = costFunction_reg(initial_theta,X_fm,y,lamd)"
   ]
  },
  {
   "cell_type": "code",
   "execution_count": 35,
   "id": "violent-fighter",
   "metadata": {},
   "outputs": [
    {
     "name": "stdout",
     "output_type": "stream",
     "text": [
      "[[0.69314718]]\n",
      "[[8.47457627e-03]\n",
      " [1.87880932e-02]\n",
      " [7.77711864e-05]\n",
      " [5.03446395e-02]\n",
      " [1.15013308e-02]]\n"
     ]
    }
   ],
   "source": [
    "print(cost)\n",
    "print(grads[0:5,:])"
   ]
  },
  {
   "cell_type": "code",
   "execution_count": 36,
   "id": "ordered-needle",
   "metadata": {},
   "outputs": [],
   "source": [
    "def computeGrad(Theta,X,y,lambd):\n",
    "    m = X.shape[0]\n",
    "    # reshaping theta\n",
    "    Theta = Theta.reshape(X.shape[1],1)\n",
    "    \n",
    "    # Computing Hypothesis value\n",
    "    H = Sigmoid(np.dot(X,Theta))\n",
    "    grads = np.dot(X.T,(H-y))/m\n",
    "    ###Adding regularization to grads\n",
    "    grads[1:,:] = grads[1:,:] +  (lambd/m)*Theta[1:,:]\n",
    "    return grads\n"
   ]
  },
  {
   "cell_type": "code",
   "execution_count": 37,
   "id": "olive-breakfast",
   "metadata": {},
   "outputs": [
    {
     "name": "stdout",
     "output_type": "stream",
     "text": [
      "(118, 1)\n",
      "cost [[3.16450933]]\n",
      "grads [[0.34604507]\n",
      " [0.16135192]\n",
      " [0.19479576]\n",
      " [0.22686278]\n",
      " [0.09218568]]\n"
     ]
    }
   ],
   "source": [
    "test_theta = np.ones((X_fm.shape[1],1))\n",
    "lamd =10\n",
    "cost,grad = costFunction_reg(test_theta,X_fm,y,lamd)\n",
    "print(\"cost \"+str(cost))\n",
    "print(\"grads \"+ str(grad[0:5,:]))"
   ]
  },
  {
   "cell_type": "code",
   "execution_count": 38,
   "id": "interim-consumption",
   "metadata": {},
   "outputs": [],
   "source": [
    "###Only compute Cost\n",
    "def computeCostOnly(Theta,X,y,lambd):\n",
    "     # m -> Number of examples\n",
    "    m = X.shape[0]\n",
    "    # reshaping theta\n",
    "    Theta = Theta.reshape(X.shape[1],1)\n",
    "   # print(lambd)\n",
    "    # Computing Hypothesis value\n",
    "    H = Sigmoid(np.dot(X,Theta))\n",
    "   # print(H.shape)\n",
    "    #Computing cost\n",
    "    assert(y.shape==H.shape)\n",
    "    J = - (np.dot(y.T,np.log(H)) + (np.dot(1-y.T,np.log(1-H))))/(m)\n",
    "    #Adding regularization value. Regularization should be execluded for interceptor term.\n",
    "    Jreg = np.sum(Theta[1:,:]**2)*(lambd/(2*m))\n",
    "    J = J + Jreg\n",
    "    \n",
    "    return J"
   ]
  },
  {
   "cell_type": "code",
   "execution_count": 39,
   "id": "recognized-valley",
   "metadata": {},
   "outputs": [],
   "source": [
    "#Linear Regression with Lambda \n",
    "learningrate=0.01\n",
    "lambd =1\n",
    "initial_theta =np.zeros((X_fm.shape[1],1))\n",
    "result = opt.fmin_tnc(func=computeCostOnly,x0=initial_theta,fprime=computeGrad ,args=(X_fm,y,lambd))"
   ]
  },
  {
   "cell_type": "code",
   "execution_count": 40,
   "id": "figured-latino",
   "metadata": {},
   "outputs": [
    {
     "name": "stdout",
     "output_type": "stream",
     "text": [
      "(array([ 1.27271026,  0.62529964,  1.18111686, -2.01987399, -0.91743189,\n",
      "       -1.43166928,  0.12393228, -0.36553119, -0.35725404, -0.17516291,\n",
      "       -1.4581701 , -0.05098418, -0.61558559, -0.27469166, -1.192713  ,\n",
      "       -0.2421784 , -0.20603302, -0.04466177, -0.27778947, -0.29539513,\n",
      "       -0.45645982, -1.04319154,  0.02779373, -0.29244864,  0.01555759,\n",
      "       -0.32742403, -0.14389149, -0.92467487]), 32, 1)\n"
     ]
    }
   ],
   "source": [
    "print(result)\n",
    "Theta = result[0].reshape(initial_theta.shape)"
   ]
  },
  {
   "cell_type": "code",
   "execution_count": 41,
   "id": "accredited-uniform",
   "metadata": {},
   "outputs": [],
   "source": [
    "p = predict(X_fm,Theta)"
   ]
  },
  {
   "cell_type": "code",
   "execution_count": 42,
   "id": "manual-publisher",
   "metadata": {},
   "outputs": [
    {
     "name": "stdout",
     "output_type": "stream",
     "text": [
      "0.8305084745762712\n"
     ]
    }
   ],
   "source": [
    "print(np.average(p==y))"
   ]
  },
  {
   "cell_type": "code",
   "execution_count": 46,
   "id": "functioning-casting",
   "metadata": {},
   "outputs": [],
   "source": [
    "####Implementing gradient descent\n",
    "def gradientDescent(Theta,X,y,learningrate,lambd,iterations):\n",
    "    # m -> number of examples\n",
    "    m = X.shape[0]\n",
    "    \n",
    "    #J -> cost for number of iterations\n",
    "    J = np.zeros((iterations,1))\n",
    "    \n",
    "    for i in range(iterations):\n",
    "        cost,grads =  costFunction_reg(Theta,X,y,lambd)\n",
    "        J[i] = cost\n",
    "        assert(Theta.shape==grads.shape)\n",
    "        Theta = Theta - (learningrate * grads) \n",
    "    \n",
    "    return Theta,J"
   ]
  },
  {
   "cell_type": "code",
   "execution_count": 120,
   "id": "extraordinary-cooking",
   "metadata": {},
   "outputs": [],
   "source": [
    "lambd =1\n",
    "learningrate=1\n",
    "iterations=150000\n",
    "Theta,J = gradientDescent(initial_theta,X_fm,y,learningrate,lambd,iterations)"
   ]
  },
  {
   "cell_type": "code",
   "execution_count": 121,
   "id": "loaded-statement",
   "metadata": {},
   "outputs": [
    {
     "data": {
      "text/plain": [
       "(45, 1)"
      ]
     },
     "execution_count": 121,
     "metadata": {},
     "output_type": "execute_result"
    }
   ],
   "source": [
    "Theta.shape"
   ]
  },
  {
   "cell_type": "code",
   "execution_count": 122,
   "id": "comic-absolute",
   "metadata": {},
   "outputs": [],
   "source": [
    "p = predict(X_fm,Theta)"
   ]
  },
  {
   "cell_type": "code",
   "execution_count": 123,
   "id": "warming-consultancy",
   "metadata": {},
   "outputs": [
    {
     "name": "stdout",
     "output_type": "stream",
     "text": [
      "Testing accuracy83.05084745762711\n"
     ]
    }
   ],
   "source": [
    "print(\"Testing accuracy\"+str (np.average(p==y) * 100))"
   ]
  },
  {
   "cell_type": "code",
   "execution_count": 124,
   "id": "super-nepal",
   "metadata": {},
   "outputs": [
    {
     "data": {
      "text/plain": [
       "[<matplotlib.lines.Line2D at 0x1dac5464a48>]"
      ]
     },
     "execution_count": 124,
     "metadata": {},
     "output_type": "execute_result"
    },
    {
     "data": {
      "image/png": "[encoded data removed]",
      "text/plain": [
       "<Figure size 720x720 with 1 Axes>"
      ]
     },
     "metadata": {
      "needs_background": "light"
     },
     "output_type": "display_data"
    }
   ],
   "source": [
    "plt.plot(J)"
   ]
  },
  {
   "cell_type": "code",
   "execution_count": null,
   "id": "every-biotechnology",
   "metadata": {},
   "outputs": [],
   "source": []
  },
  {
   "cell_type": "markdown",
   "id": "electrical-factor",
   "metadata": {},
   "source": [
    "# Implementing Logistic regression with Scikit library"
   ]
  },
  {
   "cell_type": "code",
   "execution_count": 131,
   "id": "united-speaking",
   "metadata": {},
   "outputs": [],
   "source": [
    "from sklearn.linear_model import LogisticRegression\n",
    "from sklearn.metrics import accuracy_score"
   ]
  },
  {
   "cell_type": "code",
   "execution_count": 126,
   "id": "checked-baker",
   "metadata": {},
   "outputs": [],
   "source": [
    "lr = LogisticRegression()"
   ]
  },
  {
   "cell_type": "code",
   "execution_count": 127,
   "id": "distant-sessions",
   "metadata": {},
   "outputs": [],
   "source": [
    "feature_mapper = PolynomialFeatures(degree=6)\n",
    "X_fm = feature_mapper.fit_transform(X[:,1:])"
   ]
  },
  {
   "cell_type": "code",
   "execution_count": 128,
   "id": "spoken-treat",
   "metadata": {},
   "outputs": [
    {
     "name": "stderr",
     "output_type": "stream",
     "text": [
      "D:\\Anaconda_Distribution\\envs\\newEnv\\lib\\site-packages\\sklearn\\utils\\validation.py:72: DataConversionWarning: A column-vector y was passed when a 1d array was expected. Please change the shape of y to (n_samples, ), for example using ravel().\n",
      "  return f(**kwargs)\n"
     ]
    },
    {
     "data": {
      "text/plain": [
       "LogisticRegression()"
      ]
     },
     "execution_count": 128,
     "metadata": {},
     "output_type": "execute_result"
    }
   ],
   "source": [
    "lr.fit(X_fm,y)"
   ]
  },
  {
   "cell_type": "code",
   "execution_count": 132,
   "id": "accepting-bishop",
   "metadata": {},
   "outputs": [],
   "source": [
    "y_pred =lr.predict(X_fm)"
   ]
  },
  {
   "cell_type": "code",
   "execution_count": 130,
   "id": "double-major",
   "metadata": {},
   "outputs": [
    {
     "data": {
      "text/plain": [
       "<bound method ClassifierMixin.score of LogisticRegression()>"
      ]
     },
     "execution_count": 130,
     "metadata": {},
     "output_type": "execute_result"
    }
   ],
   "source": [
    "lr.score"
   ]
  },
  {
   "cell_type": "code",
   "execution_count": 133,
   "id": "willing-baker",
   "metadata": {},
   "outputs": [
    {
     "data": {
      "text/plain": [
       "0.8305084745762712"
      ]
     },
     "execution_count": 133,
     "metadata": {},
     "output_type": "execute_result"
    }
   ],
   "source": [
    "accuracy_score(y,y_pred)"
   ]
  },
  {
   "cell_type": "code",
   "execution_count": 137,
   "id": "extreme-brain",
   "metadata": {},
   "outputs": [],
   "source": []
  },
  {
   "cell_type": "code",
   "execution_count": null,
   "id": "joint-singer",
   "metadata": {},
   "outputs": [],
   "source": []
  }
 ],
 "metadata": {
  "kernelspec": {
   "display_name": "Python 3",
   "language": "python",
   "name": "python3"
  },
  "language_info": {
   "codemirror_mode": {
    "name": "ipython",
    "version": 3
   },
   "file_extension": ".py",
   "mimetype": "text/x-python",
   "name": "python",
   "nbconvert_exporter": "python",
   "pygments_lexer": "ipython3",
   "version": "3.7.9"
  }
 },
 "nbformat": 4,
 "nbformat_minor": 5
}
