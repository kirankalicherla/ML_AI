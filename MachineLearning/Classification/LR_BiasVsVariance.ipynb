{
 "cells": [
  {
   "cell_type": "code",
   "execution_count": 135,
   "metadata": {},
   "outputs": [],
   "source": [
    "import numpy as np\n",
    "import scipy.io\n",
    "import matplotlib.pyplot as plt\n",
    "from sklearn.preprocessing import PolynomialFeatures"
   ]
  },
  {
   "cell_type": "code",
   "execution_count": 136,
   "metadata": {},
   "outputs": [],
   "source": [
    "data = scipy.io.loadmat(\"data/ex5data1.mat\")"
   ]
  },
  {
   "cell_type": "code",
   "execution_count": 137,
   "metadata": {},
   "outputs": [],
   "source": [
    "X = data[\"X\"]\n",
    "y = data[\"y\"]\n",
    "Xtest = data[\"Xtest\"]\n",
    "Xval = data[\"Xval\"]\n",
    "ytest = data[\"ytest\"]\n",
    "yval = data[\"yval\"]"
   ]
  },
  {
   "cell_type": "code",
   "execution_count": 138,
   "metadata": {},
   "outputs": [
    {
     "data": {
      "text/plain": [
       "Text(0, 0.5, 'Water flowing out of the dam')"
      ]
     },
     "execution_count": 138,
     "metadata": {},
     "output_type": "execute_result"
    },
    {
     "data": {
      "image/png": "[encoded data removed]",
      "text/plain": [
       "<Figure size 432x288 with 1 Axes>"
      ]
     },
     "metadata": {
      "needs_background": "light"
     },
     "output_type": "display_data"
    }
   ],
   "source": [
    "plt.scatter(X,y,marker=\"x\",color=\"red\")\n",
    "plt.xlabel(\"Change in water level\")\n",
    "plt.ylabel(\"Water flowing out of the dam\")"
   ]
  },
  {
   "cell_type": "code",
   "execution_count": 139,
   "metadata": {},
   "outputs": [],
   "source": [
    "X.shape , y.shape\n",
    "X = np.c_[np.ones((X.shape[0],1)),X]"
   ]
  },
  {
   "cell_type": "code",
   "execution_count": 140,
   "metadata": {},
   "outputs": [],
   "source": [
    "Xval = np.c_[np.ones((Xval.shape[0],1)),Xval]"
   ]
  },
  {
   "cell_type": "code",
   "execution_count": 141,
   "metadata": {},
   "outputs": [],
   "source": [
    "def Normalize_Feature(X):\n",
    "    X_norm = X.copy()\n",
    "    mean = np.mean(X[:,1:],axis=0)\n",
    "    sigma = np.std(X[:,1:],axis=0)\n",
    "    X_norm[:,1:] = (X[:,1:]-mean)/sigma\n",
    "    \n",
    "    return X_norm,mean,sigma"
   ]
  },
  {
   "cell_type": "code",
   "execution_count": 142,
   "metadata": {},
   "outputs": [
    {
     "name": "stdout",
     "output_type": "stream",
     "text": [
      "[-5.08542635]\n",
      "[28.68873076]\n"
     ]
    }
   ],
   "source": [
    "X_norm,mean,sigma = Normalize_Feature(X)\n",
    "#print(X_norm)\n",
    "print(mean)\n",
    "print(sigma)"
   ]
  },
  {
   "cell_type": "code",
   "execution_count": 143,
   "metadata": {},
   "outputs": [],
   "source": [
    "def compute_cost(Theta,X,y,lambd):\n",
    "    m = X.shape[0]\n",
    "    Theta = Theta.reshape(Theta.shape[0],1)\n",
    "    H = np.dot(Theta.T,X.T)\n",
    "    #print(Theta.shape)\n",
    "    J =  np.sum((H.T - y)**2)/(2*m) + np.sum(Theta[1:,:]**2)*(lambd/(2*m))\n",
    "    return J\n",
    "    \n",
    "    \n",
    "    "
   ]
  },
  {
   "cell_type": "code",
   "execution_count": 144,
   "metadata": {},
   "outputs": [],
   "source": [
    "def compute_grads(Theta,X,y,lambd):\n",
    "    \n",
    "    m = X.shape[0]\n",
    "    Theta = Theta.reshape(Theta.shape[0],1)\n",
    "    #print(Theta.shape)\n",
    "    grads = np.zeros((Theta.shape))\n",
    "    J = compute_cost(Theta,X,y,lambd)\n",
    "    H = np.dot(Theta.T,X.T)\n",
    "    grads =  np.dot((H.T - y).T,X).T/m\n",
    "    #print(grads.shape)\n",
    "    grads[1:,:] = grads[1:,:]+ (Theta[1:,:]*(lambd/m))\n",
    "    return grads"
   ]
  },
  {
   "cell_type": "code",
   "execution_count": 145,
   "metadata": {},
   "outputs": [],
   "source": [
    "import scipy.optimize as opt"
   ]
  },
  {
   "cell_type": "code",
   "execution_count": 146,
   "metadata": {},
   "outputs": [
    {
     "data": {
      "text/plain": [
       "303.9931922202643"
      ]
     },
     "execution_count": 146,
     "metadata": {},
     "output_type": "execute_result"
    }
   ],
   "source": [
    "theta = np.ones((X.shape[1],1))\n",
    "#\n",
    "J = compute_cost(theta,X,y,lambd=1)\n",
    "J"
   ]
  },
  {
   "cell_type": "code",
   "execution_count": 147,
   "metadata": {},
   "outputs": [],
   "source": [
    "grads = compute_grads(theta,X,y,1)"
   ]
  },
  {
   "cell_type": "code",
   "execution_count": 148,
   "metadata": {},
   "outputs": [
    {
     "data": {
      "text/plain": [
       "array([[-15.30301567],\n",
       "       [598.25074417]])"
      ]
     },
     "execution_count": 148,
     "metadata": {},
     "output_type": "execute_result"
    }
   ],
   "source": [
    "grads"
   ]
  },
  {
   "cell_type": "code",
   "execution_count": 149,
   "metadata": {},
   "outputs": [
    {
     "name": "stdout",
     "output_type": "stream",
     "text": [
      "(2, 1)\n"
     ]
    }
   ],
   "source": [
    "initial_theta = np.zeros((X.shape[1],1))\n",
    "learningrate = 0\n",
    "print(initial_theta.shape)\n",
    "result = opt.fmin_tnc(func=compute_cost,x0=initial_theta,fprime=compute_grads ,args=(X,y,learningrate))"
   ]
  },
  {
   "cell_type": "code",
   "execution_count": 150,
   "metadata": {},
   "outputs": [],
   "source": [
    "Theta = result[0].reshape(initial_theta.shape)"
   ]
  },
  {
   "cell_type": "code",
   "execution_count": 151,
   "metadata": {},
   "outputs": [
    {
     "data": {
      "text/plain": [
       "(2, 1)"
      ]
     },
     "execution_count": 151,
     "metadata": {},
     "output_type": "execute_result"
    }
   ],
   "source": [
    "Theta.shape"
   ]
  },
  {
   "cell_type": "code",
   "execution_count": 152,
   "metadata": {},
   "outputs": [],
   "source": [
    "y_pred = np.dot(Theta.T,X.T)"
   ]
  },
  {
   "cell_type": "code",
   "execution_count": 153,
   "metadata": {},
   "outputs": [
    {
     "data": {
      "text/plain": [
       "Text(0, 0.5, 'Water flowing out of the dam')"
      ]
     },
     "execution_count": 153,
     "metadata": {},
     "output_type": "execute_result"
    },
    {
     "data": {
      "image/png": "[encoded data removed]",
      "text/plain": [
       "<Figure size 432x288 with 1 Axes>"
      ]
     },
     "metadata": {
      "needs_background": "light"
     },
     "output_type": "display_data"
    }
   ],
   "source": [
    "plt.scatter(X[:,1],y,marker=\"x\",color=\"red\")\n",
    "plt.plot(X[:,1],y_pred.T)\n",
    "plt.xlabel(\"Change in water level\")\n",
    "plt.ylabel(\"Water flowing out of the dam\")"
   ]
  },
  {
   "cell_type": "code",
   "execution_count": 154,
   "metadata": {},
   "outputs": [],
   "source": [
    "def train_LinearReg(X,y,lambd):\n",
    "    initial_theta = np.zeros((X.shape[1],1))\n",
    "    learningrate = lambd\n",
    "    #print(initial_theta.shape)\n",
    "    result = opt.fmin_tnc(func=compute_cost,x0=initial_theta,fprime=compute_grads ,args=(X,y,learningrate))\n",
    "    return result[0].reshape(initial_theta.shape)"
   ]
  },
  {
   "cell_type": "code",
   "execution_count": 155,
   "metadata": {},
   "outputs": [],
   "source": [
    "def learningCurve(X,y,Xval,yval,lambd):\n",
    "    m = X.shape[0]\n",
    "    error_train = np.zeros((m,1))\n",
    "    error_val = np.zeros((m,1))\n",
    "    \n",
    "    for i in range(0,m):\n",
    "        Theta = train_LinearReg(X[0:i+1,:],y[0:i+1,:],lambd)\n",
    "        error_train[i,0] = compute_cost(Theta,X[0:i+1,:],y[0:i+1,:],0)\n",
    "        error_val[i,0] = compute_cost(Theta,Xval,yval,0)\n",
    "    \n",
    "    return error_train,error_val"
   ]
  },
  {
   "cell_type": "code",
   "execution_count": 156,
   "metadata": {},
   "outputs": [],
   "source": [
    "###Learning curve for Linear Regression#####\n",
    "lambd = 0\n",
    "error_train,error_val = learningCurve(X,y,Xval,yval,lambd)"
   ]
  },
  {
   "cell_type": "code",
   "execution_count": 157,
   "metadata": {},
   "outputs": [
    {
     "data": {
      "text/plain": [
       "<matplotlib.legend.Legend at 0x1beead5c788>"
      ]
     },
     "execution_count": 157,
     "metadata": {},
     "output_type": "execute_result"
    },
    {
     "data": {
      "image/png": "[encoded data removed]",
      "text/plain": [
       "<Figure size 432x288 with 1 Axes>"
      ]
     },
     "metadata": {
      "needs_background": "light"
     },
     "output_type": "display_data"
    }
   ],
   "source": [
    "plt.plot(error_train,label=\"Train\")\n",
    "plt.plot(error_val,label=\"Cross Validation\")\n",
    "plt.xlabel(\"Number of Training Examples\")\n",
    "plt.ylabel(\"Error\")\n",
    "plt.title(\"Learning Curve for Linear Regression\")\n",
    "plt.legend(loc=\"upper right\")"
   ]
  },
  {
   "cell_type": "code",
   "execution_count": 158,
   "metadata": {},
   "outputs": [],
   "source": [
    "####Poly Features######\n",
    "feature_mapper = PolynomialFeatures(degree=8)\n",
    "X_fm = feature_mapper.fit_transform(X[:,1:])"
   ]
  },
  {
   "cell_type": "code",
   "execution_count": 159,
   "metadata": {},
   "outputs": [],
   "source": [
    "Xval_fm = feature_mapper.fit_transform(Xval[:,1:])"
   ]
  },
  {
   "cell_type": "code",
   "execution_count": 160,
   "metadata": {},
   "outputs": [],
   "source": [
    "Xtest_fm = feature_mapper.fit_transform(Xtest)"
   ]
  },
  {
   "cell_type": "code",
   "execution_count": 161,
   "metadata": {},
   "outputs": [],
   "source": [
    "X_fm_norm,mu,sigma = Normalize_Feature(X_fm)"
   ]
  },
  {
   "cell_type": "code",
   "execution_count": 162,
   "metadata": {},
   "outputs": [],
   "source": [
    "Xval_fm_norm = Xval_fm.copy()\n",
    "Xtest_fm_norm = Xtest_fm.copy()\n",
    "Xval_fm_norm[:,1:] = (Xval_fm[:,1:]-mu)/sigma\n",
    "Xtest_fm_norm[:,1:] = (Xtest_fm[:,1:]-mu)/sigma"
   ]
  },
  {
   "cell_type": "code",
   "execution_count": 163,
   "metadata": {},
   "outputs": [],
   "source": [
    "lambd=0\n",
    "Theta = train_LinearReg(X_fm_norm,y,lambd)"
   ]
  },
  {
   "cell_type": "code",
   "execution_count": 164,
   "metadata": {},
   "outputs": [
    {
     "data": {
      "text/plain": [
       "Text(0, 0.5, 'Water flowing out of the dam')"
      ]
     },
     "execution_count": 164,
     "metadata": {},
     "output_type": "execute_result"
    },
    {
     "data": {
      "image/png": "[encoded data removed]",
      "text/plain": [
       "<Figure size 432x288 with 1 Axes>"
      ]
     },
     "metadata": {
      "needs_background": "light"
     },
     "output_type": "display_data"
    }
   ],
   "source": [
    "#plt.scatter(X_fm_norm[:,1],y)\n",
    "plt.scatter(X[:,1],y,marker=\"x\",color=\"red\")\n",
    "plt.scatter(X[:,1],X_fm_norm@Theta,color=\"blue\",marker=\"+\")\n",
    "plt.xlabel(\"Change in water level\")\n",
    "plt.ylabel(\"Water flowing out of the dam\")"
   ]
  },
  {
   "cell_type": "code",
   "execution_count": null,
   "metadata": {},
   "outputs": [],
   "source": []
  },
  {
   "cell_type": "code",
   "execution_count": 165,
   "metadata": {},
   "outputs": [],
   "source": [
    "def plot_learningCurve(error_train,error_val,lambd):\n",
    "    plt.plot(error_train,label=\"Train\")\n",
    "    plt.plot(error_val,label=\"Cross Validation\")\n",
    "    plt.xlabel(\"Number of Training Examples\")\n",
    "    plt.ylabel(\"Error\")\n",
    "    plt.title(\"Polynomial Regression Curve lambda=\"+str(lambd))\n",
    "    plt.legend(loc=\"upper right\")"
   ]
  },
  {
   "cell_type": "code",
   "execution_count": 166,
   "metadata": {},
   "outputs": [
    {
     "data": {
      "image/png": "[encoded data removed]",
      "text/plain": [
       "<Figure size 432x288 with 1 Axes>"
      ]
     },
     "metadata": {
      "needs_background": "light"
     },
     "output_type": "display_data"
    }
   ],
   "source": [
    "lambd = 1\n",
    "error_train,error_val = learningCurve(X_fm_norm,y,Xval_fm_norm,yval,lambd)\n",
    "plot_learningCurve(error_train,error_val,lambd)"
   ]
  },
  {
   "cell_type": "code",
   "execution_count": 167,
   "metadata": {},
   "outputs": [
    {
     "data": {
      "image/png": "[encoded data removed]",
      "text/plain": [
       "<Figure size 432x288 with 1 Axes>"
      ]
     },
     "metadata": {
      "needs_background": "light"
     },
     "output_type": "display_data"
    }
   ],
   "source": [
    "lambd = 100\n",
    "error_train,error_val = learningCurve(X_fm_norm,y,Xval_fm_norm,yval,lambd)\n",
    "plot_learningCurve(error_train,error_val,lambd)"
   ]
  },
  {
   "cell_type": "code",
   "execution_count": 168,
   "metadata": {},
   "outputs": [],
   "source": [
    "def validation_curve(lambd_vec,X,y,Xval,yval):\n",
    "    error_train = np.zeros((len(lambd_vec),1))\n",
    "    error_val = np.zeros((len(lambd_vec),1))\n",
    "    for i in range(len(lambd_vec)):\n",
    "        lambd = lambd_vec[i]\n",
    "        Theta = train_LinearReg(X,y,lambd)\n",
    "        error_train[i] = compute_cost(Theta,X,y,0)\n",
    "        error_val[i] = compute_cost(Theta,Xval,yval,0)\n",
    "    \n",
    "    return error_train,error_val\n",
    "        "
   ]
  },
  {
   "cell_type": "code",
   "execution_count": 169,
   "metadata": {},
   "outputs": [],
   "source": [
    "#Selecting the proper learning rate####\n",
    "lambd_vec = [0 ,0.001, 0.003, 0.01, 0.03 ,0.1 ,0.3, 1, 3, 10]\n",
    "error_train,error_val = validation_curve(lambd_vec,X_fm_norm,y,Xval_fm_norm,yval)"
   ]
  },
  {
   "cell_type": "code",
   "execution_count": 170,
   "metadata": {},
   "outputs": [
    {
     "data": {
      "text/plain": [
       "Text(0, 0.5, 'Error')"
      ]
     },
     "execution_count": 170,
     "metadata": {},
     "output_type": "execute_result"
    },
    {
     "data": {
      "image/png": "[encoded data removed]",
      "text/plain": [
       "<Figure size 432x288 with 1 Axes>"
      ]
     },
     "metadata": {
      "needs_background": "light"
     },
     "output_type": "display_data"
    }
   ],
   "source": [
    "plt.plot(lambd_vec,error_train,label=\"Train\")\n",
    "plt.plot(lambd_vec,error_val,label=\"Validation\")\n",
    "plt.legend(loc=\"upper right\")\n",
    "plt.xlabel(\"Lambda\")\n",
    "plt.ylabel(\"Error\")"
   ]
  },
  {
   "cell_type": "code",
   "execution_count": 171,
   "metadata": {},
   "outputs": [],
   "source": [
    "Theta = train_LinearReg(X_fm_norm,y,lambd=3)\n",
    "testError = compute_cost(Theta,Xtest_fm_norm,ytest,lambd=0)"
   ]
  },
  {
   "cell_type": "code",
   "execution_count": 172,
   "metadata": {},
   "outputs": [
    {
     "data": {
      "text/plain": [
       "3.5720422600742303"
      ]
     },
     "execution_count": 172,
     "metadata": {},
     "output_type": "execute_result"
    }
   ],
   "source": [
    "testError"
   ]
  },
  {
   "cell_type": "code",
   "execution_count": null,
   "metadata": {},
   "outputs": [],
   "source": []
  }
 ],
 "metadata": {
  "kernelspec": {
   "display_name": "Python 3",
   "language": "python",
   "name": "python3"
  },
  "language_info": {
   "codemirror_mode": {
    "name": "ipython",
    "version": 3
   },
   "file_extension": ".py",
   "mimetype": "text/x-python",
   "name": "python",
   "nbconvert_exporter": "python",
   "pygments_lexer": "ipython3",
   "version": "3.7.9"
  }
 },
 "nbformat": 4,
 "nbformat_minor": 4
}
