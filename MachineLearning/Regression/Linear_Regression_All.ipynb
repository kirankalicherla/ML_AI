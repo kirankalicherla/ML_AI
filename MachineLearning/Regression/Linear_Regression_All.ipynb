{
 "cells": [
  {
   "cell_type": "markdown",
   "id": "dedicated-poland",
   "metadata": {},
   "source": [
    "# Implementing Linear Regression using Numpy"
   ]
  },
  {
   "cell_type": "code",
   "execution_count": 1,
   "id": "controversial-husband",
   "metadata": {},
   "outputs": [],
   "source": [
    "import numpy as np\n",
    "import matplotlib.pyplot as plt\n",
    "%matplotlib inline"
   ]
  },
  {
   "cell_type": "code",
   "execution_count": 2,
   "id": "tested-stockholm",
   "metadata": {},
   "outputs": [],
   "source": [
    "#Loading Data using np.loadText\n",
    "my_data = np.loadtxt('data/ex1data1.txt',delimiter=',') "
   ]
  },
  {
   "cell_type": "code",
   "execution_count": 3,
   "id": "excessive-manor",
   "metadata": {},
   "outputs": [
    {
     "name": "stdout",
     "output_type": "stream",
     "text": [
      "<class 'numpy.ndarray'>\n",
      "(97, 2)\n"
     ]
    }
   ],
   "source": [
    "print(type(my_data))\n",
    "print(my_data.shape)"
   ]
  },
  {
   "cell_type": "code",
   "execution_count": 4,
   "id": "different-evanescence",
   "metadata": {},
   "outputs": [],
   "source": [
    "##Adding interceptor term X0\n",
    "my_final_data = np.concatenate((np.ones((my_data.shape[0],1)),my_data),axis=1)"
   ]
  },
  {
   "cell_type": "code",
   "execution_count": 5,
   "id": "tropical-printer",
   "metadata": {},
   "outputs": [
    {
     "name": "stdout",
     "output_type": "stream",
     "text": [
      "<class 'numpy.ndarray'>\n",
      "(97, 3)\n"
     ]
    }
   ],
   "source": [
    "print(type(my_final_data))\n",
    "print(my_final_data.shape)"
   ]
  },
  {
   "cell_type": "code",
   "execution_count": 6,
   "id": "wireless-roman",
   "metadata": {},
   "outputs": [],
   "source": [
    "###Extracting Features from my data\n",
    "X = my_final_data[:,:-1]\n",
    "y = my_final_data[:,-1].reshape(my_final_data.shape[0],1)"
   ]
  },
  {
   "cell_type": "code",
   "execution_count": 7,
   "id": "prescription-fifty",
   "metadata": {},
   "outputs": [
    {
     "data": {
      "text/plain": [
       "((97, 1), (97, 2))"
      ]
     },
     "execution_count": 7,
     "metadata": {},
     "output_type": "execute_result"
    }
   ],
   "source": [
    "y.shape,X.shape"
   ]
  },
  {
   "cell_type": "code",
   "execution_count": 8,
   "id": "thick-mortgage",
   "metadata": {},
   "outputs": [],
   "source": [
    "#my_final_data"
   ]
  },
  {
   "cell_type": "code",
   "execution_count": 9,
   "id": "indirect-emission",
   "metadata": {},
   "outputs": [],
   "source": [
    "##Plotting the scatter plot of X1 feature\n",
    "def plotScatter(X,d,y):\n",
    "    plt.scatter(X[:,d],y,color=\"r\",marker=\"*\")\n",
    "    plt.xlabel(\"Population\")\n",
    "    plt.ylabel(\"Profit in USD\")\n",
    "    plt.title(\"Plotting the USA GDP\")"
   ]
  },
  {
   "cell_type": "code",
   "execution_count": 10,
   "id": "several-large",
   "metadata": {},
   "outputs": [
    {
     "data": {
      "image/png": "[encoded data removed]",
      "text/plain": [
       "<Figure size 432x288 with 1 Axes>"
      ]
     },
     "metadata": {
      "needs_background": "light"
     },
     "output_type": "display_data"
    }
   ],
   "source": [
    "plotScatter(X,1,y)"
   ]
  },
  {
   "cell_type": "code",
   "execution_count": 11,
   "id": "coral-bobby",
   "metadata": {},
   "outputs": [
    {
     "name": "stdout",
     "output_type": "stream",
     "text": [
      "[[0.]\n",
      " [0.]]\n",
      "(2, 1)\n"
     ]
    }
   ],
   "source": [
    "###Initializing the Parameters Theta to Number of Features\n",
    "Theta = np.zeros(shape=(X.shape[1],1))\n",
    "print(Theta)\n",
    "print(Theta.shape)"
   ]
  },
  {
   "cell_type": "code",
   "execution_count": 12,
   "id": "honey-sucking",
   "metadata": {},
   "outputs": [],
   "source": [
    "#####Compute the Cost \"J\" for Gradient Descent #####\n",
    "##Inputs to the function are Theta,X,y\n",
    "###X is in (n,d) shape,y is in (n,1) shape , Theta is in (d,1) shape\n",
    "### n - number of examples,d- number of features(dimensions)\n",
    "def computeCost(Theta,X,y):\n",
    "    #print(X.shape)\n",
    "    #print(y.shape)\n",
    "    m = X.shape[0]\n",
    "    J = 1/(2*m) * np.sum( np.square(np.dot(X,Theta) - y))\n",
    "    return J\n",
    "    "
   ]
  },
  {
   "cell_type": "code",
   "execution_count": 13,
   "id": "nominated-norman",
   "metadata": {},
   "outputs": [
    {
     "name": "stdout",
     "output_type": "stream",
     "text": [
      "32.072733877455676\n",
      "cost: 54.24245508201238\n"
     ]
    }
   ],
   "source": [
    "#print(X.T.shape)\n",
    "cost = computeCost(Theta,X,y)\n",
    "print(cost)\n",
    "###Computing furthur cost.\n",
    "cost = computeCost(np.array([[-1],[2]]),X,y)\n",
    "print(\"cost:\",cost)"
   ]
  },
  {
   "cell_type": "code",
   "execution_count": 14,
   "id": "defensive-nightmare",
   "metadata": {},
   "outputs": [],
   "source": [
    "###Normalization of Inputs\n",
    "###Xnorm = X-mean/std\n",
    "### Normalization should be excluded for Interceptor X0\n",
    "### Standard Normalization helps to converge fast in Gradient Descent\n",
    "def Standard_Normalization(X):\n",
    "    mean = np.mean(X,axis=0,keepdims=True)\n",
    "    mean[0,0] = 0\n",
    "    std = np.std(X,axis=0,keepdims=True)\n",
    "    std[0,0] = 1\n",
    "    X_norm = (X-mean)/std\n",
    "    return mean,std,X_norm"
   ]
  },
  {
   "cell_type": "code",
   "execution_count": 15,
   "id": "attached-progressive",
   "metadata": {},
   "outputs": [],
   "source": [
    "Xmean,Xstd,X_norm = Standard_Normalization(X)"
   ]
  },
  {
   "cell_type": "code",
   "execution_count": 16,
   "id": "associate-albert",
   "metadata": {},
   "outputs": [
    {
     "name": "stdout",
     "output_type": "stream",
     "text": [
      "[[0.     8.1598]]\n",
      "[[1.       3.849884]]\n"
     ]
    }
   ],
   "source": [
    "print(Xmean)\n",
    "print(Xstd)"
   ]
  },
  {
   "cell_type": "code",
   "execution_count": 17,
   "id": "weird-animation",
   "metadata": {},
   "outputs": [],
   "source": [
    "##Calculate the J for every iteration , it will help to plot the gradient descent (Cost vs Number of iterations)\n",
    "##Cost should decrease for every iteration\n",
    "## X is in (n,d), y in (n,1) , Theta in (d,1) shape\n",
    "def GradientDescent(X,y,Theta,alpha,iterations):\n",
    "    m = X.shape[0]\n",
    "    J = np.zeros((iterations,1))\n",
    "    \n",
    "    for i in range(iterations):\n",
    "        H = np.dot(X,Theta)\n",
    "        assert(H.shape==y.shape)\n",
    "        Theta =  Theta + (alpha/m) * np.dot(X.T,(y-H))\n",
    "        J[i] = computeCost(Theta,X,y)\n",
    "    \n",
    "    return J,Theta\n",
    "    "
   ]
  },
  {
   "cell_type": "code",
   "execution_count": 18,
   "id": "turned-swedish",
   "metadata": {},
   "outputs": [],
   "source": [
    "Theta = np.zeros((X.shape[1],1))\n",
    "Xmean,Xstd,X_norm = Standard_Normalization(X)\n",
    "J,Theta = GradientDescent(X_norm,y,Theta,alpha=0.01,iterations=1500)"
   ]
  },
  {
   "cell_type": "code",
   "execution_count": 19,
   "id": "measured-magic",
   "metadata": {},
   "outputs": [
    {
     "name": "stdout",
     "output_type": "stream",
     "text": [
      "[[5.8391334 ]\n",
      " [4.59303983]]\n",
      "[[0.     8.1598]]\n",
      "[[1.       3.849884]]\n"
     ]
    }
   ],
   "source": [
    "print(Theta)\n",
    "print(Xmean)\n",
    "print(Xstd)"
   ]
  },
  {
   "cell_type": "code",
   "execution_count": 20,
   "id": "white-damages",
   "metadata": {},
   "outputs": [],
   "source": [
    "###Plotting linear fit to the X1\n",
    "def plotLinearFit(X,d,y,Xnorm,Theta):\n",
    "    plt.scatter(X[:,d],y,color='r',marker='*')\n",
    "    plt.xlabel('population')\n",
    "    plt.ylabel('profit in USD')\n",
    "    plt.plot(X[:,1],np.dot(Xnorm,Theta))"
   ]
  },
  {
   "cell_type": "code",
   "execution_count": 21,
   "id": "numeric-daily",
   "metadata": {},
   "outputs": [
    {
     "name": "stdout",
     "output_type": "stream",
     "text": [
      "(1500, 1)\n"
     ]
    },
    {
     "data": {
      "image/png": "[encoded data removed]",
      "text/plain": [
       "<Figure size 432x288 with 1 Axes>"
      ]
     },
     "metadata": {
      "needs_background": "light"
     },
     "output_type": "display_data"
    }
   ],
   "source": [
    "plotLinearFit(X,1,y,X_norm,Theta)\n",
    "print(J.shape)"
   ]
  },
  {
   "cell_type": "code",
   "execution_count": 22,
   "id": "basic-lawyer",
   "metadata": {},
   "outputs": [],
   "source": [
    "###Plotting cost function with number of iterations\n",
    "def plotCost(J):\n",
    "    plt.plot(J)\n",
    "    plt.xlabel(\"Number of Iterations\")\n",
    "    plt.ylabel(\"Cost(J)\")\n",
    "    plt.title(\"Cost function\")"
   ]
  },
  {
   "cell_type": "code",
   "execution_count": 23,
   "id": "later-model",
   "metadata": {},
   "outputs": [
    {
     "data": {
      "image/png": "[encoded data removed]",
      "text/plain": [
       "<Figure size 432x288 with 1 Axes>"
      ]
     },
     "metadata": {
      "needs_background": "light"
     },
     "output_type": "display_data"
    }
   ],
   "source": [
    "plotCost(J)"
   ]
  },
  {
   "cell_type": "code",
   "execution_count": 24,
   "id": "composed-radius",
   "metadata": {},
   "outputs": [],
   "source": [
    "######Implemeting Linear Regression for Multiple features.\n",
    "my_data_mul = np.loadtxt('data/ex1data2.txt',delimiter=',')"
   ]
  },
  {
   "cell_type": "code",
   "execution_count": 25,
   "id": "concerned-bermuda",
   "metadata": {},
   "outputs": [
    {
     "name": "stdout",
     "output_type": "stream",
     "text": [
      "(47, 3)\n",
      "<class 'numpy.ndarray'>\n"
     ]
    }
   ],
   "source": [
    "print(my_data_mul.shape)\n",
    "print(type(my_data_mul))"
   ]
  },
  {
   "cell_type": "code",
   "execution_count": 26,
   "id": "backed-wisdom",
   "metadata": {},
   "outputs": [
    {
     "name": "stdout",
     "output_type": "stream",
     "text": [
      "(47, 4)\n"
     ]
    }
   ],
   "source": [
    "####Adding interceptor term X0\n",
    "my_data_mulFinal = np.concatenate((np.ones((my_data_mul.shape[0],1)),my_data_mul),axis=1)\n",
    "print(my_data_mulFinal.shape)"
   ]
  },
  {
   "cell_type": "code",
   "execution_count": 27,
   "id": "closed-trauma",
   "metadata": {},
   "outputs": [],
   "source": [
    "X = my_data_mulFinal[:,:-1]\n",
    "y = my_data_mulFinal[:,-1].reshape((X.shape[0],1))"
   ]
  },
  {
   "cell_type": "code",
   "execution_count": 28,
   "id": "interstate-regression",
   "metadata": {},
   "outputs": [
    {
     "data": {
      "image/png": "[encoded data removed]",
      "text/plain": [
       "<Figure size 432x288 with 1 Axes>"
      ]
     },
     "metadata": {
      "needs_background": "light"
     },
     "output_type": "display_data"
    }
   ],
   "source": [
    "plotScatter(X,1,y)"
   ]
  },
  {
   "cell_type": "code",
   "execution_count": 29,
   "id": "thermal-coral",
   "metadata": {},
   "outputs": [
    {
     "name": "stdout",
     "output_type": "stream",
     "text": [
      "[[   0.         2000.68085106    3.17021277]]\n",
      "[[1.00000000e+00 7.86202619e+02 7.52842809e-01]]\n",
      "(47, 3)\n"
     ]
    }
   ],
   "source": [
    "Xmean,Xstd,X_norm = Standard_Normalization(X)\n",
    "print(Xmean)\n",
    "print(Xstd)\n",
    "print(X_norm.shape)"
   ]
  },
  {
   "cell_type": "code",
   "execution_count": 30,
   "id": "humanitarian-sherman",
   "metadata": {},
   "outputs": [],
   "source": [
    "Theta = np.zeros((X.shape[1],1))\n",
    "J,Theta = GradientDescent(X_norm,y,Theta,alpha=0.01,iterations=1500)"
   ]
  },
  {
   "cell_type": "code",
   "execution_count": 31,
   "id": "compressed-enemy",
   "metadata": {},
   "outputs": [
    {
     "name": "stdout",
     "output_type": "stream",
     "text": [
      "[[340412.56301439]\n",
      " [109370.05670466]\n",
      " [ -6500.61509507]]\n"
     ]
    }
   ],
   "source": [
    "print(Theta)"
   ]
  },
  {
   "cell_type": "code",
   "execution_count": 32,
   "id": "popular-student",
   "metadata": {},
   "outputs": [
    {
     "data": {
      "image/png": "[encoded data removed]",
      "text/plain": [
       "<Figure size 432x288 with 1 Axes>"
      ]
     },
     "metadata": {
      "needs_background": "light"
     },
     "output_type": "display_data"
    }
   ],
   "source": [
    "###Plottng fitline\n",
    "plotLinearFit(X,1,y,X_norm,Theta)"
   ]
  },
  {
   "cell_type": "code",
   "execution_count": 33,
   "id": "excessive-pharmacy",
   "metadata": {},
   "outputs": [
    {
     "data": {
      "image/png": "[encoded data removed]",
      "text/plain": [
       "<Figure size 432x288 with 1 Axes>"
      ]
     },
     "metadata": {
      "needs_background": "light"
     },
     "output_type": "display_data"
    }
   ],
   "source": [
    "##Plotting cost function\n",
    "plotCost(J)"
   ]
  },
  {
   "cell_type": "code",
   "execution_count": 34,
   "id": "removable-nursery",
   "metadata": {},
   "outputs": [
    {
     "name": "stdout",
     "output_type": "stream",
     "text": [
      "predicted price [[293098.46667577]]\n"
     ]
    }
   ],
   "source": [
    "###Predicting the new value\n",
    "x_test = np.array([[1,1650,3]])\n",
    "x_test_norm = (x_test-Xmean)/Xstd\n",
    "predict = np.dot(x_test_norm,Theta)\n",
    "print(\"predicted price \"+str(predict))"
   ]
  },
  {
   "cell_type": "code",
   "execution_count": 35,
   "id": "essential-oxford",
   "metadata": {},
   "outputs": [],
   "source": [
    "#####Implementing Normal Equations\n",
    "####Here no Normalization of Features/Inputs\n",
    "####Single formula (X.T*X)-1*(X.T*y)\n",
    "#####(dxn*nxd)*(dxn*nx1)=(dx1)\n",
    "A = np.linalg.pinv(np.dot(X.T,X))\n",
    "B = np.dot(X.T,y)\n",
    "Theta_N = np.dot(A,B)"
   ]
  },
  {
   "cell_type": "code",
   "execution_count": 36,
   "id": "associate-bracket",
   "metadata": {},
   "outputs": [
    {
     "name": "stdout",
     "output_type": "stream",
     "text": [
      "[[89597.90954361]\n",
      " [  139.21067402]\n",
      " [-8738.01911255]]\n"
     ]
    }
   ],
   "source": [
    "print(Theta_N)"
   ]
  },
  {
   "cell_type": "code",
   "execution_count": 37,
   "id": "affected-comparative",
   "metadata": {},
   "outputs": [
    {
     "name": "stdout",
     "output_type": "stream",
     "text": [
      "[[293081.46433499]]\n"
     ]
    }
   ],
   "source": [
    "predictN = np.dot(x_test,Theta_N)\n",
    "print(predictN)"
   ]
  },
  {
   "cell_type": "markdown",
   "id": "double-coordination",
   "metadata": {},
   "source": [
    "# Implemeting Linear Regression with SKlearn Libraries"
   ]
  },
  {
   "cell_type": "code",
   "execution_count": 38,
   "id": "living-boost",
   "metadata": {},
   "outputs": [],
   "source": [
    "###Importing Libraries from Scikit \n",
    "from sklearn.linear_model import LinearRegression"
   ]
  },
  {
   "cell_type": "code",
   "execution_count": 39,
   "id": "abandoned-warren",
   "metadata": {},
   "outputs": [],
   "source": [
    "lr = LinearRegression()"
   ]
  },
  {
   "cell_type": "code",
   "execution_count": 40,
   "id": "duplicate-marking",
   "metadata": {},
   "outputs": [
    {
     "data": {
      "text/plain": [
       "LinearRegression()"
      ]
     },
     "execution_count": 40,
     "metadata": {},
     "output_type": "execute_result"
    }
   ],
   "source": [
    "lr.fit(X_norm,y)"
   ]
  },
  {
   "cell_type": "code",
   "execution_count": 41,
   "id": "terminal-effectiveness",
   "metadata": {},
   "outputs": [
    {
     "data": {
      "text/plain": [
       "{'copy_X': True, 'fit_intercept': True, 'n_jobs': None, 'normalize': False}"
      ]
     },
     "execution_count": 41,
     "metadata": {},
     "output_type": "execute_result"
    }
   ],
   "source": [
    "lr.get_params()"
   ]
  },
  {
   "cell_type": "code",
   "execution_count": 42,
   "id": "primary-lodging",
   "metadata": {},
   "outputs": [
    {
     "data": {
      "text/plain": [
       "array([[     0.        , 109447.79646964,  -6578.35485416]])"
      ]
     },
     "execution_count": 42,
     "metadata": {},
     "output_type": "execute_result"
    }
   ],
   "source": [
    "lr.coef_"
   ]
  },
  {
   "cell_type": "code",
   "execution_count": 43,
   "id": "imperial-korea",
   "metadata": {},
   "outputs": [],
   "source": [
    "pred = lr.predict(x_test_norm)"
   ]
  },
  {
   "cell_type": "code",
   "execution_count": 44,
   "id": "infectious-assistant",
   "metadata": {},
   "outputs": [
    {
     "data": {
      "text/plain": [
       "array([[293081.4643349]])"
      ]
     },
     "execution_count": 44,
     "metadata": {},
     "output_type": "execute_result"
    }
   ],
   "source": [
    "pred"
   ]
  },
  {
   "cell_type": "code",
   "execution_count": 45,
   "id": "above-chapel",
   "metadata": {},
   "outputs": [
    {
     "data": {
      "text/plain": [
       "2"
      ]
     },
     "execution_count": 45,
     "metadata": {},
     "output_type": "execute_result"
    }
   ],
   "source": [
    "lr.rank_"
   ]
  },
  {
   "cell_type": "code",
   "execution_count": null,
   "id": "geographic-williams",
   "metadata": {},
   "outputs": [],
   "source": []
  }
 ],
 "metadata": {
  "kernelspec": {
   "display_name": "Python 3",
   "language": "python",
   "name": "python3"
  },
  "language_info": {
   "codemirror_mode": {
    "name": "ipython",
    "version": 3
   },
   "file_extension": ".py",
   "mimetype": "text/x-python",
   "name": "python",
   "nbconvert_exporter": "python",
   "pygments_lexer": "ipython3",
   "version": "3.7.9"
  }
 },
 "nbformat": 4,
 "nbformat_minor": 5
}
