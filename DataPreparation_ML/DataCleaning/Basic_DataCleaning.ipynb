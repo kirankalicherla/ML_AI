{
 "cells": [
  {
   "cell_type": "markdown",
   "id": "innocent-wheel",
   "metadata": {},
   "source": [
    "### 1. Identify columns that contain a single value"
   ]
  },
  {
   "cell_type": "code",
   "execution_count": 3,
   "id": "behavioral-clearance",
   "metadata": {},
   "outputs": [
    {
     "name": "stdout",
     "output_type": "stream",
     "text": [
      "0 238\n",
      "1 297\n",
      "2 927\n",
      "3 933\n",
      "4 179\n",
      "5 375\n",
      "6 820\n",
      "7 618\n",
      "8 561\n",
      "9 57\n",
      "10 577\n",
      "11 59\n",
      "12 73\n",
      "13 107\n",
      "14 53\n",
      "15 91\n",
      "16 893\n",
      "17 810\n",
      "18 170\n",
      "19 53\n",
      "20 68\n",
      "21 9\n",
      "22 1\n",
      "23 92\n",
      "24 9\n",
      "25 8\n",
      "26 9\n",
      "27 308\n",
      "28 447\n",
      "29 392\n",
      "30 107\n",
      "31 42\n",
      "32 4\n",
      "33 45\n",
      "34 141\n",
      "35 110\n",
      "36 3\n",
      "37 758\n",
      "38 9\n",
      "39 9\n",
      "40 388\n",
      "41 220\n",
      "42 644\n",
      "43 649\n",
      "44 499\n",
      "45 2\n",
      "46 937\n",
      "47 169\n",
      "48 286\n",
      "49 2\n"
     ]
    }
   ],
   "source": [
    "### Uing Unique() function in Numpy \n",
    "from numpy import loadtxt\n",
    "from numpy import unique\n",
    "\n",
    "#Load dataset\n",
    "\n",
    "data = loadtxt('oil-spill.csv',delimiter=\",\")\n",
    "\n",
    "## Summarize the unique values in each column\n",
    "for i in range(data.shape[1]):\n",
    "    print(i , len(unique(data[:,i])))\n",
    "\n",
    "##Column 22 has unique value...it should be removed"
   ]
  },
  {
   "cell_type": "code",
   "execution_count": 7,
   "id": "thermal-rendering",
   "metadata": {},
   "outputs": [
    {
     "name": "stdout",
     "output_type": "stream",
     "text": [
      "0     238\n",
      "1     297\n",
      "2     927\n",
      "3     933\n",
      "4     179\n",
      "5     375\n",
      "6     820\n",
      "7     618\n",
      "8     561\n",
      "9      57\n",
      "10    577\n",
      "11     59\n",
      "12     73\n",
      "13    107\n",
      "14     53\n",
      "15     91\n",
      "16    893\n",
      "17    810\n",
      "18    170\n",
      "19     53\n",
      "20     68\n",
      "21      9\n",
      "22      1\n",
      "23     92\n",
      "24      9\n",
      "25      8\n",
      "26      9\n",
      "27    308\n",
      "28    447\n",
      "29    392\n",
      "30    107\n",
      "31     42\n",
      "32      4\n",
      "33     45\n",
      "34    141\n",
      "35    110\n",
      "36      3\n",
      "37    758\n",
      "38      9\n",
      "39      9\n",
      "40    388\n",
      "41    220\n",
      "42    644\n",
      "43    649\n",
      "44    499\n",
      "45      2\n",
      "46    937\n",
      "47    169\n",
      "48    286\n",
      "49      2\n",
      "dtype: int64\n"
     ]
    }
   ],
   "source": [
    "### A simple aproach is using nunique function in pandas\n",
    "import pandas as pd\n",
    "\n",
    "df = pd.read_csv('oil-spill.csv',header=None)\n",
    "\n",
    "#Summarize the number of unique values in each column\n",
    "print(df.nunique())"
   ]
  },
  {
   "cell_type": "markdown",
   "id": "violent-transition",
   "metadata": {},
   "source": [
    "#### Delete columns that contain unique values"
   ]
  },
  {
   "cell_type": "code",
   "execution_count": 10,
   "id": "overhead-rescue",
   "metadata": {},
   "outputs": [
    {
     "name": "stdout",
     "output_type": "stream",
     "text": [
      "(937, 50)\n",
      "[22]\n",
      "(937, 49)\n"
     ]
    }
   ],
   "source": [
    "#delete columns with single unique value\n",
    "df = pd.read_csv('oil-spill.csv',header=None)\n",
    "\n",
    "print(df.shape)\n",
    "\n",
    "#Get the number of unique values for each column\n",
    "counts = df.nunique()\n",
    "\n",
    "#Get the columsn to be deleted\n",
    "\n",
    "to_del = [i for i,v in enumerate(counts) if v==1]\n",
    "\n",
    "print(to_del)\n",
    "\n",
    "#drop the unique value columns\n",
    "\n",
    "df.drop(to_del,axis=1,inplace=True)\n",
    "\n",
    "print(df.shape)"
   ]
  },
  {
   "cell_type": "markdown",
   "id": "billion-missouri",
   "metadata": {},
   "source": [
    "### 2.Consider Columns that have very few values"
   ]
  },
  {
   "cell_type": "code",
   "execution_count": 16,
   "id": "several-dominican",
   "metadata": {},
   "outputs": [
    {
     "name": "stdout",
     "output_type": "stream",
     "text": [
      "(937, 50)\n",
      "21 , 9 ,1.0%\n",
      "22 , 1 ,0.1%\n",
      "24 , 9 ,1.0%\n",
      "25 , 8 ,0.9%\n",
      "26 , 9 ,1.0%\n",
      "32 , 4 ,0.4%\n",
      "36 , 3 ,0.3%\n",
      "38 , 9 ,1.0%\n",
      "39 , 9 ,1.0%\n",
      "45 , 2 ,0.2%\n",
      "49 , 2 ,0.2%\n"
     ]
    }
   ],
   "source": [
    "##Summarize the percentage of unique values for each column using numpy\n",
    "from numpy import loadtxt\n",
    "from numpy import unique\n",
    "\n",
    "#Loading the dataset\n",
    "data = loadtxt(\"oil-spill.csv\",delimiter=\",\")\n",
    "\n",
    "#print the shape of the dataset\n",
    "print(data.shape)\n",
    "\n",
    "#Printing the percentage of unique values in each column\n",
    "for i in range(data.shape[1]):\n",
    "    unique_num = len(unique(data[:,i]))\n",
    "    unique_pct = unique_num/data.shape[0] *100\n",
    "    if unique_pct < 1:\n",
    "        print(\"%d , %d ,%.1f%%\"%(i,unique_num,unique_pct))"
   ]
  },
  {
   "cell_type": "code",
   "execution_count": 17,
   "id": "czech-tours",
   "metadata": {},
   "outputs": [
    {
     "name": "stdout",
     "output_type": "stream",
     "text": [
      "(937, 50)\n",
      "[21, 22, 24, 25, 26, 32, 36, 38, 39, 45, 49]\n",
      "(937, 39)\n"
     ]
    }
   ],
   "source": [
    "###If we want to delete the all columns with percentage less than 1\n",
    "\n",
    "#loading data\n",
    "df = pd.read_csv('oil-spill.csv',header=None)\n",
    "\n",
    "print(df.shape)\n",
    "#column wise unique counts\n",
    "counts = df.nunique()\n",
    "\n",
    "to_del = [i for i,v in enumerate(counts) if (float(v)/df.shape[0] * 100) < 1]\n",
    "\n",
    "print(to_del)\n",
    "\n",
    "#deleting the columsn \n",
    "df.drop(to_del,axis=1,inplace=True)\n",
    "print(df.shape)"
   ]
  },
  {
   "cell_type": "markdown",
   "id": "disturbed-principle",
   "metadata": {},
   "source": [
    "### 3.Removing Columns that have a low variance"
   ]
  },
  {
   "cell_type": "code",
   "execution_count": 26,
   "id": "outstanding-loading",
   "metadata": {},
   "outputs": [
    {
     "name": "stdout",
     "output_type": "stream",
     "text": [
      "(937, 50)\n",
      "(937, 49) (937,)\n",
      "(937, 48)\n",
      "> Threshold :.2f 0.000000eatures : 48\n",
      "> Threshold :.2f 0.050000eatures : 37\n",
      "> Threshold :.2f 0.100000eatures : 36\n",
      "> Threshold :.2f 0.150000eatures : 35\n",
      "> Threshold :.2f 0.200000eatures : 35\n",
      "> Threshold :.2f 0.250000eatures : 35\n",
      "> Threshold :.2f 0.300000eatures : 35\n",
      "> Threshold :.2f 0.350000eatures : 35\n",
      "> Threshold :.2f 0.400000eatures : 35\n",
      "> Threshold :.2f 0.450000eatures : 33\n",
      "> Threshold :.2f 0.500000eatures : 31\n"
     ]
    },
    {
     "data": {
      "image/png": "[encoded data removed]",
      "text/plain": [
       "<Figure size 432x288 with 1 Axes>"
      ]
     },
     "metadata": {
      "needs_background": "light"
     },
     "output_type": "display_data"
    }
   ],
   "source": [
    "####Using VarianceThreshold from sckitLeanr\n",
    "\n",
    "from sklearn.feature_selection import VarianceThreshold\n",
    "import matplotlib.pyplot as plt\n",
    "import numpy as np\n",
    "\n",
    "df = pd.read_csv('oil-spill.csv',header=None)\n",
    "\n",
    "print(df.shape)\n",
    "data = df.values\n",
    "#Split the data into inputs and outputs\n",
    "X = data[:,:-1]\n",
    "y = data[:,-1]\n",
    "\n",
    "print(X.shape,y.shape)\n",
    "\n",
    "#transform\n",
    "transform = VarianceThreshold()\n",
    "\n",
    "X_sel = transform.fit_transform(X)\n",
    "\n",
    "print(X_sel.shape)\n",
    "\n",
    "thresolds = np.arange(0,0.55,0.05)\n",
    "\n",
    "results =  list()\n",
    "for t in thresolds:\n",
    "    transform = VarianceThreshold(threshold=t)\n",
    "    X_sel = transform.fit_transform(X)\n",
    "    \n",
    "    n_features = X_sel.shape[1]\n",
    "    \n",
    "    print('> Threshold :.2f% features : %d'%(t,n_features))\n",
    "    \n",
    "    results.append(n_features)\n",
    "\n",
    "plt.plot(thresolds,results)\n",
    "plt.title(\"Variance Threshold Vs No of selected features\")\n",
    "plt.xlabel(\"Thresold\")\n",
    "plt.ylabel(\"no of feautures\")\n",
    "plt.show()"
   ]
  },
  {
   "cell_type": "markdown",
   "id": "engaged-samoa",
   "metadata": {},
   "source": [
    "### 4. Identify rows that contain Duplicate Data"
   ]
  },
  {
   "cell_type": "code",
   "execution_count": 27,
   "id": "satellite-bottle",
   "metadata": {},
   "outputs": [
    {
     "name": "stdout",
     "output_type": "stream",
     "text": [
      "True\n",
      "       0    1    2    3               4\n",
      "34   4.9  3.1  1.5  0.1     Iris-setosa\n",
      "37   4.9  3.1  1.5  0.1     Iris-setosa\n",
      "142  5.8  2.7  5.1  1.9  Iris-virginica\n"
     ]
    }
   ],
   "source": [
    "df = pd.read_csv(\"iris.csv\",header=None)\n",
    "\n",
    "dups = df.duplicated()\n",
    "\n",
    "#report if there any duplicates\n",
    "print(dups.any())\n",
    "\n",
    "#Printing duplicates\n",
    "print(df[dups])\n"
   ]
  },
  {
   "cell_type": "markdown",
   "id": "decent-lobby",
   "metadata": {},
   "source": [
    "#### 5.Deleting rows that contain duplicate data"
   ]
  },
  {
   "cell_type": "code",
   "execution_count": 28,
   "id": "trying-marketplace",
   "metadata": {},
   "outputs": [
    {
     "name": "stdout",
     "output_type": "stream",
     "text": [
      "(150, 5)\n",
      "(147, 5)\n"
     ]
    }
   ],
   "source": [
    "print(df.shape)\n",
    "\n",
    "df.drop_duplicates(inplace=True)\n",
    "\n",
    "print(df.shape)"
   ]
  },
  {
   "cell_type": "code",
   "execution_count": null,
   "id": "marine-violation",
   "metadata": {},
   "outputs": [],
   "source": []
  }
 ],
 "metadata": {
  "kernelspec": {
   "display_name": "Python 3",
   "language": "python",
   "name": "python3"
  },
  "language_info": {
   "codemirror_mode": {
    "name": "ipython",
    "version": 3
   },
   "file_extension": ".py",
   "mimetype": "text/x-python",
   "name": "python",
   "nbconvert_exporter": "python",
   "pygments_lexer": "ipython3",
   "version": "3.7.9"
  }
 },
 "nbformat": 4,
 "nbformat_minor": 5
}
