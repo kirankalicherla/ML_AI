{
 "cells": [
  {
   "cell_type": "markdown",
   "id": "black-savings",
   "metadata": {},
   "source": [
    "### Test Dataset"
   ]
  },
  {
   "cell_type": "code",
   "execution_count": 1,
   "id": "sized-blowing",
   "metadata": {},
   "outputs": [
    {
     "name": "stdout",
     "output_type": "stream",
     "text": [
      "mean=50.049  stdv = 4.994\n"
     ]
    }
   ],
   "source": [
    "#Generate gaussian data\n",
    "from numpy.random import seed\n",
    "from numpy.random import randn\n",
    "from numpy import mean\n",
    "from numpy import std\n",
    "\n",
    "# seed the random number\n",
    "seed(1)\n",
    "\n",
    "#Generate the univariate observations with mean -50 and std 5\n",
    "\n",
    "data = 5 * randn(10000) + 50\n",
    "\n",
    "print('mean=%.3f  stdv = %.3f' %(mean(data),std(data)))"
   ]
  },
  {
   "cell_type": "markdown",
   "id": "descending-beijing",
   "metadata": {},
   "source": [
    "### Standard Deviation Method"
   ]
  },
  {
   "cell_type": "code",
   "execution_count": 3,
   "id": "decreased-prayer",
   "metadata": {},
   "outputs": [
    {
     "name": "stdout",
     "output_type": "stream",
     "text": [
      "Identified outliers: 29\n",
      "Non-outlier observations : 9971\n"
     ]
    }
   ],
   "source": [
    "##Calculating summary statistics\n",
    "data_mean,data_std = mean(data),std(data)\n",
    "\n",
    "##Define outliers\n",
    "threshold = 3 * data_std\n",
    "\n",
    "lower,upper = data_mean - threshold , data_mean + threshold\n",
    "\n",
    "#Identifying outliers\n",
    "\n",
    "outliers = [ x for x in data if x < lower or x > upper]\n",
    "\n",
    "print(\"Identified outliers: %d\"% len(outliers))\n",
    "\n",
    "# Removing the outliers\n",
    "outliers_removed = [ x for x in data if x >= lower and x <= upper]\n",
    "\n",
    "print(\"Non-outlier observations : %d\"%len(outliers_removed))"
   ]
  },
  {
   "cell_type": "markdown",
   "id": "labeled-thong",
   "metadata": {},
   "source": [
    "### Interquartile Range Method"
   ]
  },
  {
   "cell_type": "code",
   "execution_count": 7,
   "id": "included-drove",
   "metadata": {},
   "outputs": [
    {
     "name": "stdout",
     "output_type": "stream",
     "text": [
      "quart_75 : 53.359\n",
      "quart_25 : 46.685\n",
      "threshold :10.011\n",
      "Outliers number :81\n",
      "Outliers removed :9919\n"
     ]
    }
   ],
   "source": [
    "from numpy import percentile\n",
    "##Indentifying 75th and 25th quartiles\n",
    "quart_75,quart_25 = percentile(data,75),percentile(data,25)\n",
    "\n",
    "IQR = quart_75 - quart_25\n",
    "\n",
    "###Threshold ideally 1.5 * IQR , if you want remove extreemes 3 * IQR\n",
    "threshold = 1.5 * IQR\n",
    "\n",
    "print('quart_75 : %.3f'%quart_75)\n",
    "print('quart_25 : %.3f'%quart_25)\n",
    "print('threshold :%.3f'%threshold)\n",
    "\n",
    "#calculating the lower and upper boundaries\n",
    "lower ,upper = quart_25 - threshold ,quart_75 + threshold\n",
    "\n",
    "#outliers\n",
    "outliers = [x for x in data if x < lower or x > upper]\n",
    "\n",
    "print('Outliers number :%d'%len(outliers))\n",
    "\n",
    "#Outliers removed\n",
    "\n",
    "outliers_removed = [x for x in data if x >= lower and x <= upper]\n",
    "\n",
    "print('Outliers removed :%d'%len(outliers_removed))"
   ]
  },
  {
   "cell_type": "markdown",
   "id": "enhanced-airport",
   "metadata": {},
   "source": [
    "### Automatic Outlier Detection"
   ]
  },
  {
   "cell_type": "code",
   "execution_count": 12,
   "id": "phantom-decade",
   "metadata": {},
   "outputs": [
    {
     "name": "stdout",
     "output_type": "stream",
     "text": [
      "(506, 13) (506,)\n",
      "(339, 13) (167, 13)\n",
      "after removing outliers (305, 13) (305,)\n",
      "MAE : 3.356\n"
     ]
    }
   ],
   "source": [
    "import pandas as pd\n",
    "from sklearn.model_selection import train_test_split\n",
    "from sklearn.linear_model import LinearRegression\n",
    "from sklearn.metrics import mean_absolute_error\n",
    "from sklearn.neighbors import LocalOutlierFactor\n",
    "\n",
    "df =  pd.read_csv('house.csv',header=None)\n",
    "\n",
    "data = df.values\n",
    "\n",
    "X = data[:,:-1]\n",
    "y = data[:,-1]\n",
    "\n",
    "print(X.shape,y.shape)\n",
    "X_train,X_test,y_train,y_test = train_test_split(X,y,test_size=0.33,random_state=1)\n",
    "\n",
    "print(X_train.shape,X_test.shape)\n",
    "\n",
    "##Removing outliers from X_train and y_train\n",
    "lof = LocalOutlierFactor()\n",
    "yhat = lof.fit_predict(X_train)\n",
    "\n",
    "#Select the all rows that are not outliers\n",
    "mask = yhat != -1\n",
    "X_train,y_train = X_train[mask,:],y_train[mask]\n",
    "\n",
    "print(\"after removing outliers\",X_train.shape,y_train.shape)\n",
    "\n",
    "#Train the model\n",
    "lr = LinearRegression()\n",
    "\n",
    "lr.fit(X_train,y_train)\n",
    "\n",
    "#Evaluating the model\n",
    "yhat = lr.predict(X_test)\n",
    "mae = mean_absolute_error(y_test,yhat)\n",
    "print(\"MAE : %.3f\"%mae)"
   ]
  },
  {
   "cell_type": "code",
   "execution_count": null,
   "id": "quarterly-rouge",
   "metadata": {},
   "outputs": [],
   "source": []
  }
 ],
 "metadata": {
  "kernelspec": {
   "display_name": "Python 3",
   "language": "python",
   "name": "python3"
  },
  "language_info": {
   "codemirror_mode": {
    "name": "ipython",
    "version": 3
   },
   "file_extension": ".py",
   "mimetype": "text/x-python",
   "name": "python",
   "nbconvert_exporter": "python",
   "pygments_lexer": "ipython3",
   "version": "3.7.9"
  }
 },
 "nbformat": 4,
 "nbformat_minor": 5
}
