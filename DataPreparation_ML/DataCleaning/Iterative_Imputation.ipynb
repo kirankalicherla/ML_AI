{
 "cells": [
  {
   "cell_type": "code",
   "execution_count": 1,
   "id": "opponent-aaron",
   "metadata": {},
   "outputs": [],
   "source": [
    "## Tutorial Overview\n",
    "# 1. Iterative Imputation\n",
    "# 2. Horse Colic Dataset\n",
    "# Iterative Imputation with IterativeImputer"
   ]
  },
  {
   "cell_type": "code",
   "execution_count": 2,
   "id": "respiratory-manner",
   "metadata": {},
   "outputs": [],
   "source": [
    "import pandas as pd\n",
    "import numpy as np"
   ]
  },
  {
   "cell_type": "code",
   "execution_count": 3,
   "id": "subjective-miller",
   "metadata": {},
   "outputs": [
    {
     "name": "stdout",
     "output_type": "stream",
     "text": [
      "(300, 28)\n",
      ">0 Missing count : 1 (0.333)\n",
      ">1 Missing count : 0 (0.000)\n",
      ">2 Missing count : 0 (0.000)\n",
      ">3 Missing count : 60 (20.000)\n",
      ">4 Missing count : 24 (8.000)\n",
      ">5 Missing count : 58 (19.333)\n",
      ">6 Missing count : 56 (18.667)\n",
      ">7 Missing count : 69 (23.000)\n",
      ">8 Missing count : 47 (15.667)\n",
      ">9 Missing count : 32 (10.667)\n",
      ">10 Missing count : 55 (18.333)\n",
      ">11 Missing count : 44 (14.667)\n",
      ">12 Missing count : 56 (18.667)\n",
      ">13 Missing count : 104 (34.667)\n",
      ">14 Missing count : 106 (35.333)\n",
      ">15 Missing count : 247 (82.333)\n",
      ">16 Missing count : 102 (34.000)\n",
      ">17 Missing count : 118 (39.333)\n",
      ">18 Missing count : 29 (9.667)\n",
      ">19 Missing count : 33 (11.000)\n",
      ">20 Missing count : 165 (55.000)\n",
      ">21 Missing count : 198 (66.000)\n",
      ">22 Missing count : 1 (0.333)\n",
      ">23 Missing count : 0 (0.000)\n",
      ">24 Missing count : 0 (0.000)\n",
      ">25 Missing count : 0 (0.000)\n",
      ">26 Missing count : 0 (0.000)\n",
      ">27 Missing count : 0 (0.000)\n"
     ]
    }
   ],
   "source": [
    "# Checking the number of percentage of missing values \n",
    "dataframe = pd.read_csv('horse-colic.csv',header=None,na_values=\"?\")\n",
    "\n",
    "print(dataframe.shape)\n",
    "\n",
    "for i in range(dataframe.shape[1]):\n",
    "    nm_miss = dataframe[[i]].isnull().sum()\n",
    "    \n",
    "    pec_miss = nm_miss/dataframe.shape[0] * 100\n",
    "    \n",
    "    print('>%d Missing count : %d (%.3f)'%(i,nm_miss,pec_miss))"
   ]
  },
  {
   "cell_type": "markdown",
   "id": "adjustable-biotechnology",
   "metadata": {},
   "source": [
    "### IterativeImputer"
   ]
  },
  {
   "cell_type": "code",
   "execution_count": 6,
   "id": "beginning-parts",
   "metadata": {},
   "outputs": [
    {
     "name": "stdout",
     "output_type": "stream",
     "text": [
      "Total Missing count:1605\n",
      "Total Missing count:0\n"
     ]
    }
   ],
   "source": [
    "from sklearn.experimental import enable_iterative_imputer\n",
    "from sklearn.impute import IterativeImputer\n",
    "\n",
    "\n",
    "dataframe = pd.read_csv('horse-colic.csv',header=None,na_values=\"?\")\n",
    "\n",
    "data = dataframe.values\n",
    "\n",
    "X = data[:,:-1]\n",
    "y = data[:,-1]\n",
    "\n",
    "print('Total Missing count:%d'%(np.sum(np.isnan(X))))\n",
    "\n",
    "#imputer = IterativeImputer(estimator=BayesianRidge(),n_nearest_features=None,imputation_order=\"ascending\" )\n",
    "\n",
    "imputer = IterativeImputer()\n",
    "imputer.fit(X)\n",
    "\n",
    "Xtran =  imputer.transform(X)\n",
    "\n",
    "print('Total Missing count:%d'%(np.sum(np.isnan(Xtran))))"
   ]
  },
  {
   "cell_type": "markdown",
   "id": "impossible-fancy",
   "metadata": {},
   "source": [
    "### Iterative Imputation and Model Evaluation"
   ]
  },
  {
   "cell_type": "code",
   "execution_count": 10,
   "id": "center-practitioner",
   "metadata": {},
   "outputs": [
    {
     "name": "stdout",
     "output_type": "stream",
     "text": [
      "Total Missing count:1605\n",
      "Model Accuracy : 0.812 (0.058)\n"
     ]
    }
   ],
   "source": [
    "from sklearn.ensemble import RandomForestClassifier\n",
    "from sklearn.model_selection import cross_val_score\n",
    "from sklearn.model_selection import RepeatedStratifiedKFold\n",
    "from sklearn.pipeline import Pipeline\n",
    "\n",
    "dataframe = pd.read_csv('horse-colic.csv',header=None,na_values=\"?\")\n",
    "\n",
    "data = dataframe.values\n",
    "\n",
    "X = data[:,:-1]\n",
    "y = data[:,-1]\n",
    "\n",
    "#print(y)\n",
    "print('Total Missing count:%d'%(np.sum(np.isnan(X))))\n",
    "\n",
    "imputer = IterativeImputer()\n",
    "model = RandomForestClassifier()\n",
    "\n",
    "pipeline = Pipeline([('impute',imputer),('model',model)])\n",
    "\n",
    "cv = RepeatedStratifiedKFold(n_splits=10,n_repeats=3,random_state=1)\n",
    "\n",
    "scores = cross_val_score(pipeline,X,y,cv=cv,scoring=\"accuracy\",n_jobs=-1)\n",
    "\n",
    "print(\"Model Accuracy : %.3f (%.3f)\"%(np.mean(scores),np.std(scores)))"
   ]
  },
  {
   "cell_type": "markdown",
   "id": "smaller-insertion",
   "metadata": {},
   "source": [
    "### Iterative Imputation with different Imputation Order"
   ]
  },
  {
   "cell_type": "code",
   "execution_count": 11,
   "id": "martial-forward",
   "metadata": {},
   "outputs": [
    {
     "name": "stdout",
     "output_type": "stream",
     "text": [
      "Total Missing count:1605\n",
      "Model ascending Accuracy : 0.804 (0.071)\n",
      "Model descending Accuracy : 0.812 (0.066)\n",
      "Model random Accuracy : 0.809 (0.054)\n",
      "Model arabic Accuracy : 0.811 (0.064)\n",
      "Model roman Accuracy : 0.816 (0.065)\n"
     ]
    },
    {
     "data": {
      "image/png": "[encoded data removed]",
      "text/plain": [
       "<Figure size 432x288 with 1 Axes>"
      ]
     },
     "metadata": {
      "needs_background": "light"
     },
     "output_type": "display_data"
    }
   ],
   "source": [
    "from sklearn.ensemble import RandomForestClassifier\n",
    "from sklearn.model_selection import cross_val_score\n",
    "from sklearn.model_selection import RepeatedStratifiedKFold\n",
    "from sklearn.pipeline import Pipeline\n",
    "import matplotlib.pyplot as plt\n",
    "\n",
    "dataframe = pd.read_csv('horse-colic.csv',header=None,na_values=\"?\")\n",
    "\n",
    "data = dataframe.values\n",
    "\n",
    "X = data[:,:-1]\n",
    "y = data[:,-1]\n",
    "\n",
    "#print(y)\n",
    "print('Total Missing count:%d'%(np.sum(np.isnan(X))))\n",
    "\n",
    "results = []\n",
    "strategies = ['ascending','descending','random','arabic','roman']\n",
    "\n",
    "for s in strategies:\n",
    "    \n",
    "\n",
    "    imputer = IterativeImputer(imputation_order=s)\n",
    "    model = RandomForestClassifier()\n",
    "\n",
    "    pipeline = Pipeline([('impute',imputer),('model',model)])\n",
    "\n",
    "    cv = RepeatedStratifiedKFold(n_splits=10,n_repeats=3,random_state=1)\n",
    "\n",
    "    scores = cross_val_score(pipeline,X,y,cv=cv,scoring=\"accuracy\",n_jobs=-1)\n",
    "\n",
    "    print(\"Model %s Accuracy : %.3f (%.3f)\"%(s ,np.mean(scores),np.std(scores)))\n",
    "    \n",
    "    results.append(scores)\n",
    "\n",
    "plt.boxplot(results,labels=strategies,showmeans=True)\n",
    "plt.show()"
   ]
  },
  {
   "cell_type": "markdown",
   "id": "considerable-badge",
   "metadata": {},
   "source": [
    "### Imputer with different number of iterations"
   ]
  },
  {
   "cell_type": "code",
   "execution_count": 13,
   "id": "activated-package",
   "metadata": {},
   "outputs": [
    {
     "name": "stdout",
     "output_type": "stream",
     "text": [
      "Total Missing count:1605\n",
      "Model 1 Accuracy : 0.809 (0.071)\n",
      "Model 2 Accuracy : 0.811 (0.065)\n",
      "Model 3 Accuracy : 0.806 (0.067)\n",
      "Model 4 Accuracy : 0.819 (0.063)\n",
      "Model 5 Accuracy : 0.801 (0.065)\n",
      "Model 6 Accuracy : 0.808 (0.069)\n",
      "Model 7 Accuracy : 0.803 (0.062)\n",
      "Model 8 Accuracy : 0.803 (0.071)\n",
      "Model 9 Accuracy : 0.806 (0.063)\n",
      "Model 10 Accuracy : 0.809 (0.068)\n",
      "Model 11 Accuracy : 0.811 (0.070)\n",
      "Model 12 Accuracy : 0.804 (0.073)\n",
      "Model 13 Accuracy : 0.814 (0.075)\n",
      "Model 14 Accuracy : 0.793 (0.071)\n",
      "Model 15 Accuracy : 0.801 (0.074)\n",
      "Model 16 Accuracy : 0.802 (0.058)\n",
      "Model 17 Accuracy : 0.808 (0.059)\n",
      "Model 18 Accuracy : 0.808 (0.065)\n",
      "Model 19 Accuracy : 0.800 (0.069)\n",
      "Model 20 Accuracy : 0.812 (0.061)\n"
     ]
    },
    {
     "data": {
      "image/png": "[encoded data removed]",
      "text/plain": [
       "<Figure size 432x288 with 1 Axes>"
      ]
     },
     "metadata": {
      "needs_background": "light"
     },
     "output_type": "display_data"
    }
   ],
   "source": [
    "from sklearn.ensemble import RandomForestClassifier\n",
    "from sklearn.model_selection import cross_val_score\n",
    "from sklearn.model_selection import RepeatedStratifiedKFold\n",
    "from sklearn.pipeline import Pipeline\n",
    "import matplotlib.pyplot as plt\n",
    "\n",
    "dataframe = pd.read_csv('horse-colic.csv',header=None,na_values=\"?\")\n",
    "\n",
    "data = dataframe.values\n",
    "\n",
    "X = data[:,:-1]\n",
    "y = data[:,-1]\n",
    "\n",
    "#print(y)\n",
    "print('Total Missing count:%d'%(np.sum(np.isnan(X))))\n",
    "\n",
    "results = []\n",
    "strategies = [str(i) for i in range(1,21)]\n",
    "\n",
    "for s in strategies:\n",
    "    \n",
    "\n",
    "    imputer = IterativeImputer(max_iter=int(s))\n",
    "    model = RandomForestClassifier()\n",
    "\n",
    "    pipeline = Pipeline([('impute',imputer),('model',model)])\n",
    "\n",
    "    cv = RepeatedStratifiedKFold(n_splits=10,n_repeats=3,random_state=1)\n",
    "\n",
    "    scores = cross_val_score(pipeline,X,y,cv=cv,scoring=\"accuracy\",n_jobs=-1)\n",
    "\n",
    "    print(\"Model %s Accuracy : %.3f (%.3f)\"%(s ,np.mean(scores),np.std(scores)))\n",
    "    \n",
    "    results.append(scores)\n",
    "\n",
    "plt.boxplot(results,labels=strategies,showmeans=True)\n",
    "plt.show()"
   ]
  },
  {
   "cell_type": "markdown",
   "id": "unexpected-black",
   "metadata": {},
   "source": [
    "### Iterative Imputer Transform while making prediction"
   ]
  },
  {
   "cell_type": "code",
   "execution_count": 14,
   "id": "twelve-housing",
   "metadata": {},
   "outputs": [],
   "source": [
    "row = [2, 1, 530101, 38.50, 66, 28, 3, 3, np.nan, 2, 5, 4, 4, np.nan, np.nan, np.nan, 3, 5, 45.00,\n",
    "8.40, np.nan, np.nan, 2, 11300, 00000, 00000, 2]"
   ]
  },
  {
   "cell_type": "code",
   "execution_count": 18,
   "id": "popular-astronomy",
   "metadata": {},
   "outputs": [
    {
     "name": "stdout",
     "output_type": "stream",
     "text": [
      "Total Missing count:1605\n",
      "predicted class is  2.0\n"
     ]
    }
   ],
   "source": [
    "from sklearn.ensemble import RandomForestClassifier\n",
    "from sklearn.model_selection import cross_val_score\n",
    "from sklearn.model_selection import RepeatedStratifiedKFold\n",
    "from sklearn.pipeline import Pipeline\n",
    "\n",
    "dataframe = pd.read_csv('horse-colic.csv',header=None,na_values=\"?\")\n",
    "\n",
    "data = dataframe.values\n",
    "\n",
    "X = data[:,:-1]\n",
    "y = data[:,-1]\n",
    "\n",
    "#print(y)\n",
    "print('Total Missing count:%d'%(np.sum(np.isnan(X))))\n",
    "\n",
    "imputer = IterativeImputer()\n",
    "model = RandomForestClassifier()\n",
    "\n",
    "pipeline = Pipeline([('impute',imputer),('model',model)])\n",
    "\n",
    "pipeline.fit(X,y)\n",
    "\n",
    "yhat = pipeline.predict([row])\n",
    "\n",
    "print(\"predicted class is \", yhat[0])"
   ]
  },
  {
   "cell_type": "code",
   "execution_count": null,
   "id": "forbidden-nelson",
   "metadata": {},
   "outputs": [],
   "source": []
  }
 ],
 "metadata": {
  "kernelspec": {
   "display_name": "Python 3",
   "language": "python",
   "name": "python3"
  },
  "language_info": {
   "codemirror_mode": {
    "name": "ipython",
    "version": 3
   },
   "file_extension": ".py",
   "mimetype": "text/x-python",
   "name": "python",
   "nbconvert_exporter": "python",
   "pygments_lexer": "ipython3",
   "version": "3.7.9"
  }
 },
 "nbformat": 4,
 "nbformat_minor": 5
}
