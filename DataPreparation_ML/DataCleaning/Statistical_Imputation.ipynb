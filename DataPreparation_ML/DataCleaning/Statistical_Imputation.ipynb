{
 "cells": [
  {
   "cell_type": "code",
   "execution_count": 1,
   "id": "exposed-species",
   "metadata": {},
   "outputs": [],
   "source": [
    "## Tutorial OverView\n",
    "## 1. Statistical Imputation\n",
    "## 2. Horse Colic Dataset\n",
    "## 3. Statistical Imputation with SimpleImputer"
   ]
  },
  {
   "cell_type": "markdown",
   "id": "adult-rochester",
   "metadata": {},
   "source": [
    "### Statistical Imputation"
   ]
  },
  {
   "cell_type": "code",
   "execution_count": 3,
   "id": "technical-seafood",
   "metadata": {},
   "outputs": [
    {
     "name": "stdout",
     "output_type": "stream",
     "text": [
      "    0   1        2     3      4     5    6    7    8    9   ...    18    19  \\\n",
      "0  2.0   1   530101  38.5   66.0  28.0  3.0  3.0  NaN  2.0  ...  45.0   8.4   \n",
      "1  1.0   1   534817  39.2   88.0  20.0  NaN  NaN  4.0  1.0  ...  50.0  85.0   \n",
      "2  2.0   1   530334  38.3   40.0  24.0  1.0  1.0  3.0  1.0  ...  33.0   6.7   \n",
      "3  1.0   9  5290409  39.1  164.0  84.0  4.0  1.0  6.0  2.0  ...  48.0   7.2   \n",
      "4  2.0   1   530255  37.3  104.0  35.0  NaN  NaN  6.0  2.0  ...  74.0   7.4   \n",
      "\n",
      "    20   21   22  23     24  25  26  27  \n",
      "0  NaN  NaN  2.0   2  11300   0   0   2  \n",
      "1  2.0  2.0  3.0   2   2208   0   0   2  \n",
      "2  NaN  NaN  1.0   2      0   0   0   1  \n",
      "3  3.0  5.3  2.0   1   2208   0   0   1  \n",
      "4  NaN  NaN  2.0   2   4300   0   0   2  \n",
      "\n",
      "[5 rows x 28 columns]\n",
      "> 0 , Missing :1 (0.3%)\n",
      "> 1 , Missing :0 (0.0%)\n",
      "> 2 , Missing :0 (0.0%)\n",
      "> 3 , Missing :60 (20.0%)\n",
      "> 4 , Missing :24 (8.0%)\n",
      "> 5 , Missing :58 (19.3%)\n",
      "> 6 , Missing :56 (18.7%)\n",
      "> 7 , Missing :69 (23.0%)\n",
      "> 8 , Missing :47 (15.7%)\n",
      "> 9 , Missing :32 (10.7%)\n",
      "> 10 , Missing :55 (18.3%)\n",
      "> 11 , Missing :44 (14.7%)\n",
      "> 12 , Missing :56 (18.7%)\n",
      "> 13 , Missing :104 (34.7%)\n",
      "> 14 , Missing :106 (35.3%)\n",
      "> 15 , Missing :247 (82.3%)\n",
      "> 16 , Missing :102 (34.0%)\n",
      "> 17 , Missing :118 (39.3%)\n",
      "> 18 , Missing :29 (9.7%)\n",
      "> 19 , Missing :33 (11.0%)\n",
      "> 20 , Missing :165 (55.0%)\n",
      "> 21 , Missing :198 (66.0%)\n",
      "> 22 , Missing :1 (0.3%)\n",
      "> 23 , Missing :0 (0.0%)\n",
      "> 24 , Missing :0 (0.0%)\n",
      "> 25 , Missing :0 (0.0%)\n",
      "> 26 , Missing :0 (0.0%)\n",
      "> 27 , Missing :0 (0.0%)\n"
     ]
    }
   ],
   "source": [
    "## Common Statistics calculated included\n",
    "## 1. The Column Mean value\n",
    "## 2. The Column Median Value\n",
    "## 3. The Column Mode value\n",
    "## 4. A constant Value\n",
    "\n",
    "import pandas as pd\n",
    "import numpy as np\n",
    "\n",
    "#Loading the dataset replace ? with NaN\n",
    "data  = pd.read_csv('horse-colic.csv',header=None,na_values=\"?\")\n",
    "\n",
    "#summarize the first few rows \n",
    "print(data.head())\n",
    "\n",
    "# Summarize the missing the values in each columns\n",
    "\n",
    "for i in range(data.shape[1]):\n",
    "    n_miss = data[[i]].isnull().sum()\n",
    "    perc = n_miss/data.shape[0] *100\n",
    "    print('> %d , Missing :%d (%.1f%%)'%(i,n_miss,perc))"
   ]
  },
  {
   "cell_type": "markdown",
   "id": "rolled-acrylic",
   "metadata": {},
   "source": [
    "####  Statistical Imputation with Simple Imputer"
   ]
  },
  {
   "cell_type": "code",
   "execution_count": 9,
   "id": "impressive-apollo",
   "metadata": {},
   "outputs": [
    {
     "name": "stdout",
     "output_type": "stream",
     "text": [
      "Missing : 1605 \n",
      "Missing : 0 \n",
      "Mean accuracy : 0.840 (0.054)\n"
     ]
    }
   ],
   "source": [
    "### statistical Imputation transform for Horse-Colic data\n",
    "import numpy as np\n",
    "import pandas as pd\n",
    "from sklearn.impute import SimpleImputer\n",
    "from sklearn.ensemble import RandomForestClassifier\n",
    "from sklearn.model_selection import cross_val_score\n",
    "from sklearn.model_selection import RepeatedStratifiedKFold\n",
    "from sklearn.pipeline import Pipeline\n",
    "\n",
    "#loading data\n",
    "dataframe =  pd.read_csv('horse-colic.csv',header=None,na_values='?')\n",
    "\n",
    "#Split into input output elements\n",
    "data = dataframe.values\n",
    "\n",
    "ix = [i for i in range(dataframe.shape[1]) if i != 23]\n",
    "\n",
    "X = data[:,:-1]\n",
    "y = data[:,-1]\n",
    "\n",
    "#Summarize total missing\n",
    "print('Missing : %d '% np.sum(np.isnan(X)))\n",
    "\n",
    "#define Imputer\n",
    "\n",
    "imputer = SimpleImputer(strategy=\"mean\")\n",
    "\n",
    "#fit the imputer\n",
    "imputer.fit(X)\n",
    "\n",
    "#Transform the dataset\n",
    "\n",
    "Xtran = imputer.transform(X)\n",
    "\n",
    "#Summarize the total missing\n",
    "print('Missing : %d '% np.sum(np.isnan(Xtran)))\n",
    "\n",
    "###Using K fold cross validation\n",
    "\n",
    "# define model pipeline\n",
    "model = RandomForestClassifier()\n",
    "imputer = SimpleImputer(strategy=\"mean\")\n",
    "pipeline = Pipeline(steps=[(\"i\",imputer),('m',model)])\n",
    "\n",
    "#define model evaluation\n",
    "\n",
    "cv = RepeatedStratifiedKFold(n_splits=10,n_repeats=3,random_state=1)\n",
    "\n",
    "# evaluate model\n",
    "scores = cross_val_score(pipeline,X,y,scoring=\"accuracy\",cv=cv,n_jobs=-1)\n",
    "\n",
    "print(\"Mean accuracy : %.3f (%.3f)\"%(np.mean(scores),np.std(scores)))\n"
   ]
  },
  {
   "cell_type": "markdown",
   "id": "dressed-failure",
   "metadata": {},
   "source": [
    "### Computed Different Imputed Statistics"
   ]
  },
  {
   "cell_type": "code",
   "execution_count": 12,
   "id": "informed-democrat",
   "metadata": {},
   "outputs": [
    {
     "name": "stdout",
     "output_type": "stream",
     "text": [
      "Missing : 1605 \n",
      "Missing : 0 \n",
      ">mean accuracy : 0.846 (0.048)\n",
      ">median accuracy : 0.822 (0.054)\n",
      ">most_frequent accuracy : 0.823 (0.052)\n",
      ">constant accuracy : 0.872 (0.045)\n"
     ]
    },
    {
     "data": {
      "image/png": "[encoded data removed]",
      "text/plain": [
       "<Figure size 432x288 with 1 Axes>"
      ]
     },
     "metadata": {
      "needs_background": "light"
     },
     "output_type": "display_data"
    }
   ],
   "source": [
    "### statistical Imputation transform for Horse-Colic data\n",
    "import numpy as np\n",
    "import pandas as pd\n",
    "from sklearn.impute import SimpleImputer\n",
    "from sklearn.ensemble import RandomForestClassifier\n",
    "from sklearn.model_selection import cross_val_score\n",
    "from sklearn.model_selection import RepeatedStratifiedKFold\n",
    "from sklearn.pipeline import Pipeline\n",
    "import matplotlib.pyplot as plt\n",
    "#loading data\n",
    "dataframe =  pd.read_csv('horse-colic.csv',header=None,na_values='?')\n",
    "\n",
    "#Split into input output elements\n",
    "data = dataframe.values\n",
    "\n",
    "ix = [i for i in range(dataframe.shape[1]) if i != 23]\n",
    "\n",
    "X = data[:,:-1]\n",
    "y = data[:,-1]\n",
    "\n",
    "#Summarize total missing\n",
    "print('Missing : %d '% np.sum(np.isnan(X)))\n",
    "\n",
    "#define Imputer\n",
    "\n",
    "imputer = SimpleImputer(strategy=\"mean\")\n",
    "\n",
    "#fit the imputer\n",
    "imputer.fit(X)\n",
    "\n",
    "#Transform the dataset\n",
    "\n",
    "Xtran = imputer.transform(X)\n",
    "\n",
    "#Summarize the total missing\n",
    "print('Missing : %d '% np.sum(np.isnan(Xtran)))\n",
    "\n",
    "###Using K fold cross validation\n",
    "results = list()\n",
    "strategies = [\"mean\",\"median\",\"most_frequent\",\"constant\"]\n",
    "\n",
    "for s in strategies:\n",
    "    # define model pipeline\n",
    "    model = RandomForestClassifier()\n",
    "    imputer = SimpleImputer(strategy=s)\n",
    "    pipeline = Pipeline(steps=[(\"i\",imputer),('m',model)])\n",
    "\n",
    "    #define model evaluation\n",
    "\n",
    "    cv = RepeatedStratifiedKFold(n_splits=10,n_repeats=3,random_state=1)\n",
    "\n",
    "    # evaluate model\n",
    "    scores = cross_val_score(pipeline,X,y,scoring=\"accuracy\",cv=cv,n_jobs=-1)\n",
    "    results.append(scores)\n",
    "    print(\">%s accuracy : %.3f (%.3f)\"%(s,np.mean(scores),np.std(scores)))\n",
    "\n",
    "# plot model performance for comparision\n",
    "plt.boxplot(results,labels=strategies,showmeans=True)\n",
    "plt.show()"
   ]
  },
  {
   "cell_type": "markdown",
   "id": "personal-italy",
   "metadata": {},
   "source": [
    "### Simple Imputer While making predictions"
   ]
  },
  {
   "cell_type": "code",
   "execution_count": 16,
   "id": "varied-desktop",
   "metadata": {},
   "outputs": [
    {
     "name": "stdout",
     "output_type": "stream",
     "text": [
      "Missing : 1605 \n",
      "Missing : 0 \n",
      "Predicted Class : 2\n"
     ]
    }
   ],
   "source": [
    "###Define raw data\n",
    "raw = [2, 1, 530101, 38.50, 66, 28, 3, 3, np.nan, 2, 5, 4, 4, np.nan, np.nan, np.nan, 3, 5, 45.00,\n",
    "8.40, np.nan, np.nan, 2, 11300, 00000, 00000, 2]\n",
    "\n",
    "### statistical Imputation transform for Horse-Colic data\n",
    "import numpy as np\n",
    "import pandas as pd\n",
    "from sklearn.impute import SimpleImputer\n",
    "from sklearn.ensemble import RandomForestClassifier\n",
    "from sklearn.model_selection import cross_val_score\n",
    "from sklearn.model_selection import RepeatedStratifiedKFold\n",
    "from sklearn.pipeline import Pipeline\n",
    "\n",
    "#loading data\n",
    "dataframe =  pd.read_csv('horse-colic.csv',header=None,na_values='?')\n",
    "\n",
    "#Split into input output elements\n",
    "data = dataframe.values\n",
    "\n",
    "ix = [i for i in range(dataframe.shape[1]) if i != 23]\n",
    "\n",
    "X = data[:,:-1]\n",
    "y = data[:,-1]\n",
    "\n",
    "#Summarize total missing\n",
    "print('Missing : %d '% np.sum(np.isnan(X)))\n",
    "\n",
    "\n",
    "#Summarize the total missing\n",
    "print('Missing : %d '% np.sum(np.isnan(Xtran)))\n",
    "\n",
    "###Using K fold cross validation\n",
    "\n",
    "# define model pipeline\n",
    "model = RandomForestClassifier()\n",
    "imputer = SimpleImputer(strategy=\"constant\")\n",
    "pipeline = Pipeline(steps=[(\"i\",imputer),('m',model)])\n",
    "\n",
    "#fit the model\n",
    "pipeline.fit(X,y)\n",
    "\n",
    "#predict the model\n",
    "ypred = pipeline.predict([raw])\n",
    "\n",
    "# evaluate model\n",
    "\n",
    "print(\"Predicted Class : %d\"%(ypred))\n"
   ]
  },
  {
   "cell_type": "code",
   "execution_count": null,
   "id": "color-bibliography",
   "metadata": {},
   "outputs": [],
   "source": []
  }
 ],
 "metadata": {
  "kernelspec": {
   "display_name": "Python 3",
   "language": "python",
   "name": "python3"
  },
  "language_info": {
   "codemirror_mode": {
    "name": "ipython",
    "version": 3
   },
   "file_extension": ".py",
   "mimetype": "text/x-python",
   "name": "python",
   "nbconvert_exporter": "python",
   "pygments_lexer": "ipython3",
   "version": "3.7.9"
  }
 },
 "nbformat": 4,
 "nbformat_minor": 5
}
