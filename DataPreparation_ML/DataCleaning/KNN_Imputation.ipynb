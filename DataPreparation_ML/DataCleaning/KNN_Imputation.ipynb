{
 "cells": [
  {
   "cell_type": "code",
   "execution_count": 1,
   "id": "accessible-tragedy",
   "metadata": {},
   "outputs": [],
   "source": [
    "##Tutorial Overview\n",
    "## 1. K nearest Neighbor Imputation\n",
    "## 2. Horse Colic Dataset\n",
    "## 3. Nearest Neigbhor Imputation with KNNImputer"
   ]
  },
  {
   "cell_type": "markdown",
   "id": "lined-turkish",
   "metadata": {},
   "source": [
    "### K - Nearest Neighbor Imputation"
   ]
  },
  {
   "cell_type": "code",
   "execution_count": 2,
   "id": "plastic-cable",
   "metadata": {},
   "outputs": [],
   "source": [
    "import pandas as pd\n",
    "import numpy as np"
   ]
  },
  {
   "cell_type": "code",
   "execution_count": 3,
   "id": "flush-heating",
   "metadata": {},
   "outputs": [],
   "source": [
    "#Loading the dataset\n",
    "dataframe = pd.read_csv(\"horse-colic.csv\",header=None,na_values=\"?\")"
   ]
  },
  {
   "cell_type": "code",
   "execution_count": 4,
   "id": "prime-intensity",
   "metadata": {},
   "outputs": [
    {
     "name": "stdout",
     "output_type": "stream",
     "text": [
      "    0   1        2     3      4     5    6    7    8    9   ...    18    19  \\\n",
      "0  2.0   1   530101  38.5   66.0  28.0  3.0  3.0  NaN  2.0  ...  45.0   8.4   \n",
      "1  1.0   1   534817  39.2   88.0  20.0  NaN  NaN  4.0  1.0  ...  50.0  85.0   \n",
      "2  2.0   1   530334  38.3   40.0  24.0  1.0  1.0  3.0  1.0  ...  33.0   6.7   \n",
      "3  1.0   9  5290409  39.1  164.0  84.0  4.0  1.0  6.0  2.0  ...  48.0   7.2   \n",
      "4  2.0   1   530255  37.3  104.0  35.0  NaN  NaN  6.0  2.0  ...  74.0   7.4   \n",
      "\n",
      "    20   21   22  23     24  25  26  27  \n",
      "0  NaN  NaN  2.0   2  11300   0   0   2  \n",
      "1  2.0  2.0  3.0   2   2208   0   0   2  \n",
      "2  NaN  NaN  1.0   2      0   0   0   1  \n",
      "3  3.0  5.3  2.0   1   2208   0   0   1  \n",
      "4  NaN  NaN  2.0   2   4300   0   0   2  \n",
      "\n",
      "[5 rows x 28 columns]\n"
     ]
    }
   ],
   "source": [
    "print(dataframe.head())"
   ]
  },
  {
   "cell_type": "code",
   "execution_count": 7,
   "id": "italian-tragedy",
   "metadata": {},
   "outputs": [
    {
     "name": "stdout",
     "output_type": "stream",
     "text": [
      "> 0 Missing: 1 (0.3%)\n",
      "> 1 Missing: 0 (0.0%)\n",
      "> 2 Missing: 0 (0.0%)\n",
      "> 3 Missing: 60 (20.0%)\n",
      "> 4 Missing: 24 (8.0%)\n",
      "> 5 Missing: 58 (19.3%)\n",
      "> 6 Missing: 56 (18.7%)\n",
      "> 7 Missing: 69 (23.0%)\n",
      "> 8 Missing: 47 (15.7%)\n",
      "> 9 Missing: 32 (10.7%)\n",
      "> 10 Missing: 55 (18.3%)\n",
      "> 11 Missing: 44 (14.7%)\n",
      "> 12 Missing: 56 (18.7%)\n",
      "> 13 Missing: 104 (34.7%)\n",
      "> 14 Missing: 106 (35.3%)\n",
      "> 15 Missing: 247 (82.3%)\n",
      "> 16 Missing: 102 (34.0%)\n",
      "> 17 Missing: 118 (39.3%)\n",
      "> 18 Missing: 29 (9.7%)\n",
      "> 19 Missing: 33 (11.0%)\n",
      "> 20 Missing: 165 (55.0%)\n",
      "> 21 Missing: 198 (66.0%)\n",
      "> 22 Missing: 1 (0.3%)\n",
      "> 23 Missing: 0 (0.0%)\n",
      "> 24 Missing: 0 (0.0%)\n",
      "> 25 Missing: 0 (0.0%)\n",
      "> 26 Missing: 0 (0.0%)\n",
      "> 27 Missing: 0 (0.0%)\n"
     ]
    }
   ],
   "source": [
    "## printing the percentage of missing values in each feature\n",
    "for i in range(dataframe.shape[1]):\n",
    "    nm_missing = dataframe[[i]].isnull().sum()\n",
    "    per_missing = nm_missing/dataframe.shape[0] * 100\n",
    "    print('> %d Missing: %d (%.1f%%)'%(i,nm_missing,per_missing))"
   ]
  },
  {
   "cell_type": "code",
   "execution_count": 10,
   "id": "contained-venice",
   "metadata": {},
   "outputs": [
    {
     "name": "stdout",
     "output_type": "stream",
     "text": [
      "Total missing values : 1605\n",
      "Total missing values after KNNImputer: 0\n"
     ]
    }
   ],
   "source": [
    "from sklearn.impute import KNNImputer\n",
    "\n",
    "#define imputer\n",
    "imputer = KNNImputer(n_neighbors=5,weights=\"uniform\",metric=\"nan_euclidean\")\n",
    "\n",
    "data = dataframe.values\n",
    "X = data[:,:-1]\n",
    "y = data[:,-1]\n",
    "\n",
    "print(\"Total missing values :\",np.sum(np.isnan(X)))\n",
    "#fitting the data\n",
    "imputer.fit(X)\n",
    "\n",
    "## transform the dataset\n",
    "Xtrans = imputer.transform(X)\n",
    "\n",
    "print(\"Total missing values after KNNImputer:\",np.sum(np.isnan(Xtrans)))"
   ]
  },
  {
   "cell_type": "markdown",
   "id": "terminal-calendar",
   "metadata": {},
   "source": [
    "### KNN imputer and model evaluation"
   ]
  },
  {
   "cell_type": "code",
   "execution_count": 15,
   "id": "outside-telephone",
   "metadata": {},
   "outputs": [
    {
     "name": "stdout",
     "output_type": "stream",
     "text": [
      "Mean Accuracy : 0.763  (0.067)\n"
     ]
    }
   ],
   "source": [
    "from sklearn.ensemble import RandomForestClassifier\n",
    "from sklearn.model_selection import cross_val_score\n",
    "from sklearn.model_selection import RepeatedStratifiedKFold\n",
    "from sklearn.pipeline import Pipeline\n",
    "\n",
    "dataframe = pd.read_csv('horse-colic.csv',header=None,na_values=\"?\")\n",
    "\n",
    "data = dataframe.values\n",
    "\n",
    "X = data[:,:-1]\n",
    "y = data[:,-1]\n",
    "\n",
    "imputer = KNNImputer(n_neighbors=5,weights=\"uniform\",metric=\"nan_euclidean\")\n",
    "\n",
    "pipeline = Pipeline(steps=[(\"i\",imputer),\n",
    "                     (\"clf\",RandomForestClassifier())])\n",
    "#Cross validation\n",
    "cv =  RepeatedStratifiedKFold(n_splits=10,n_repeats=3 ,random_state=1)\n",
    "\n",
    "#evaluate model\n",
    "scores = cross_val_score(pipeline,X,y,cv=cv,scoring=\"accuracy\",n_jobs=-1)\n",
    "\n",
    "print(\"Mean Accuracy : %.3f  (%.3f)\"%(np.mean(scores),np.std(scores)))"
   ]
  },
  {
   "cell_type": "markdown",
   "id": "flexible-tennessee",
   "metadata": {},
   "source": [
    "### KNN Imputer and different number of negibhors"
   ]
  },
  {
   "cell_type": "code",
   "execution_count": 19,
   "id": "ignored-direction",
   "metadata": {},
   "outputs": [
    {
     "name": "stdout",
     "output_type": "stream",
     "text": [
      "Mean Accuracy :1  0.700  (0.054)\n",
      "Mean Accuracy :3  0.730  (0.070)\n",
      "Mean Accuracy :5  0.770  (0.082)\n",
      "Mean Accuracy :7  0.799  (0.064)\n",
      "Mean Accuracy :9  0.797  (0.058)\n",
      "Mean Accuracy :15  0.793  (0.069)\n",
      "Mean Accuracy :18  0.806  (0.070)\n",
      "Mean Accuracy :21  0.816  (0.069)\n",
      "Mean Accuracy :30  0.826  (0.073)\n"
     ]
    },
    {
     "data": {
      "image/png": "[encoded data removed]",
      "text/plain": [
       "<Figure size 432x288 with 1 Axes>"
      ]
     },
     "metadata": {
      "needs_background": "light"
     },
     "output_type": "display_data"
    }
   ],
   "source": [
    "from sklearn.ensemble import RandomForestClassifier\n",
    "from sklearn.model_selection import cross_val_score\n",
    "from sklearn.model_selection import RepeatedStratifiedKFold\n",
    "from sklearn.pipeline import Pipeline\n",
    "import matplotlib.pyplot as plt\n",
    "\n",
    "\n",
    "dataframe = pd.read_csv('horse-colic.csv',header=None,na_values=\"?\")\n",
    "\n",
    "data = dataframe.values\n",
    "\n",
    "X = data[:,:-1]\n",
    "y = data[:,-1]\n",
    "\n",
    "results = []\n",
    "\n",
    "strategis = [str(i) for i in [1,3,5,7,9,15,18,21,30]]\n",
    "\n",
    "for s in strategis:\n",
    "    \n",
    "    imputer = KNNImputer(n_neighbors=int(s),weights=\"uniform\",metric=\"nan_euclidean\")\n",
    "\n",
    "    pipeline = Pipeline(steps=[(\"i\",imputer),\n",
    "                     (\"clf\",RandomForestClassifier())])\n",
    "    \n",
    "    cv = RepeatedStratifiedKFold(n_splits=10,n_repeats=3,random_state=1)\n",
    "    \n",
    "    scores = cross_val_score(pipeline,X,y,cv=cv,scoring=\"accuracy\",n_jobs=-1)\n",
    "    \n",
    "    results.append(scores)\n",
    "    \n",
    "    print(\"Mean Accuracy :%s  %.3f  (%.3f)\"%(s ,np.mean(scores),np.std(scores)))\n",
    "\n",
    "plt.boxplot(results,labels=strategis,showmeans=True)\n",
    "plt.show()\n"
   ]
  },
  {
   "cell_type": "markdown",
   "id": "bored-redhead",
   "metadata": {},
   "source": [
    "### KNN Imputer transform when making prediction"
   ]
  },
  {
   "cell_type": "code",
   "execution_count": 21,
   "id": "talented-brooklyn",
   "metadata": {},
   "outputs": [
    {
     "name": "stdout",
     "output_type": "stream",
     "text": [
      "Predicted class is  2.0\n"
     ]
    }
   ],
   "source": [
    "row = [2, 1, 530101, 38.50, 66, 28, 3, 3, np.nan, 2, 5, 4, 4, np.nan, np.nan, np.nan, 3, 5, 45.00,\n",
    "8.40, np.nan, np.nan, 2, 11300, 00000, 00000, 2]\n",
    "\n",
    "dataframe = pd.read_csv('horse-colic.csv',header=None,na_values=\"?\")\n",
    "\n",
    "data = dataframe.values\n",
    "\n",
    "X = data[:,:-1]\n",
    "y = data[:,-1]\n",
    "\n",
    "pipeline = Pipeline(steps=[(\"i\",KNNImputer(n_neighbors=18)),\n",
    "                           (\"clf\",RandomForestClassifier())])\n",
    "\n",
    "pipeline.fit(X,y)\n",
    "\n",
    "#predict\n",
    "\n",
    "yhat = pipeline.predict([row])\n",
    "\n",
    "print(\"Predicted class is \",yhat[0])"
   ]
  },
  {
   "cell_type": "code",
   "execution_count": null,
   "id": "olympic-error",
   "metadata": {},
   "outputs": [],
   "source": []
  }
 ],
 "metadata": {
  "kernelspec": {
   "display_name": "Python 3",
   "language": "python",
   "name": "python3"
  },
  "language_info": {
   "codemirror_mode": {
    "name": "ipython",
    "version": 3
   },
   "file_extension": ".py",
   "mimetype": "text/x-python",
   "name": "python",
   "nbconvert_exporter": "python",
   "pygments_lexer": "ipython3",
   "version": "3.7.9"
  }
 },
 "nbformat": 4,
 "nbformat_minor": 5
}
