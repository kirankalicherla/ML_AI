{
 "cells": [
  {
   "cell_type": "code",
   "execution_count": 2,
   "id": "vanilla-assignment",
   "metadata": {},
   "outputs": [],
   "source": [
    "###Tutorial Overview\n",
    "## 1.Scaling Data\n",
    "## 2.Robus Scalar Transforms\n",
    "## 3. IQR Robust Scaler\n",
    "## 4. Explore robust scaler range\n",
    "## Robust scaling data =  (value - median)/(IQR)  ##IQR = 75th - 25th percentiles"
   ]
  },
  {
   "cell_type": "markdown",
   "id": "framed-combat",
   "metadata": {},
   "source": [
    "### Robust Scalar Transformation"
   ]
  },
  {
   "cell_type": "code",
   "execution_count": 3,
   "id": "naval-album",
   "metadata": {},
   "outputs": [
    {
     "name": "stdout",
     "output_type": "stream",
     "text": [
      "(768, 9)\n",
      "                0           1           2           3           4           5           6           7           8\n",
      "count  768.000000  768.000000  768.000000  768.000000  768.000000  768.000000  768.000000  768.000000  768.000000\n",
      "mean     3.845052  120.894531   69.105469   20.536458   79.799479   31.992578    0.471876   33.240885    0.348958\n",
      "std      3.369578   31.972618   19.355807   15.952218  115.244002    7.884160    0.331329   11.760232    0.476951\n",
      "min      0.000000    0.000000    0.000000    0.000000    0.000000    0.000000    0.078000   21.000000    0.000000\n",
      "25%      1.000000   99.000000   62.000000    0.000000    0.000000   27.300000    0.243750   24.000000    0.000000\n",
      "50%      3.000000  117.000000   72.000000   23.000000   30.500000   32.000000    0.372500   29.000000    0.000000\n",
      "75%      6.000000  140.250000   80.000000   32.000000  127.250000   36.600000    0.626250   41.000000    1.000000\n",
      "max     17.000000  199.000000  122.000000   99.000000  846.000000   67.100000    2.420000   81.000000    1.000000\n"
     ]
    },
    {
     "data": {
      "image/png": "[encoded data removed]",
      "text/plain": [
       "<Figure size 432x288 with 9 Axes>"
      ]
     },
     "metadata": {
      "needs_background": "light"
     },
     "output_type": "display_data"
    }
   ],
   "source": [
    "import numpy as np\n",
    "import pandas as pd\n",
    "from sklearn.neighbors import KNeighborsClassifier\n",
    "import matplotlib.pyplot as plt\n",
    "\n",
    "dataset = pd.read_csv('../dataset/pima-indians-diabetes.csv',header=None)\n",
    "\n",
    "print(dataset.shape)\n",
    "\n",
    "print(dataset.describe())\n",
    "\n",
    "fig = dataset.hist(xlabelsize=4,ylabelsize=4)\n",
    "[x.title.set_size(4) for x in fig.ravel()]\n",
    "\n",
    "plt.show()"
   ]
  },
  {
   "cell_type": "code",
   "execution_count": 8,
   "id": "conditional-sapphire",
   "metadata": {},
   "outputs": [
    {
     "name": "stdout",
     "output_type": "stream",
     "text": [
      "(768, 8)\n",
      "Accuracy : 0.717 (0.040)\n"
     ]
    }
   ],
   "source": [
    "from sklearn.preprocessing import LabelEncoder\n",
    "from sklearn.model_selection import RepeatedStratifiedKFold,cross_val_score\n",
    "\n",
    "model = KNeighborsClassifier()\n",
    "\n",
    "X,y = dataset.values[:,:-1],dataset.values[:,-1]\n",
    "\n",
    "print(X.shape)\n",
    "y = LabelEncoder().fit_transform(y.astype('str'))\n",
    "\n",
    "cv = RepeatedStratifiedKFold(n_splits=10,n_repeats=3,random_state=1)\n",
    "\n",
    "n_scores = cross_val_score(model,X,y,scoring=\"accuracy\",cv=cv,n_jobs=-1)\n",
    "\n",
    "#report accurayc\n",
    "print(\"Accuracy : %.3f (%.3f)\"%(np.mean(n_scores),np.std(n_scores)))\n"
   ]
  },
  {
   "cell_type": "markdown",
   "id": "tropical-combat",
   "metadata": {},
   "source": [
    "#### IQR Robust Scale Transformation"
   ]
  },
  {
   "cell_type": "code",
   "execution_count": 10,
   "id": "faced-cabin",
   "metadata": {},
   "outputs": [
    {
     "name": "stdout",
     "output_type": "stream",
     "text": [
      "(768, 9)\n",
      "                0           1           2           3           4           5           6           7           8\n",
      "count  768.000000  768.000000  768.000000  768.000000  768.000000  768.000000  768.000000  768.000000  768.000000\n",
      "mean     0.169010    0.094413   -0.160807   -0.076986    0.387422   -0.000798    0.259807    0.249464    0.348958\n",
      "std      0.673916    0.775094    1.075323    0.498507    0.905650    0.847759    0.866219    0.691778    0.476951\n",
      "min     -0.600000   -2.836364   -4.000000   -0.718750   -0.239686   -3.440860   -0.769935   -0.470588    0.000000\n",
      "25%     -0.400000   -0.436364   -0.555556   -0.718750   -0.239686   -0.505376   -0.336601   -0.294118    0.000000\n",
      "50%      0.000000    0.000000    0.000000    0.000000    0.000000    0.000000    0.000000    0.000000    0.000000\n",
      "75%      0.600000    0.563636    0.444444    0.281250    0.760314    0.494624    0.663399    0.705882    1.000000\n",
      "max      2.800000    1.987879    2.777778    2.375000    6.408644    3.774194    5.352941    3.058824    1.000000\n"
     ]
    },
    {
     "data": {
      "image/png": "[encoded data removed]",
      "text/plain": [
       "<Figure size 432x288 with 9 Axes>"
      ]
     },
     "metadata": {
      "needs_background": "light"
     },
     "output_type": "display_data"
    }
   ],
   "source": [
    "from sklearn.preprocessing import RobustScaler\n",
    "\n",
    "dataset = pd.read_csv('../dataset/pima-indians-diabetes.csv',header=None)\n",
    "\n",
    "print(dataset.shape)\n",
    "\n",
    "\n",
    "\n",
    "data = dataset.values\n",
    "\n",
    "scaler = RobustScaler()\n",
    "\n",
    "data = scaler.fit_transform(data)\n",
    "\n",
    "dataset = pd.DataFrame(data)\n",
    "\n",
    "print(dataset.describe())\n",
    "fig = dataset.hist(xlabelsize=4,ylabelsize=4)\n",
    "[x.title.set_size(4) for x in fig.ravel()]\n",
    "\n",
    "plt.show()"
   ]
  },
  {
   "cell_type": "code",
   "execution_count": 11,
   "id": "exact-convention",
   "metadata": {},
   "outputs": [
    {
     "name": "stdout",
     "output_type": "stream",
     "text": [
      "(768, 8)\n",
      "Accuracy : 0.734 (0.044)\n"
     ]
    }
   ],
   "source": [
    "### Evaluating using KNN model\n",
    "from sklearn.preprocessing import LabelEncoder\n",
    "from sklearn.model_selection import RepeatedStratifiedKFold,cross_val_score\n",
    "from sklearn.pipeline import Pipeline\n",
    "model = KNeighborsClassifier()\n",
    "\n",
    "\n",
    "data = dataset.values\n",
    "\n",
    "scaler = RobustScaler()\n",
    "\n",
    "\n",
    "X,y = dataset.values[:,:-1],dataset.values[:,-1]\n",
    "\n",
    "print(X.shape)\n",
    "y = LabelEncoder().fit_transform(y.astype('str'))\n",
    "\n",
    "\n",
    "pipeline = Pipeline([('tr',scaler),('knn',model)])\n",
    "cv = RepeatedStratifiedKFold(n_splits=10,n_repeats=3,random_state=1)\n",
    "\n",
    "n_scores = cross_val_score(pipeline,X,y,scoring=\"accuracy\",cv=cv,n_jobs=-1)\n",
    "\n",
    "#report accurayc\n",
    "print(\"Accuracy : %.3f (%.3f)\"%(np.mean(n_scores),np.std(n_scores)))\n"
   ]
  },
  {
   "cell_type": "markdown",
   "id": "middle-anatomy",
   "metadata": {},
   "source": [
    "#### Explore robust scaler range"
   ]
  },
  {
   "cell_type": "code",
   "execution_count": 13,
   "id": "every-shooting",
   "metadata": {},
   "outputs": [
    {
     "name": "stdout",
     "output_type": "stream",
     "text": [
      ">1 Accuracy :0.734 (0.054)\n",
      ">5 Accuracy :0.736 (0.051)\n",
      ">10 Accuracy :0.739 (0.047)\n",
      ">15 Accuracy :0.740 (0.045)\n",
      ">20 Accuracy :0.734 (0.050)\n",
      ">25 Accuracy :0.734 (0.044)\n",
      ">30 Accuracy :0.735 (0.042)\n"
     ]
    },
    {
     "data": {
      "image/png": "[encoded data removed]",
      "text/plain": [
       "<Figure size 432x288 with 1 Axes>"
      ]
     },
     "metadata": {
      "needs_background": "light"
     },
     "output_type": "display_data"
    }
   ],
   "source": [
    "\n",
    "def get_dataset():\n",
    "    datset = pd.read_csv('../dataset/pima-indians-diabetes.csv',header=None)\n",
    "    \n",
    "    data = dataset.values\n",
    "    \n",
    "    X = data[:,:-1]\n",
    "    y = data[:,-1]\n",
    "    y = LabelEncoder().fit_transform(y.astype('str'))\n",
    "    \n",
    "    return X,y\n",
    "\n",
    "def get_models():\n",
    "    models = {}\n",
    "    \n",
    "    for value in [1,5,10,15,20,25,30]:\n",
    "        scaler = RobustScaler(quantile_range=(value,100-value))\n",
    "        model = KNeighborsClassifier()\n",
    "        models[str(value)] = Pipeline([('scr',scaler),('mdl',model)])\n",
    "    \n",
    "    return models\n",
    "\n",
    "#Evaluate given model\n",
    "\n",
    "def evaluate_model (model,X,y):\n",
    "    cv = RepeatedStratifiedKFold(n_splits=10,n_repeats=3,random_state=1)\n",
    "    n_scores = cross_val_score(model,X,y,cv=cv,scoring='accuracy',n_jobs=-1)\n",
    "    \n",
    "    return n_scores\n",
    "\n",
    "X,y = get_dataset()\n",
    "\n",
    "models = get_models()\n",
    "\n",
    "results,names = [],[]\n",
    "\n",
    "for name,model in models.items():\n",
    "    scores = evaluate_model(model,X,y)\n",
    "    results.append(scores)\n",
    "    names.append(name)\n",
    "    print('>%s Accuracy :%.3f (%.3f)'%(name,np.mean(scores),np.std(scores)))\n",
    "\n",
    "plt.boxplot(results,labels=names,showmeans=True)\n",
    "plt.show()"
   ]
  },
  {
   "cell_type": "code",
   "execution_count": null,
   "id": "cosmetic-footwear",
   "metadata": {},
   "outputs": [],
   "source": []
  }
 ],
 "metadata": {
  "kernelspec": {
   "display_name": "Python 3",
   "language": "python",
   "name": "python3"
  },
  "language_info": {
   "codemirror_mode": {
    "name": "ipython",
    "version": 3
   },
   "file_extension": ".py",
   "mimetype": "text/x-python",
   "name": "python",
   "nbconvert_exporter": "python",
   "pygments_lexer": "ipython3",
   "version": "3.7.9"
  }
 },
 "nbformat": 4,
 "nbformat_minor": 5
}
