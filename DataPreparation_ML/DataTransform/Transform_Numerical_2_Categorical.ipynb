{
 "cells": [
  {
   "cell_type": "code",
   "execution_count": 1,
   "id": "leading-penetration",
   "metadata": {},
   "outputs": [],
   "source": [
    "###Tutorial Overview\n",
    "## 1.Change Data Distribution\n",
    "## 2.Discretization Transforms\n",
    "## 3.Uniform Discretization Transform\n",
    "## 4.K-Means Discretization Transform\n",
    "## 5.Quantile Discretization Transform\n"
   ]
  },
  {
   "cell_type": "code",
   "execution_count": 3,
   "id": "dressed-suspect",
   "metadata": {},
   "outputs": [
    {
     "data": {
      "image/png": "[encoded data removed]",
      "text/plain": [
       "<Figure size 432x288 with 1 Axes>"
      ]
     },
     "metadata": {
      "needs_background": "light"
     },
     "output_type": "display_data"
    },
    {
     "name": "stdout",
     "output_type": "stream",
     "text": [
      "[[4.]\n",
      " [7.]\n",
      " [6.]\n",
      " [5.]\n",
      " [4.]\n",
      " [3.]\n",
      " [5.]\n",
      " [4.]\n",
      " [6.]\n",
      " [5.]]\n"
     ]
    },
    {
     "data": {
      "image/png": "[encoded data removed]",
      "text/plain": [
       "<Figure size 432x288 with 1 Axes>"
      ]
     },
     "metadata": {
      "needs_background": "light"
     },
     "output_type": "display_data"
    }
   ],
   "source": [
    "### demonstration of the discretization transform\n",
    "import numpy as np\n",
    "import matplotlib.pyplot as plt\n",
    "from sklearn.preprocessing import KBinsDiscretizer\n",
    "\n",
    "data = np.random.randn(1000)\n",
    "\n",
    "plt.hist(data,bins=25)\n",
    "plt.show()\n",
    "\n",
    "data = data.reshape((len(data),1))\n",
    "\n",
    "kbins = KBinsDiscretizer(n_bins=10,encode=\"ordinal\",strategy=\"uniform\")\n",
    "\n",
    "data_trans= kbins.fit_transform(data)\n",
    "print(data_trans[:10,:])\n",
    "\n",
    "plt.hist(data_trans,bins=10)\n",
    "plt.show()\n"
   ]
  },
  {
   "cell_type": "code",
   "execution_count": 4,
   "id": "copyrighted-stomach",
   "metadata": {},
   "outputs": [
    {
     "name": "stderr",
     "output_type": "stream",
     "text": [
      "D:\\Anaconda_Distribution\\envs\\newEnv\\lib\\importlib\\_bootstrap.py:219: RuntimeWarning: numpy.ufunc size changed, may indicate binary incompatibility. Expected 192 from C header, got 216 from PyObject\n",
      "  return f(*args, **kwds)\n"
     ]
    },
    {
     "name": "stdout",
     "output_type": "stream",
     "text": [
      "(208, 61)\n",
      "               0           1           2           3           4           5   \\\n",
      "count  208.000000  208.000000  208.000000  208.000000  208.000000  208.000000   \n",
      "mean     0.029164    0.038437    0.043832    0.053892    0.075202    0.104570   \n",
      "std      0.022991    0.032960    0.038428    0.046528    0.055552    0.059105   \n",
      "min      0.001500    0.000600    0.001500    0.005800    0.006700    0.010200   \n",
      "25%      0.013350    0.016450    0.018950    0.024375    0.038050    0.067025   \n",
      "50%      0.022800    0.030800    0.034300    0.044050    0.062500    0.092150   \n",
      "75%      0.035550    0.047950    0.057950    0.064500    0.100275    0.134125   \n",
      "max      0.137100    0.233900    0.305900    0.426400    0.401000    0.382300   \n",
      "\n",
      "               6           7           8           9   ...          50  \\\n",
      "count  208.000000  208.000000  208.000000  208.000000  ...  208.000000   \n",
      "mean     0.121747    0.134799    0.178003    0.208259  ...    0.016069   \n",
      "std      0.061788    0.085152    0.118387    0.134416  ...    0.012008   \n",
      "min      0.003300    0.005500    0.007500    0.011300  ...    0.000000   \n",
      "25%      0.080900    0.080425    0.097025    0.111275  ...    0.008425   \n",
      "50%      0.106950    0.112100    0.152250    0.182400  ...    0.013900   \n",
      "75%      0.154000    0.169600    0.233425    0.268700  ...    0.020825   \n",
      "max      0.372900    0.459000    0.682800    0.710600  ...    0.100400   \n",
      "\n",
      "               51          52          53          54          55          56  \\\n",
      "count  208.000000  208.000000  208.000000  208.000000  208.000000  208.000000   \n",
      "mean     0.013420    0.010709    0.010941    0.009290    0.008222    0.007820   \n",
      "std      0.009634    0.007060    0.007301    0.007088    0.005736    0.005785   \n",
      "min      0.000800    0.000500    0.001000    0.000600    0.000400    0.000300   \n",
      "25%      0.007275    0.005075    0.005375    0.004150    0.004400    0.003700   \n",
      "50%      0.011400    0.009550    0.009300    0.007500    0.006850    0.005950   \n",
      "75%      0.016725    0.014900    0.014500    0.012100    0.010575    0.010425   \n",
      "max      0.070900    0.039000    0.035200    0.044700    0.039400    0.035500   \n",
      "\n",
      "               57          58          59  \n",
      "count  208.000000  208.000000  208.000000  \n",
      "mean     0.007949    0.007941    0.006507  \n",
      "std      0.006470    0.006181    0.005031  \n",
      "min      0.000300    0.000100    0.000600  \n",
      "25%      0.003600    0.003675    0.003100  \n",
      "50%      0.005800    0.006400    0.005300  \n",
      "75%      0.010350    0.010325    0.008525  \n",
      "max      0.044000    0.036400    0.043900  \n",
      "\n",
      "[8 rows x 60 columns]\n"
     ]
    },
    {
     "data": {
      "image/png": "[encoded data removed]",
      "text/plain": [
       "<Figure size 432x288 with 64 Axes>"
      ]
     },
     "metadata": {
      "needs_background": "light"
     },
     "output_type": "display_data"
    }
   ],
   "source": [
    "### load and summarize the sonar dataset\n",
    "import pandas as pd\n",
    "dataset = pd.read_csv('../dataset/sonar.csv',header=None)\n",
    "print(dataset.shape)\n",
    "print(dataset.describe())\n",
    "\n",
    "fig = dataset.hist(xlabelsize=4,ylabelsize=4)\n",
    "[x.title.set_size(4) for x in fig.ravel()]\n",
    "\n",
    "plt.show()"
   ]
  },
  {
   "cell_type": "markdown",
   "id": "infectious-baseball",
   "metadata": {},
   "source": [
    "#### Uniform Discretization transform"
   ]
  },
  {
   "cell_type": "code",
   "execution_count": 5,
   "id": "perceived-skill",
   "metadata": {},
   "outputs": [
    {
     "name": "stderr",
     "output_type": "stream",
     "text": [
      "D:\\Anaconda_Distribution\\envs\\newEnv\\lib\\importlib\\_bootstrap.py:219: RuntimeWarning: numpy.ufunc size changed, may indicate binary incompatibility. Expected 192 from C header, got 216 from PyObject\n",
      "  return f(*args, **kwds)\n",
      "D:\\Anaconda_Distribution\\envs\\newEnv\\lib\\importlib\\_bootstrap.py:219: RuntimeWarning: numpy.ufunc size changed, may indicate binary incompatibility. Expected 192 from C header, got 216 from PyObject\n",
      "  return f(*args, **kwds)\n",
      "D:\\Anaconda_Distribution\\envs\\newEnv\\lib\\importlib\\_bootstrap.py:219: RuntimeWarning: numpy.ufunc size changed, may indicate binary incompatibility. Expected 192 from C header, got 216 from PyObject\n",
      "  return f(*args, **kwds)\n"
     ]
    },
    {
     "name": "stdout",
     "output_type": "stream",
     "text": [
      "Accuracy is 0.797 (0.073)\n"
     ]
    }
   ],
   "source": [
    "### evaluate raw data on KNN model\n",
    "from sklearn.preprocessing import LabelEncoder\n",
    "from sklearn.model_selection import cross_val_score,RepeatedStratifiedKFold\n",
    "from sklearn.neighbors import KNeighborsClassifier\n",
    "\n",
    "# load dataset\n",
    "dataset = pd.read_csv('../dataset/sonar.csv',header=None)\n",
    "\n",
    "data = dataset.values\n",
    "\n",
    "X = data[:,:-1]\n",
    "y = data [:,-1]\n",
    "\n",
    "le = LabelEncoder()\n",
    "y = le.fit_transform(y.astype('str'))\n",
    "\n",
    "model = KNeighborsClassifier()\n",
    "\n",
    "cv = RepeatedStratifiedKFold(n_splits=10,n_repeats=3,random_state=1)\n",
    "scores =cross_val_score(model,X,y,cv=cv,scoring=\"accuracy\",n_jobs=-1)\n",
    "\n",
    "print(\"Accuracy is %.3f (%.3f)\"%(np.mean(scores),np.std(scores)))"
   ]
  },
  {
   "cell_type": "code",
   "execution_count": 6,
   "id": "iraqi-coffee",
   "metadata": {},
   "outputs": [
    {
     "name": "stdout",
     "output_type": "stream",
     "text": [
      "(208, 61)\n",
      "               0           1           2           3           4           5   \\\n",
      "count  208.000000  208.000000  208.000000  208.000000  208.000000  208.000000   \n",
      "mean     0.029164    0.038437    0.043832    0.053892    0.075202    0.104570   \n",
      "std      0.022991    0.032960    0.038428    0.046528    0.055552    0.059105   \n",
      "min      0.001500    0.000600    0.001500    0.005800    0.006700    0.010200   \n",
      "25%      0.013350    0.016450    0.018950    0.024375    0.038050    0.067025   \n",
      "50%      0.022800    0.030800    0.034300    0.044050    0.062500    0.092150   \n",
      "75%      0.035550    0.047950    0.057950    0.064500    0.100275    0.134125   \n",
      "max      0.137100    0.233900    0.305900    0.426400    0.401000    0.382300   \n",
      "\n",
      "               6           7           8           9   ...          50  \\\n",
      "count  208.000000  208.000000  208.000000  208.000000  ...  208.000000   \n",
      "mean     0.121747    0.134799    0.178003    0.208259  ...    0.016069   \n",
      "std      0.061788    0.085152    0.118387    0.134416  ...    0.012008   \n",
      "min      0.003300    0.005500    0.007500    0.011300  ...    0.000000   \n",
      "25%      0.080900    0.080425    0.097025    0.111275  ...    0.008425   \n",
      "50%      0.106950    0.112100    0.152250    0.182400  ...    0.013900   \n",
      "75%      0.154000    0.169600    0.233425    0.268700  ...    0.020825   \n",
      "max      0.372900    0.459000    0.682800    0.710600  ...    0.100400   \n",
      "\n",
      "               51          52          53          54          55          56  \\\n",
      "count  208.000000  208.000000  208.000000  208.000000  208.000000  208.000000   \n",
      "mean     0.013420    0.010709    0.010941    0.009290    0.008222    0.007820   \n",
      "std      0.009634    0.007060    0.007301    0.007088    0.005736    0.005785   \n",
      "min      0.000800    0.000500    0.001000    0.000600    0.000400    0.000300   \n",
      "25%      0.007275    0.005075    0.005375    0.004150    0.004400    0.003700   \n",
      "50%      0.011400    0.009550    0.009300    0.007500    0.006850    0.005950   \n",
      "75%      0.016725    0.014900    0.014500    0.012100    0.010575    0.010425   \n",
      "max      0.070900    0.039000    0.035200    0.044700    0.039400    0.035500   \n",
      "\n",
      "               57          58          59  \n",
      "count  208.000000  208.000000  208.000000  \n",
      "mean     0.007949    0.007941    0.006507  \n",
      "std      0.006470    0.006181    0.005031  \n",
      "min      0.000300    0.000100    0.000600  \n",
      "25%      0.003600    0.003675    0.003100  \n",
      "50%      0.005800    0.006400    0.005300  \n",
      "75%      0.010350    0.010325    0.008525  \n",
      "max      0.044000    0.036400    0.043900  \n",
      "\n",
      "[8 rows x 60 columns]\n"
     ]
    },
    {
     "data": {
      "image/png": "[encoded data removed]",
      "text/plain": [
       "<Figure size 432x288 with 64 Axes>"
      ]
     },
     "metadata": {
      "needs_background": "light"
     },
     "output_type": "display_data"
    }
   ],
   "source": [
    "## Uniform Discretization on dataset\n",
    "\n",
    "from sklearn.preprocessing import KBinsDiscretizer\n",
    "from sklearn.pipeline import Pipeline\n",
    "\n",
    "dataset = pd.read_csv('../dataset/sonar.csv',header=None)\n",
    "print(dataset.shape)\n",
    "print(dataset.describe())\n",
    "\n",
    "data = dataset.values[:,:-1]\n",
    "\n",
    "transform = KBinsDiscretizer(n_bins=10,encode=\"ordinal\",strategy=\"uniform\")\n",
    "#scaler = MinMaxScaler(feature_range=(1,2))\n",
    "#pipeline = Pipeline([('scaler',scaler),('tr',transform)])\n",
    "\n",
    "data = transform.fit_transform(data)\n",
    "\n",
    "dataset = pd.DataFrame(data)\n",
    "\n",
    "fig = dataset.hist(xlabelsize=4,ylabelsize=4)\n",
    "[x.title.set_size(4) for x in fig.ravel()]\n",
    "\n",
    "plt.show()"
   ]
  },
  {
   "cell_type": "code",
   "execution_count": 7,
   "id": "assumed-exercise",
   "metadata": {},
   "outputs": [
    {
     "name": "stdout",
     "output_type": "stream",
     "text": [
      "Accuracy is 0.827 (0.082)\n"
     ]
    }
   ],
   "source": [
    "### Evaluate using KNN\n",
    "dataset = pd.read_csv('../dataset/sonar.csv',header=None)\n",
    "\n",
    "data = dataset.values\n",
    "\n",
    "X = data[:,:-1]\n",
    "y = data [:,-1]\n",
    "\n",
    "le = LabelEncoder()\n",
    "y = le.fit_transform(y.astype('str'))\n",
    "\n",
    "model = KNeighborsClassifier()\n",
    "\n",
    "transform = KBinsDiscretizer(n_bins=10,encode=\"ordinal\",strategy=\"uniform\")\n",
    "#scaler = MinMaxScaler(feature_range=(1,2))\n",
    "\n",
    "pipeline = Pipeline([('tr',transform),('model',model)])\n",
    "\n",
    "cv = RepeatedStratifiedKFold(n_splits=10,n_repeats=3,random_state=1)\n",
    "scores =cross_val_score(pipeline,X,y,cv=cv,scoring=\"accuracy\",n_jobs=-1)\n",
    "\n",
    "print(\"Accuracy is %.3f (%.3f)\"%(np.mean(scores),np.std(scores)))"
   ]
  },
  {
   "cell_type": "markdown",
   "id": "improving-little",
   "metadata": {},
   "source": [
    "#### K means Discretization Transform"
   ]
  },
  {
   "cell_type": "code",
   "execution_count": 8,
   "id": "homeless-miniature",
   "metadata": {},
   "outputs": [
    {
     "name": "stdout",
     "output_type": "stream",
     "text": [
      "(208, 61)\n",
      "               0           1           2           3           4           5   \\\n",
      "count  208.000000  208.000000  208.000000  208.000000  208.000000  208.000000   \n",
      "mean     0.029164    0.038437    0.043832    0.053892    0.075202    0.104570   \n",
      "std      0.022991    0.032960    0.038428    0.046528    0.055552    0.059105   \n",
      "min      0.001500    0.000600    0.001500    0.005800    0.006700    0.010200   \n",
      "25%      0.013350    0.016450    0.018950    0.024375    0.038050    0.067025   \n",
      "50%      0.022800    0.030800    0.034300    0.044050    0.062500    0.092150   \n",
      "75%      0.035550    0.047950    0.057950    0.064500    0.100275    0.134125   \n",
      "max      0.137100    0.233900    0.305900    0.426400    0.401000    0.382300   \n",
      "\n",
      "               6           7           8           9   ...          50  \\\n",
      "count  208.000000  208.000000  208.000000  208.000000  ...  208.000000   \n",
      "mean     0.121747    0.134799    0.178003    0.208259  ...    0.016069   \n",
      "std      0.061788    0.085152    0.118387    0.134416  ...    0.012008   \n",
      "min      0.003300    0.005500    0.007500    0.011300  ...    0.000000   \n",
      "25%      0.080900    0.080425    0.097025    0.111275  ...    0.008425   \n",
      "50%      0.106950    0.112100    0.152250    0.182400  ...    0.013900   \n",
      "75%      0.154000    0.169600    0.233425    0.268700  ...    0.020825   \n",
      "max      0.372900    0.459000    0.682800    0.710600  ...    0.100400   \n",
      "\n",
      "               51          52          53          54          55          56  \\\n",
      "count  208.000000  208.000000  208.000000  208.000000  208.000000  208.000000   \n",
      "mean     0.013420    0.010709    0.010941    0.009290    0.008222    0.007820   \n",
      "std      0.009634    0.007060    0.007301    0.007088    0.005736    0.005785   \n",
      "min      0.000800    0.000500    0.001000    0.000600    0.000400    0.000300   \n",
      "25%      0.007275    0.005075    0.005375    0.004150    0.004400    0.003700   \n",
      "50%      0.011400    0.009550    0.009300    0.007500    0.006850    0.005950   \n",
      "75%      0.016725    0.014900    0.014500    0.012100    0.010575    0.010425   \n",
      "max      0.070900    0.039000    0.035200    0.044700    0.039400    0.035500   \n",
      "\n",
      "               57          58          59  \n",
      "count  208.000000  208.000000  208.000000  \n",
      "mean     0.007949    0.007941    0.006507  \n",
      "std      0.006470    0.006181    0.005031  \n",
      "min      0.000300    0.000100    0.000600  \n",
      "25%      0.003600    0.003675    0.003100  \n",
      "50%      0.005800    0.006400    0.005300  \n",
      "75%      0.010350    0.010325    0.008525  \n",
      "max      0.044000    0.036400    0.043900  \n",
      "\n",
      "[8 rows x 60 columns]\n"
     ]
    },
    {
     "name": "stderr",
     "output_type": "stream",
     "text": [
      "D:\\Anaconda_Distribution\\envs\\newEnv\\lib\\importlib\\_bootstrap.py:219: RuntimeWarning: numpy.ufunc size changed, may indicate binary incompatibility. Expected 192 from C header, got 216 from PyObject\n",
      "  return f(*args, **kwds)\n"
     ]
    },
    {
     "data": {
      "image/png": "[encoded data removed]",
      "text/plain": [
       "<Figure size 432x288 with 64 Axes>"
      ]
     },
     "metadata": {
      "needs_background": "light"
     },
     "output_type": "display_data"
    }
   ],
   "source": [
    "from sklearn.preprocessing import KBinsDiscretizer\n",
    "from sklearn.pipeline import Pipeline\n",
    "\n",
    "dataset = pd.read_csv('../dataset/sonar.csv',header=None)\n",
    "print(dataset.shape)\n",
    "print(dataset.describe())\n",
    "\n",
    "data = dataset.values[:,:-1]\n",
    "\n",
    "transform = KBinsDiscretizer(n_bins=3,encode=\"ordinal\",strategy=\"kmeans\")\n",
    "#scaler = MinMaxScaler(feature_range=(1,2))\n",
    "#pipeline = Pipeline([('scaler',scaler),('tr',transform)])\n",
    "\n",
    "data = transform.fit_transform(data)\n",
    "\n",
    "dataset = pd.DataFrame(data)\n",
    "\n",
    "fig = dataset.hist(xlabelsize=4,ylabelsize=4)\n",
    "[x.title.set_size(4) for x in fig.ravel()]\n",
    "\n",
    "plt.show()"
   ]
  },
  {
   "cell_type": "code",
   "execution_count": 10,
   "id": "loose-muslim",
   "metadata": {},
   "outputs": [
    {
     "name": "stdout",
     "output_type": "stream",
     "text": [
      "Accuracy is 0.814 (0.088)\n"
     ]
    }
   ],
   "source": [
    "### Evaluation with KNN\n",
    "dataset = pd.read_csv('../dataset/sonar.csv',header=None)\n",
    "\n",
    "data = dataset.values\n",
    "\n",
    "X = data[:,:-1]\n",
    "y = data [:,-1]\n",
    "\n",
    "le = LabelEncoder()\n",
    "y = le.fit_transform(y.astype('str'))\n",
    "\n",
    "model = KNeighborsClassifier()\n",
    "\n",
    "transform = KBinsDiscretizer(n_bins=3,encode=\"ordinal\",strategy=\"kmeans\")\n",
    "#scaler = MinMaxScaler(feature_range=(1,2))\n",
    "\n",
    "pipeline = Pipeline([('tr',transform),('model',model)])\n",
    "\n",
    "cv = RepeatedStratifiedKFold(n_splits=10,n_repeats=3,random_state=1)\n",
    "scores =cross_val_score(pipeline,X,y,cv=cv,scoring=\"accuracy\",n_jobs=-1)\n",
    "\n",
    "print(\"Accuracy is %.3f (%.3f)\"%(np.mean(scores),np.std(scores)))"
   ]
  },
  {
   "cell_type": "markdown",
   "id": "flush-weight",
   "metadata": {},
   "source": [
    "#### Quantile Discretization Transform"
   ]
  },
  {
   "cell_type": "code",
   "execution_count": 11,
   "id": "surprising-determination",
   "metadata": {},
   "outputs": [
    {
     "name": "stdout",
     "output_type": "stream",
     "text": [
      "(208, 61)\n",
      "               0           1           2           3           4           5   \\\n",
      "count  208.000000  208.000000  208.000000  208.000000  208.000000  208.000000   \n",
      "mean     0.029164    0.038437    0.043832    0.053892    0.075202    0.104570   \n",
      "std      0.022991    0.032960    0.038428    0.046528    0.055552    0.059105   \n",
      "min      0.001500    0.000600    0.001500    0.005800    0.006700    0.010200   \n",
      "25%      0.013350    0.016450    0.018950    0.024375    0.038050    0.067025   \n",
      "50%      0.022800    0.030800    0.034300    0.044050    0.062500    0.092150   \n",
      "75%      0.035550    0.047950    0.057950    0.064500    0.100275    0.134125   \n",
      "max      0.137100    0.233900    0.305900    0.426400    0.401000    0.382300   \n",
      "\n",
      "               6           7           8           9   ...          50  \\\n",
      "count  208.000000  208.000000  208.000000  208.000000  ...  208.000000   \n",
      "mean     0.121747    0.134799    0.178003    0.208259  ...    0.016069   \n",
      "std      0.061788    0.085152    0.118387    0.134416  ...    0.012008   \n",
      "min      0.003300    0.005500    0.007500    0.011300  ...    0.000000   \n",
      "25%      0.080900    0.080425    0.097025    0.111275  ...    0.008425   \n",
      "50%      0.106950    0.112100    0.152250    0.182400  ...    0.013900   \n",
      "75%      0.154000    0.169600    0.233425    0.268700  ...    0.020825   \n",
      "max      0.372900    0.459000    0.682800    0.710600  ...    0.100400   \n",
      "\n",
      "               51          52          53          54          55          56  \\\n",
      "count  208.000000  208.000000  208.000000  208.000000  208.000000  208.000000   \n",
      "mean     0.013420    0.010709    0.010941    0.009290    0.008222    0.007820   \n",
      "std      0.009634    0.007060    0.007301    0.007088    0.005736    0.005785   \n",
      "min      0.000800    0.000500    0.001000    0.000600    0.000400    0.000300   \n",
      "25%      0.007275    0.005075    0.005375    0.004150    0.004400    0.003700   \n",
      "50%      0.011400    0.009550    0.009300    0.007500    0.006850    0.005950   \n",
      "75%      0.016725    0.014900    0.014500    0.012100    0.010575    0.010425   \n",
      "max      0.070900    0.039000    0.035200    0.044700    0.039400    0.035500   \n",
      "\n",
      "               57          58          59  \n",
      "count  208.000000  208.000000  208.000000  \n",
      "mean     0.007949    0.007941    0.006507  \n",
      "std      0.006470    0.006181    0.005031  \n",
      "min      0.000300    0.000100    0.000600  \n",
      "25%      0.003600    0.003675    0.003100  \n",
      "50%      0.005800    0.006400    0.005300  \n",
      "75%      0.010350    0.010325    0.008525  \n",
      "max      0.044000    0.036400    0.043900  \n",
      "\n",
      "[8 rows x 60 columns]\n"
     ]
    },
    {
     "data": {
      "image/png": "[encoded data removed]",
      "text/plain": [
       "<Figure size 432x288 with 64 Axes>"
      ]
     },
     "metadata": {
      "needs_background": "light"
     },
     "output_type": "display_data"
    }
   ],
   "source": [
    "from sklearn.preprocessing import KBinsDiscretizer\n",
    "from sklearn.pipeline import Pipeline\n",
    "\n",
    "dataset = pd.read_csv('../dataset/sonar.csv',header=None)\n",
    "print(dataset.shape)\n",
    "print(dataset.describe())\n",
    "\n",
    "data = dataset.values[:,:-1]\n",
    "\n",
    "transform = KBinsDiscretizer(n_bins=10,encode=\"ordinal\",strategy=\"quantile\")\n",
    "#scaler = MinMaxScaler(feature_range=(1,2))\n",
    "#pipeline = Pipeline([('scaler',scaler),('tr',transform)])\n",
    "\n",
    "data = transform.fit_transform(data)\n",
    "\n",
    "dataset = pd.DataFrame(data)\n",
    "\n",
    "fig = dataset.hist(xlabelsize=4,ylabelsize=4)\n",
    "[x.title.set_size(4) for x in fig.ravel()]\n",
    "\n",
    "plt.show()"
   ]
  },
  {
   "cell_type": "code",
   "execution_count": 12,
   "id": "centered-print",
   "metadata": {},
   "outputs": [
    {
     "name": "stdout",
     "output_type": "stream",
     "text": [
      "Accuracy is 0.840 (0.072)\n"
     ]
    }
   ],
   "source": [
    "### Evaluate using KNN\n",
    "dataset = pd.read_csv('../dataset/sonar.csv',header=None)\n",
    "\n",
    "data = dataset.values\n",
    "\n",
    "X = data[:,:-1]\n",
    "y = data [:,-1]\n",
    "\n",
    "le = LabelEncoder()\n",
    "y = le.fit_transform(y.astype('str'))\n",
    "\n",
    "model = KNeighborsClassifier()\n",
    "\n",
    "transform = KBinsDiscretizer(n_bins=10,encode=\"ordinal\",strategy=\"quantile\")\n",
    "#scaler = MinMaxScaler(feature_range=(1,2))\n",
    "\n",
    "pipeline = Pipeline([('tr',transform),('model',model)])\n",
    "\n",
    "cv = RepeatedStratifiedKFold(n_splits=10,n_repeats=3,random_state=1)\n",
    "scores =cross_val_score(pipeline,X,y,cv=cv,scoring=\"accuracy\",n_jobs=-1)\n",
    "\n",
    "print(\"Accuracy is %.3f (%.3f)\"%(np.mean(scores),np.std(scores)))"
   ]
  },
  {
   "cell_type": "code",
   "execution_count": 13,
   "id": "threatened-basket",
   "metadata": {},
   "outputs": [
    {
     "name": "stdout",
     "output_type": "stream",
     "text": [
      ">2 0.806 (0.080)\n",
      ">3 0.867 (0.070)\n",
      ">4 0.835 (0.083)\n",
      ">5 0.838 (0.070)\n",
      ">6 0.836 (0.071)\n",
      ">7 0.854 (0.071)\n",
      ">8 0.837 (0.077)\n",
      ">9 0.841 (0.069)\n",
      ">10 0.840 (0.072)\n"
     ]
    },
    {
     "data": {
      "text/plain": [
       "[<matplotlib.lines.Line2D at 0x23f247c6c48>]"
      ]
     },
     "execution_count": 13,
     "metadata": {},
     "output_type": "execute_result"
    },
    {
     "data": {
      "image/png": "[encoded data removed]",
      "text/plain": [
       "<Figure size 432x288 with 1 Axes>"
      ]
     },
     "metadata": {
      "needs_background": "light"
     },
     "output_type": "display_data"
    }
   ],
   "source": [
    "## Explore Number of bins in Classification Accuracy\n",
    "### explore number of quantiles on classification accuracy\n",
    "def get_dataset():\n",
    "    dataset = pd.read_csv('../dataset/sonar.csv',header=None)\n",
    "\n",
    "    data = dataset.values\n",
    "\n",
    "    X = data[:,:-1]\n",
    "    y = data [:,-1]\n",
    "\n",
    "    le = LabelEncoder()\n",
    "    y = le.fit_transform(y.astype('str'))\n",
    "    \n",
    "    return X,y\n",
    "\n",
    "#get list of models to evaluate\n",
    "def get_models():\n",
    "    models = {}\n",
    "    \n",
    "    for i in range(2,11):\n",
    "        trans = KBinsDiscretizer(n_bins=i,encode=\"ordinal\",strategy=\"quantile\")\n",
    "        model = KNeighborsClassifier()\n",
    "        models[str(i)] = Pipeline([('tr',trans),('md',model)])\n",
    "    return models\n",
    "\n",
    "#evaluate given model using cross vall\n",
    "def eval_model(model,X,y):\n",
    "    cv = RepeatedStratifiedKFold(n_splits=10,n_repeats=3,random_state=1)\n",
    "    n_scores = cross_val_score(model,X,y,cv=cv,scoring=\"accuracy\",n_jobs=-1)\n",
    "    \n",
    "    return n_scores\n",
    "\n",
    "X,y = get_dataset()\n",
    "\n",
    "models = get_models()\n",
    "\n",
    "results = []\n",
    "\n",
    "for name,model in models.items():\n",
    "    scores = eval_model(model,X,y)\n",
    "    results.append(np.mean(scores))\n",
    "    print('>%s %.3f (%.3f)'%(name,np.mean(scores),np.std(scores)))\n",
    "\n",
    "plt.plot(results)\n"
   ]
  },
  {
   "cell_type": "code",
   "execution_count": null,
   "id": "overall-fraud",
   "metadata": {},
   "outputs": [],
   "source": []
  }
 ],
 "metadata": {
  "kernelspec": {
   "display_name": "Python 3",
   "language": "python",
   "name": "python3"
  },
  "language_info": {
   "codemirror_mode": {
    "name": "ipython",
    "version": 3
   },
   "file_extension": ".py",
   "mimetype": "text/x-python",
   "name": "python",
   "nbconvert_exporter": "python",
   "pygments_lexer": "ipython3",
   "version": "3.7.9"
  }
 },
 "nbformat": 4,
 "nbformat_minor": 5
}
