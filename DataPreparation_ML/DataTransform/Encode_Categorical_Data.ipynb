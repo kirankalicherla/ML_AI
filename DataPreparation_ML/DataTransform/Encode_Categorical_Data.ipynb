{
 "cells": [
  {
   "cell_type": "code",
   "execution_count": 1,
   "id": "polish-wheat",
   "metadata": {},
   "outputs": [],
   "source": [
    "### Tutorial Overview\n",
    "# 1.Nominal and Ordinal Variables\n",
    "# 2.Encoding Categorical Data\n",
    "# 3.Breast Cancer data\n",
    "# 4.Ordinal Encoder Transform\n",
    "# 5.OneHotEncoder transform"
   ]
  },
  {
   "cell_type": "markdown",
   "id": "intimate-cisco",
   "metadata": {},
   "source": [
    "### Encoding Categorical Data"
   ]
  },
  {
   "cell_type": "code",
   "execution_count": 2,
   "id": "speaking-latest",
   "metadata": {},
   "outputs": [],
   "source": [
    "# Ordinal Encoding\n",
    "# One Hot Encoding\n",
    "# Dummy Variable Encoding"
   ]
  },
  {
   "cell_type": "markdown",
   "id": "satisfied-speech",
   "metadata": {},
   "source": [
    "#### Ordinal Encoding"
   ]
  },
  {
   "cell_type": "code",
   "execution_count": 3,
   "id": "skilled-chorus",
   "metadata": {},
   "outputs": [
    {
     "name": "stdout",
     "output_type": "stream",
     "text": [
      "(286, 9) (286,)\n"
     ]
    }
   ],
   "source": [
    "import numpy as np\n",
    "import pandas as pd\n",
    "\n",
    "dataset = pd.read_csv('../dataset/breast-cancer.csv',header=None)\n",
    "\n",
    "data = dataset.values\n",
    "\n",
    "X = data[:,:-1]\n",
    "y = data[:,-1]\n",
    "\n",
    "print(X.shape,y.shape)\n"
   ]
  },
  {
   "cell_type": "code",
   "execution_count": 5,
   "id": "blessed-cornwall",
   "metadata": {},
   "outputs": [
    {
     "name": "stdout",
     "output_type": "stream",
     "text": [
      "(286, 9) (286,)\n",
      "(286, 9)\n",
      "(286,)\n",
      "[[3. 0. 6. 0. 0. 1. 0. 1. 0.]\n",
      " [2. 2. 6. 0. 1. 2. 1. 1. 1.]\n",
      " [2. 2. 5. 4. 1. 1. 0. 4. 0.]]\n",
      "[1 0 1 0 1]\n"
     ]
    }
   ],
   "source": [
    "from sklearn.preprocessing import OrdinalEncoder\n",
    "from sklearn.preprocessing import LabelEncoder\n",
    "\n",
    "dataset = pd.read_csv('../dataset/breast-cancer.csv',header=None)\n",
    "\n",
    "data = dataset.values\n",
    "\n",
    "X = data[:,:-1].astype('str')\n",
    "y = data[:,-1]\n",
    "\n",
    "print(X.shape,y.shape)\n",
    "\n",
    "ordina_encoder = OrdinalEncoder()\n",
    "label_encoder = LabelEncoder()\n",
    "\n",
    "X = ordina_encoder.fit_transform(X)\n",
    "y = label_encoder.fit_transform(y)\n",
    "\n",
    "print(X.shape)\n",
    "print(y.shape)\n",
    "\n",
    "print(X[2:5,:])\n",
    "print(y[:5])"
   ]
  },
  {
   "cell_type": "code",
   "execution_count": 7,
   "id": "extended-electron",
   "metadata": {},
   "outputs": [
    {
     "name": "stdout",
     "output_type": "stream",
     "text": [
      "Accuracy : 75.789\n"
     ]
    }
   ],
   "source": [
    "## Evaluating the model\n",
    "\n",
    "from sklearn.model_selection import train_test_split\n",
    "from sklearn.linear_model import LogisticRegression\n",
    "from sklearn.metrics import accuracy_score\n",
    "\n",
    "dataset = pd.read_csv('../dataset/breast-cancer.csv',header=None)\n",
    "\n",
    "data = dataset.values\n",
    "\n",
    "X = data[:,:-1].astype('str')\n",
    "y = data[:,-1]\n",
    "\n",
    "X_train,X_test,y_train,y_test = train_test_split(X,y,test_size=0.33,random_state=1)\n",
    "\n",
    "ordinal_enc = OrdinalEncoder()\n",
    "label_enc = LabelEncoder()\n",
    "\n",
    "ordinal_enc.fit(X_train)\n",
    "label_enc.fit(y_train)\n",
    "\n",
    "X_train = ordinal_enc.transform(X_train)\n",
    "X_test = ordinal_enc.transform(X_test)\n",
    "y_train = label_enc.transform(y_train)\n",
    "y_test = label_enc.transform(y_test)\n",
    "\n",
    "model = LogisticRegression()\n",
    "\n",
    "model.fit(X_train,y_train)\n",
    "\n",
    "yhat =  model.predict(X_test)\n",
    "\n",
    "accr = accuracy_score(y_test,yhat)*100\n",
    "\n",
    "print(\"Accuracy : %.3f\"%(accr))"
   ]
  },
  {
   "cell_type": "markdown",
   "id": "metric-spiritual",
   "metadata": {},
   "source": [
    "#### One Hot Encoding"
   ]
  },
  {
   "cell_type": "code",
   "execution_count": 9,
   "id": "adjustable-ground",
   "metadata": {},
   "outputs": [
    {
     "name": "stdout",
     "output_type": "stream",
     "text": [
      "(286, 9) (286,)\n",
      "(286, 43)\n",
      "(286,)\n",
      "[[0. 0. 0. 1. 0. 0. 1. 0. 0. 0. 0. 0. 0. 0. 0. 1. 0. 0. 0. 0. 1. 0. 0. 0.\n",
      "  0. 0. 0. 1. 0. 0. 0. 1. 0. 1. 0. 0. 1. 0. 0. 0. 0. 1. 0.]\n",
      " [0. 0. 1. 0. 0. 0. 0. 0. 1. 0. 0. 0. 0. 0. 0. 1. 0. 0. 0. 0. 1. 0. 0. 0.\n",
      "  0. 0. 0. 0. 1. 0. 0. 0. 1. 0. 1. 0. 1. 0. 0. 0. 0. 0. 1.]\n",
      " [0. 0. 1. 0. 0. 0. 0. 0. 1. 0. 0. 0. 0. 0. 1. 0. 0. 0. 0. 0. 0. 0. 0. 0.\n",
      "  1. 0. 0. 0. 1. 0. 0. 1. 0. 1. 0. 0. 0. 0. 0. 1. 0. 1. 0.]]\n",
      "[1 0 1 0 1]\n"
     ]
    }
   ],
   "source": [
    "from sklearn.preprocessing import OneHotEncoder\n",
    "from sklearn.preprocessing import LabelEncoder\n",
    "\n",
    "dataset = pd.read_csv('../dataset/breast-cancer.csv',header=None)\n",
    "\n",
    "data = dataset.values\n",
    "\n",
    "X = data[:,:-1].astype('str')\n",
    "y = data[:,-1]\n",
    "\n",
    "print(X.shape,y.shape)\n",
    "\n",
    "ordina_encoder = OneHotEncoder(sparse=False)\n",
    "label_encoder = LabelEncoder()\n",
    "\n",
    "X = ordina_encoder.fit_transform(X)\n",
    "y = label_encoder.fit_transform(y)\n",
    "\n",
    "print(X.shape)\n",
    "print(y.shape)\n",
    "\n",
    "print(X[2:5,:])\n",
    "print(y[:5])"
   ]
  },
  {
   "cell_type": "code",
   "execution_count": 10,
   "id": "indian-karma",
   "metadata": {},
   "outputs": [
    {
     "name": "stdout",
     "output_type": "stream",
     "text": [
      "Accuracy : 70.526\n"
     ]
    }
   ],
   "source": [
    "dataset = pd.read_csv('../dataset/breast-cancer.csv',header=None)\n",
    "\n",
    "data = dataset.values\n",
    "\n",
    "X = data[:,:-1].astype('str')\n",
    "y = data[:,-1]\n",
    "\n",
    "X_train,X_test,y_train,y_test = train_test_split(X,y,test_size=0.33,random_state=1)\n",
    "\n",
    "onehot_enc = OneHotEncoder(sparse=False)\n",
    "label_enc = LabelEncoder()\n",
    "\n",
    "onehot_enc.fit(X_train)\n",
    "label_enc.fit(y_train)\n",
    "\n",
    "X_train = onehot_enc.transform(X_train)\n",
    "X_test = onehot_enc.transform(X_test)\n",
    "y_train = label_enc.transform(y_train)\n",
    "y_test = label_enc.transform(y_test)\n",
    "\n",
    "model = LogisticRegression()\n",
    "\n",
    "model.fit(X_train,y_train)\n",
    "\n",
    "yhat =  model.predict(X_test)\n",
    "\n",
    "accr = accuracy_score(y_test,yhat)*100\n",
    "\n",
    "print(\"Accuracy : %.3f\"%(accr))"
   ]
  },
  {
   "cell_type": "code",
   "execution_count": null,
   "id": "parliamentary-deviation",
   "metadata": {},
   "outputs": [],
   "source": []
  }
 ],
 "metadata": {
  "kernelspec": {
   "display_name": "Python 3",
   "language": "python",
   "name": "python3"
  },
  "language_info": {
   "codemirror_mode": {
    "name": "ipython",
    "version": 3
   },
   "file_extension": ".py",
   "mimetype": "text/x-python",
   "name": "python",
   "nbconvert_exporter": "python",
   "pygments_lexer": "ipython3",
   "version": "3.7.9"
  }
 },
 "nbformat": 4,
 "nbformat_minor": 5
}
