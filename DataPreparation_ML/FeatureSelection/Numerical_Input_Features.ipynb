{
 "cells": [
  {
   "cell_type": "code",
   "execution_count": 1,
   "id": "interim-humanity",
   "metadata": {},
   "outputs": [],
   "source": [
    "###Tutorial Overview\n",
    "# 1. Numerical Feature Selection\n",
    "# 2. Modeling with Selected Features\n",
    "# 3. Tune the number of selected features"
   ]
  },
  {
   "cell_type": "code",
   "execution_count": 2,
   "id": "legislative-toyota",
   "metadata": {},
   "outputs": [],
   "source": [
    "import pandas as pd\n",
    "import numpy as np\n",
    "from sklearn.model_selection import train_test_split"
   ]
  },
  {
   "cell_type": "code",
   "execution_count": 3,
   "id": "alleged-junction",
   "metadata": {},
   "outputs": [],
   "source": [
    "def load_dataset(fileName):\n",
    "    dataframe = pd.read_csv(fileName,header=None)\n",
    "    data = dataframe.values\n",
    "    X = data[:,:-1]\n",
    "    y = data[:,-1]\n",
    "    \n",
    "    return X,y"
   ]
  },
  {
   "cell_type": "code",
   "execution_count": 4,
   "id": "happy-power",
   "metadata": {},
   "outputs": [
    {
     "name": "stdout",
     "output_type": "stream",
     "text": [
      "Train (514, 8) (514,)\n",
      "Test (254, 8) (254,)\n"
     ]
    }
   ],
   "source": [
    "#load data set\n",
    "X,y = load_dataset('../dataset/pima-indians-diabetes.csv')\n",
    "X_train,X_test,y_train,y_test = train_test_split(X,y,test_size=0.33,random_state=1)\n",
    "print(\"Train\",X_train.shape, y_train.shape)\n",
    "print(\"Test\",X_test.shape,y_test.shape)"
   ]
  },
  {
   "cell_type": "markdown",
   "id": "fifth-filing",
   "metadata": {},
   "source": [
    "### Numerical Feature Selection"
   ]
  },
  {
   "cell_type": "markdown",
   "id": "opened-category",
   "metadata": {},
   "source": [
    "#### ANOVA F-test "
   ]
  },
  {
   "cell_type": "code",
   "execution_count": 5,
   "id": "numeric-expense",
   "metadata": {},
   "outputs": [
    {
     "name": "stdout",
     "output_type": "stream",
     "text": [
      "Features 0 : 16.527385\n",
      "Features 1 : 131.325562\n",
      "Features 2 : 0.042371\n",
      "Features 3 : 1.415216\n",
      "Features 4 : 12.778966\n",
      "Features 5 : 49.209523\n",
      "Features 6 : 13.377142\n",
      "Features 7 : 25.126440\n"
     ]
    },
    {
     "data": {
      "image/png": "[encoded data removed]",
      "text/plain": [
       "<Figure size 432x288 with 1 Axes>"
      ]
     },
     "metadata": {
      "needs_background": "light"
     },
     "output_type": "display_data"
    }
   ],
   "source": [
    "##ANOVA -> Analysis of Variance\n",
    "### F test -> Is a class of statistical tests that calculate ratio between variance values\n",
    "### ANOVA is used when one variable is Numerica and one Variable is Categorical\n",
    "### Features that are independent of the target variable can be removed from the dataset\n",
    "\n",
    "from sklearn.feature_selection import SelectKBest\n",
    "from sklearn.feature_selection import f_classif\n",
    "import matplotlib.pyplot as plt\n",
    "\n",
    "##Configure select all features\n",
    "fs = SelectKBest(score_func=f_classif,k='all')\n",
    "\n",
    "# Fit the training data\n",
    "fs.fit(X_train,y_train)\n",
    "\n",
    "#Transform the training data\n",
    "X_train_fs = fs.transform(X_train)\n",
    "\n",
    "#Transform the test data\n",
    "X_test_fs = fs.transform(X_test)\n",
    "\n",
    "##  What are the scores of the features\n",
    "for i in range(len(fs.scores_)):\n",
    "    print(\"Features %d : %f\"%(i,fs.scores_[i]))\n",
    "\n",
    "#Plot the feature scores\n",
    "plt.bar([i for i in range(len(fs.scores_))],fs.scores_)\n",
    "plt.show()"
   ]
  },
  {
   "cell_type": "markdown",
   "id": "suspended-booking",
   "metadata": {},
   "source": [
    "#### Mutual information Feature Selection"
   ]
  },
  {
   "cell_type": "code",
   "execution_count": 8,
   "id": "liquid-leader",
   "metadata": {},
   "outputs": [
    {
     "name": "stdout",
     "output_type": "stream",
     "text": [
      "Train (514, 8) (514,)\n",
      "Test (254, 8) (254,)\n",
      "Features 0 : 0.031759\n",
      "Features 1 : 0.103620\n",
      "Features 2 : 0.057436\n",
      "Features 3 : 0.008403\n",
      "Features 4 : 0.017090\n",
      "Features 5 : 0.084139\n",
      "Features 6 : 0.007937\n",
      "Features 7 : 0.050781\n"
     ]
    },
    {
     "data": {
      "image/png": "[encoded data removed]",
      "text/plain": [
       "<Figure size 432x288 with 1 Axes>"
      ]
     },
     "metadata": {
      "needs_background": "light"
     },
     "output_type": "display_data"
    }
   ],
   "source": [
    "from sklearn.feature_selection import mutual_info_classif\n",
    "\n",
    "X,y = load_dataset('../dataset/pima-indians-diabetes.csv')\n",
    "\n",
    "X_train,X_test,y_train,y_test = train_test_split(X,y,test_size=0.33,random_state=1)\n",
    "print(\"Train\",X_train.shape, y_train.shape)\n",
    "print(\"Test\",X_test.shape,y_test.shape)\n",
    "\n",
    "def feature_selection(X_train,y_train,X_test):\n",
    "    \n",
    "    # configure to select all features\n",
    "    fs = SelectKBest(score_func=mutual_info_classif,k=\"all\")\n",
    "\n",
    "    #Fit the training data\n",
    "    fs.fit(X_train,y_train)\n",
    "\n",
    "    #transform train data\n",
    "    X_train_fs = fs.transform(X_train)\n",
    "\n",
    "    #Treansform test data\n",
    "    X_test_fs = fs.transform(X_test)\n",
    "    \n",
    "    return X_train_fs,X_test_fs,fs\n",
    "\n",
    "X_train_fs ,X_test_fs,fs = feature_selection(X_train,y_train,X_test)\n",
    "\n",
    "#print the scores of the features\n",
    "for i in range(len(fs.scores_)):\n",
    "    print(\"Features %d : %f\"%(i,fs.scores_[i]))\n",
    "\n",
    "plt.bar([i for i in range(len(fs.scores_))],fs.scores_)\n",
    "plt.show()"
   ]
  },
  {
   "cell_type": "markdown",
   "id": "metropolitan-xerox",
   "metadata": {},
   "source": [
    "### Modeling with Selected Features"
   ]
  },
  {
   "cell_type": "markdown",
   "id": "intensive-receipt",
   "metadata": {},
   "source": [
    "#### Model Built with all features"
   ]
  },
  {
   "cell_type": "code",
   "execution_count": 9,
   "id": "eastern-brush",
   "metadata": {},
   "outputs": [
    {
     "name": "stdout",
     "output_type": "stream",
     "text": [
      "Train (514, 8) (514,)\n",
      "Test (254, 8) (254,)\n",
      "Accuracy :77.559\n"
     ]
    }
   ],
   "source": [
    "from sklearn.linear_model import LogisticRegression\n",
    "from sklearn.metrics import accuracy_score\n",
    "\n",
    "#Loading the dataset\n",
    "X,y = load_dataset('../dataset/pima-indians-diabetes.csv')\n",
    "\n",
    "X_train,X_test,y_train,y_test = train_test_split(X,y,test_size=0.33,random_state=1)\n",
    "print(\"Train\",X_train.shape, y_train.shape)\n",
    "print(\"Test\",X_test.shape,y_test.shape)\n",
    "\n",
    "model = LogisticRegression(solver='liblinear')\n",
    "model.fit(X_train,y_train)\n",
    "\n",
    "yhat = model.predict(X_test)\n",
    "\n",
    "accuracy = accuracy_score(y_test,yhat)*100\n",
    "print(\"Accuracy :%.3f\"%(accuracy))"
   ]
  },
  {
   "cell_type": "markdown",
   "id": "floating-whale",
   "metadata": {},
   "source": [
    "#### Model Built on ANOVA f test features"
   ]
  },
  {
   "cell_type": "code",
   "execution_count": 12,
   "id": "conventional-blogger",
   "metadata": {},
   "outputs": [
    {
     "name": "stdout",
     "output_type": "stream",
     "text": [
      "Train (514, 8) (514,)\n",
      "Test (254, 8) (254,)\n",
      "Accuracy : 78.740\n"
     ]
    }
   ],
   "source": [
    "#Loading the dataset\n",
    "X,y = load_dataset('../dataset/pima-indians-diabetes.csv')\n",
    "\n",
    "X_train,X_test,y_train,y_test = train_test_split(X,y,test_size=0.33,random_state=1)\n",
    "print(\"Train\",X_train.shape, y_train.shape)\n",
    "print(\"Test\",X_test.shape,y_test.shape)\n",
    "\n",
    "def feature_select(X_train,y_train,X_test,no_features,score_class):\n",
    "    fs = SelectKBest(score_func=score_class,k=no_features)\n",
    "    fs.fit(X_train,y_train)\n",
    "    X_train_fs = fs.transform(X_train)\n",
    "    X_test_fs = fs.transform(X_test)\n",
    "    \n",
    "    return X_train_fs,X_test_fs,fs\n",
    "\n",
    "X_train_fs,X_test_fs,fs = feature_select(X_train,y_train,X_test,4,f_classif)\n",
    "\n",
    "model = LogisticRegression(solver=\"liblinear\")\n",
    "\n",
    "model.fit(X_train_fs,y_train)\n",
    "\n",
    "yhat = model.predict(X_test_fs)\n",
    "\n",
    "accuracy = accuracy_score(y_test,yhat)*100\n",
    "print(\"Accuracy : %.3f\"%(accuracy))"
   ]
  },
  {
   "cell_type": "markdown",
   "id": "crude-sunday",
   "metadata": {},
   "source": [
    "#### Model built on mutual information"
   ]
  },
  {
   "cell_type": "code",
   "execution_count": 13,
   "id": "major-multiple",
   "metadata": {},
   "outputs": [
    {
     "name": "stdout",
     "output_type": "stream",
     "text": [
      "Train (514, 8) (514,)\n",
      "Test (254, 8) (254,)\n",
      "Accuracy : 77.559\n"
     ]
    }
   ],
   "source": [
    "#Loading the dataset\n",
    "X,y = load_dataset('../dataset/pima-indians-diabetes.csv')\n",
    "\n",
    "X_train,X_test,y_train,y_test = train_test_split(X,y,test_size=0.33,random_state=1)\n",
    "print(\"Train\",X_train.shape, y_train.shape)\n",
    "print(\"Test\",X_test.shape,y_test.shape)\n",
    "\n",
    "def feature_select(X_train,y_train,X_test,no_features,score_class):\n",
    "    fs = SelectKBest(score_func=score_class,k=no_features)\n",
    "    fs.fit(X_train,y_train)\n",
    "    X_train_fs = fs.transform(X_train)\n",
    "    X_test_fs = fs.transform(X_test)\n",
    "    \n",
    "    return X_train_fs,X_test_fs,fs\n",
    "\n",
    "X_train_fs,X_test_fs,fs = feature_select(X_train,y_train,X_test,4,mutual_info_classif)\n",
    "\n",
    "model = LogisticRegression(solver=\"liblinear\")\n",
    "\n",
    "model.fit(X_train_fs,y_train)\n",
    "\n",
    "yhat = model.predict(X_test_fs)\n",
    "\n",
    "accuracy = accuracy_score(y_test,yhat)*100\n",
    "print(\"Accuracy : %.3f\"%(accuracy))"
   ]
  },
  {
   "cell_type": "markdown",
   "id": "maritime-overhead",
   "metadata": {},
   "source": [
    "### Tune the number of selected features"
   ]
  },
  {
   "cell_type": "code",
   "execution_count": 5,
   "id": "copyrighted-despite",
   "metadata": {},
   "outputs": [
    {
     "name": "stdout",
     "output_type": "stream",
     "text": [
      "Train (514, 8) (514,)\n",
      "Test (254, 8) (254,)\n",
      "Best Accuracy : 0.762\n",
      "Best params :{'anv__k': 7}\n",
      "Best estimator :Pipeline(steps=[('anv', SelectKBest(k=7)),\n",
      "                ('lr', LogisticRegression(solver='liblinear'))])\n"
     ]
    }
   ],
   "source": [
    "from sklearn.model_selection import RepeatedStratifiedKFold\n",
    "from sklearn.model_selection import GridSearchCV\n",
    "from sklearn.pipeline import Pipeline\n",
    "from sklearn.feature_selection import SelectKBest\n",
    "from sklearn.feature_selection import f_classif\n",
    "from sklearn.linear_model import LogisticRegression\n",
    "from sklearn.metrics import accuracy_score\n",
    "\n",
    "#Loading the dataset\n",
    "X,y = load_dataset('../dataset/pima-indians-diabetes.csv')\n",
    "\n",
    "X_train,X_test,y_train,y_test = train_test_split(X,y,test_size=0.33,random_state=1)\n",
    "print(\"Train\",X_train.shape, y_train.shape)\n",
    "print(\"Test\",X_test.shape,y_test.shape)\n",
    "\n",
    "cv = RepeatedStratifiedKFold(n_repeats=3,n_splits=10,random_state=1)\n",
    "\n",
    "anova = SelectKBest(score_func=f_classif)\n",
    "model = LogisticRegression(solver=\"liblinear\")\n",
    "\n",
    "pipeline = Pipeline([(\"anv\",anova),(\"lr\",model)])\n",
    "\n",
    "grid = {}\n",
    "grid[\"anv__k\"] = [i for i in range(X_train.shape[1])]\n",
    "\n",
    "search = GridSearchCV(pipeline,grid,scoring=\"accuracy\",cv=cv,n_jobs=-1)\n",
    "\n",
    "search.fit(X_train,y_train)\n",
    "\n",
    "print(\"Best Accuracy : %.3f\"%(search.best_score_))\n",
    "print(\"Best params :%s\"%(search.best_params_))\n",
    "print(\"Best estimator :%s\"%(search.best_estimator_))\n"
   ]
  },
  {
   "cell_type": "markdown",
   "id": "scenic-helen",
   "metadata": {},
   "source": [
    "#### Compare different number of features used to compare "
   ]
  },
  {
   "cell_type": "code",
   "execution_count": 8,
   "id": "naval-cabinet",
   "metadata": {},
   "outputs": [
    {
     "name": "stdout",
     "output_type": "stream",
     "text": [
      "Train (514, 8) (514,)\n",
      "Test (254, 8) (254,)\n",
      "1  0.748 0.048\n",
      "2  0.756 0.042\n",
      "3  0.761 0.044\n",
      "4  0.759 0.042\n",
      "5  0.770 0.041\n",
      "6  0.766 0.042\n",
      "7  0.770 0.042\n",
      "8  0.768 0.040\n"
     ]
    },
    {
     "data": {
      "image/png": "[encoded data removed]",
      "text/plain": [
       "<Figure size 432x288 with 1 Axes>"
      ]
     },
     "metadata": {
      "needs_background": "light"
     },
     "output_type": "display_data"
    }
   ],
   "source": [
    "from sklearn.model_selection import RepeatedStratifiedKFold\n",
    "from sklearn.model_selection import GridSearchCV\n",
    "from sklearn.model_selection import cross_val_score\n",
    "from sklearn.pipeline import Pipeline\n",
    "from sklearn.feature_selection import SelectKBest\n",
    "from sklearn.feature_selection import f_classif\n",
    "from sklearn.linear_model import LogisticRegression\n",
    "from sklearn.metrics import accuracy_score\n",
    "import matplotlib.pyplot as plt\n",
    "#Loading the dataset\n",
    "X,y = load_dataset('../dataset/pima-indians-diabetes.csv')\n",
    "\n",
    "X_train,X_test,y_train,y_test = train_test_split(X,y,test_size=0.33,random_state=1)\n",
    "print(\"Train\",X_train.shape, y_train.shape)\n",
    "print(\"Test\",X_test.shape,y_test.shape)\n",
    "\n",
    "def evaluate_model(model):\n",
    "    cv = RepeatedStratifiedKFold(n_splits=10,n_repeats=3,random_state=1)\n",
    "    scores = cross_val_score(model,X,y,scoring=\"accuracy\",n_jobs=-1,cv=cv)\n",
    "    return scores\n",
    "\n",
    "num_feautes = [i+1 for i in range(X_train.shape[1])]\n",
    "\n",
    "results = []\n",
    "\n",
    "for n in num_feautes:\n",
    "    model = LogisticRegression(solver=\"liblinear\")\n",
    "    fs = SelectKBest(score_func=f_classif,k=n)\n",
    "    pipeline = Pipeline([(\"avoa\",fs),(\"lr\",model)])\n",
    "    \n",
    "    scores = evaluate_model(pipeline)\n",
    "    \n",
    "    results.append(scores)\n",
    "    \n",
    "    print(\"%s  %.3f %.3f\"%(n,np.mean(scores),np.std(scores)))\n",
    "\n",
    "plt.boxplot(results,labels=num_feautes,showmeans=True)\n",
    "plt.show()"
   ]
  },
  {
   "cell_type": "code",
   "execution_count": null,
   "id": "distant-guatemala",
   "metadata": {},
   "outputs": [],
   "source": []
  }
 ],
 "metadata": {
  "kernelspec": {
   "display_name": "Python 3",
   "language": "python",
   "name": "python3"
  },
  "language_info": {
   "codemirror_mode": {
    "name": "ipython",
    "version": 3
   },
   "file_extension": ".py",
   "mimetype": "text/x-python",
   "name": "python",
   "nbconvert_exporter": "python",
   "pygments_lexer": "ipython3",
   "version": "3.7.9"
  }
 },
 "nbformat": 4,
 "nbformat_minor": 5
}
