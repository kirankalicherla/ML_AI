{
 "cells": [
  {
   "cell_type": "code",
   "execution_count": 1,
   "id": "whole-dominican",
   "metadata": {},
   "outputs": [],
   "source": [
    "### RFE  - Recursive Feature Elemination\n",
    "# 1. Recursive Feature Elemination\n",
    "# 2. RFE with Scikit Learn\n",
    "# 3. RFE Hyper Parameters"
   ]
  },
  {
   "cell_type": "markdown",
   "id": "enormous-ceremony",
   "metadata": {},
   "source": [
    "### RFE with Scikit Learn"
   ]
  },
  {
   "cell_type": "markdown",
   "id": "involved-selling",
   "metadata": {},
   "source": [
    "#### RFE for Classification"
   ]
  },
  {
   "cell_type": "code",
   "execution_count": 2,
   "id": "solved-evanescence",
   "metadata": {},
   "outputs": [
    {
     "name": "stderr",
     "output_type": "stream",
     "text": [
      "D:\\Anaconda_Distribution\\envs\\newEnv\\lib\\importlib\\_bootstrap.py:219: RuntimeWarning: numpy.ufunc size changed, may indicate binary incompatibility. Expected 192 from C header, got 216 from PyObject\n",
      "  return f(*args, **kwds)\n"
     ]
    },
    {
     "name": "stdout",
     "output_type": "stream",
     "text": [
      "(1000, 10) (1000,)\n"
     ]
    }
   ],
   "source": [
    "import numpy as np\n",
    "import pandas as pd\n",
    "from sklearn.datasets import make_classification\n",
    "\n",
    "##Define data-set\n",
    "X,y = make_classification(n_samples=1000, n_features=10,n_informative=5,n_redundant=5,random_state=1)\n",
    "\n",
    "print(X.shape,y.shape)"
   ]
  },
  {
   "cell_type": "code",
   "execution_count": 7,
   "id": "sublime-colleague",
   "metadata": {},
   "outputs": [
    {
     "name": "stdout",
     "output_type": "stream",
     "text": [
      "(1000, 10) (1000,)\n",
      "Accuracy  0.886  (0.031)\n"
     ]
    }
   ],
   "source": [
    "from sklearn.model_selection import cross_val_score,RepeatedStratifiedKFold\n",
    "from sklearn.feature_selection import RFE\n",
    "from sklearn.tree import DecisionTreeClassifier\n",
    "from sklearn.pipeline import Pipeline\n",
    "\n",
    "##Define data-set\n",
    "X,y = make_classification(n_samples=1000, n_features=10,n_informative=5,n_redundant=5,random_state=1)\n",
    "\n",
    "print(X.shape,y.shape)\n",
    "\n",
    "#create pipeline\n",
    "rfe = RFE(estimator=DecisionTreeClassifier(),n_features_to_select=5)\n",
    "\n",
    "model = DecisionTreeClassifier()\n",
    "\n",
    "pipeline = Pipeline([(\"s\",rfe),(\"m\",model)])\n",
    "\n",
    "# Evaluate the model\n",
    "cv = RepeatedStratifiedKFold(n_splits=10,n_repeats=3,random_state=1)\n",
    "\n",
    "n_scores = cross_val_score(pipeline,X,y,cv=cv,scoring=\"accuracy\",n_jobs=-1)\n",
    "\n",
    "# report performance\n",
    "print(\"Accuracy  %.3f  (%.3f)\"%(np.mean(n_scores),np.std(n_scores)))"
   ]
  },
  {
   "cell_type": "markdown",
   "id": "immediate-sender",
   "metadata": {},
   "source": [
    "####  RFE for Regression"
   ]
  },
  {
   "cell_type": "code",
   "execution_count": 9,
   "id": "martial-denial",
   "metadata": {},
   "outputs": [
    {
     "name": "stdout",
     "output_type": "stream",
     "text": [
      "(1000, 10) (1000,)\n",
      "MAE : -27.458  (2.870)\n"
     ]
    }
   ],
   "source": [
    "from sklearn.datasets import make_regression\n",
    "from sklearn.model_selection import RepeatedKFold\n",
    "from sklearn.tree import DecisionTreeRegressor\n",
    "\n",
    "X,y = make_regression(n_samples=1000,n_features=10,n_informative=5,random_state=1)\n",
    "\n",
    "print(X.shape,y.shape)\n",
    "\n",
    "rfe = RFE(estimator=DecisionTreeRegressor(),n_features_to_select=5)\n",
    "model = DecisionTreeRegressor()\n",
    "\n",
    "pipeline = Pipeline([('s',rfe),('m',model)])\n",
    "\n",
    "cv = RepeatedKFold(n_splits=10,n_repeats=3,random_state=1)\n",
    "\n",
    "n_scores = cross_val_score(pipeline,X,y,scoring=\"neg_mean_absolute_error\",cv=cv,n_jobs=-1)\n",
    "\n",
    "# report performance\n",
    "print(\"MAE : %.3f  (%.3f)\"%(np.mean(n_scores),np.std(n_scores)))"
   ]
  },
  {
   "cell_type": "markdown",
   "id": "adolescent-equity",
   "metadata": {},
   "source": [
    "### RFE Hyperparameters"
   ]
  },
  {
   "cell_type": "markdown",
   "id": "going-kidney",
   "metadata": {},
   "source": [
    "#### Explore number of features"
   ]
  },
  {
   "cell_type": "code",
   "execution_count": 10,
   "id": "resident-institution",
   "metadata": {},
   "outputs": [
    {
     "name": "stdout",
     "output_type": "stream",
     "text": [
      "> 2 0.884 (0.033)\n",
      "> 3 0.886 (0.035)\n",
      "> 4 0.888 (0.030)\n",
      "> 5 0.881 (0.033)\n",
      "> 6 0.886 (0.033)\n",
      "> 7 0.887 (0.032)\n",
      "> 8 0.884 (0.032)\n",
      "> 9 0.885 (0.035)\n"
     ]
    },
    {
     "data": {
      "image/png": "[encoded data removed]",
      "text/plain": [
       "<Figure size 432x288 with 1 Axes>"
      ]
     },
     "metadata": {
      "needs_background": "light"
     },
     "output_type": "display_data"
    }
   ],
   "source": [
    "import matplotlib.pyplot as plt\n",
    "\n",
    "## get dataset\n",
    "def get_dataset(classtype):\n",
    "    if classtype == \"reg\":\n",
    "        X,y = make_regression(n_samples=1000,n_features=10,n_informative=5,random_state=1)\n",
    "    elif classtype == \"cls\":\n",
    "        X,y = make_classification(n_samples=1000,n_features=10,n_informative=5,n_redundant=5,random_state=1)\n",
    "    \n",
    "    return X,y\n",
    "\n",
    "#get a list of models to evaluate\n",
    "def get_models():\n",
    "    models = {}\n",
    "    \n",
    "    for i in range(2,10):\n",
    "        rfe = RFE(estimator= DecisionTreeClassifier(),n_features_to_select=i)\n",
    "        model = DecisionTreeClassifier()\n",
    "        models[str(i)] = Pipeline([('s',rfe),('m',model)])\n",
    "    return models\n",
    "\n",
    "#Evaluate the given model using cross validation\n",
    "\n",
    "def evaluate_model(model,X,y,):\n",
    "    cv = RepeatedStratifiedKFold(n_splits=10,n_repeats=3,random_state=1)\n",
    "    n_scores = cross_val_score(pipeline,X,y,scoring=\"accuracy\",cv=cv,n_jobs=-1)\n",
    "    return n_scores\n",
    "\n",
    "#define dataset\n",
    "X,y = get_dataset('cls')\n",
    "\n",
    "# define models\n",
    "models = get_models()\n",
    "\n",
    "#evaluate the models and score results\n",
    "results,names = [],[]\n",
    "for name,model  in models.items():\n",
    "    scores =  evaluate_model(model,X,y)\n",
    "    results.append(scores)\n",
    "    names.append(name)\n",
    "    print('> %s %.3f (%.3f)'%(name,np.mean(scores),np.std(scores)))\n",
    "\n",
    "#Plot model performance for comparison\n",
    "plt.boxplot(results,labels=names,showmeans=True)\n",
    "plt.show()\n",
    "    "
   ]
  },
  {
   "cell_type": "markdown",
   "id": "cross-ceramic",
   "metadata": {},
   "source": [
    "####  Automatically select the number of features"
   ]
  },
  {
   "cell_type": "code",
   "execution_count": 11,
   "id": "informative-peeing",
   "metadata": {},
   "outputs": [
    {
     "name": "stdout",
     "output_type": "stream",
     "text": [
      "(1000, 10) (1000,)\n",
      "Accuracy  0.887  (0.026)\n"
     ]
    }
   ],
   "source": [
    "from sklearn.feature_selection import RFECV\n",
    "\n",
    "X,y = make_classification(n_samples=1000, n_features=10,n_informative=5,n_redundant=5,random_state=1)\n",
    "\n",
    "print(X.shape,y.shape)\n",
    "\n",
    "#create pipeline\n",
    "rfe = RFECV(estimator=DecisionTreeClassifier())\n",
    "\n",
    "model = DecisionTreeClassifier()\n",
    "\n",
    "pipeline = Pipeline([(\"s\",rfe),(\"m\",model)])\n",
    "\n",
    "# Evaluate the model\n",
    "cv = RepeatedStratifiedKFold(n_splits=10,n_repeats=3,random_state=1)\n",
    "\n",
    "n_scores = cross_val_score(pipeline,X,y,cv=cv,scoring=\"accuracy\",n_jobs=-1)\n",
    "\n",
    "# report performance\n",
    "print(\"Accuracy  %.3f  (%.3f)\"%(np.mean(n_scores),np.std(n_scores)))"
   ]
  },
  {
   "cell_type": "markdown",
   "id": "potential-latter",
   "metadata": {},
   "source": [
    "##### Which features were selected"
   ]
  },
  {
   "cell_type": "code",
   "execution_count": 15,
   "id": "egyptian-commissioner",
   "metadata": {},
   "outputs": [
    {
     "name": "stdout",
     "output_type": "stream",
     "text": [
      "(1000, 10) (1000,)\n",
      "Column 0 , Selected = False , Rand : 5\n",
      "Column 1 , Selected = False , Rand : 4\n",
      "Column 2 , Selected = True , Rand : 1\n",
      "Column 3 , Selected = True , Rand : 1\n",
      "Column 4 , Selected = True , Rand : 1\n",
      "Column 5 , Selected = False , Rand : 6\n",
      "Column 6 , Selected = True , Rand : 1\n",
      "Column 7 , Selected = False , Rand : 3\n",
      "Column 8 , Selected = True , Rand : 1\n",
      "Column 9 , Selected = False , Rand : 2\n"
     ]
    }
   ],
   "source": [
    "X,y = make_classification(n_samples=1000, n_features=10,n_informative=5,n_redundant=5,random_state=1)\n",
    "\n",
    "print(X.shape,y.shape)\n",
    "\n",
    "#create pipeline\n",
    "#rfe = RFECV(estimator=DecisionTreeClassifier())\n",
    "rfe = RFE(estimator=DecisionTreeClassifier(),n_features_to_select=5)\n",
    "# fit RFE\n",
    "rfe.fit(X,y)\n",
    "\n",
    "for i in range(X.shape[1]):\n",
    "    print('Column %d , Selected = %s , Rand : %d' %(i,rfe.support_[i],rfe.ranking_[i]))"
   ]
  },
  {
   "cell_type": "markdown",
   "id": "metropolitan-refund",
   "metadata": {},
   "source": [
    "### Explore Base Algorithm"
   ]
  },
  {
   "cell_type": "code",
   "execution_count": 18,
   "id": "certified-rabbit",
   "metadata": {},
   "outputs": [
    {
     "name": "stdout",
     "output_type": "stream",
     "text": [
      "> lr 0.884 (0.025)\n",
      "> pr 0.881 (0.030)\n",
      "> dr 0.887 (0.033)\n",
      "> rf 0.888 (0.027)\n",
      "> gb 0.880 (0.028)\n"
     ]
    },
    {
     "data": {
      "image/png": "[encoded data removed]",
      "text/plain": [
       "<Figure size 432x288 with 1 Axes>"
      ]
     },
     "metadata": {
      "needs_background": "light"
     },
     "output_type": "display_data"
    }
   ],
   "source": [
    "## Explore the algorithms wrapped by RFE\n",
    "from sklearn.linear_model import LogisticRegression,Perceptron\n",
    "from sklearn.ensemble import RandomForestClassifier,GradientBoostingClassifier\n",
    "\n",
    "\n",
    "import matplotlib.pyplot as plt\n",
    "\n",
    "## get dataset\n",
    "def get_dataset(classtype):\n",
    "    if classtype == \"reg\":\n",
    "        X,y = make_regression(n_samples=1000,n_features=10,n_informative=5,random_state=1)\n",
    "    elif classtype == \"cls\":\n",
    "        X,y = make_classification(n_samples=1000,n_features=10,n_informative=5,n_redundant=5,random_state=1)\n",
    "    \n",
    "    return X,y\n",
    "\n",
    "#get a list of models to evaluate\n",
    "def get_models():\n",
    "    models = {}\n",
    "    \n",
    "    #Lr\n",
    "    rfe = RFE(estimator= LogisticRegression(),n_features_to_select=5)\n",
    "    model = DecisionTreeClassifier()\n",
    "    models['lr'] = Pipeline([('s',rfe),('m',model)])\n",
    "    \n",
    "    \n",
    "    # Pr\n",
    "    rfe = RFE(estimator= Perceptron(),n_features_to_select=5)\n",
    "    model = DecisionTreeClassifier()\n",
    "    models['pr'] = Pipeline([('s',rfe),('m',model)])\n",
    "    \n",
    "    #Dr\n",
    "    rfe = RFE(estimator= DecisionTreeClassifier(),n_features_to_select=5)\n",
    "    model = DecisionTreeClassifier()\n",
    "    models['dr'] = Pipeline([('s',rfe),('m',model)])\n",
    "    \n",
    "    #Rf\n",
    "    rfe = RFE(estimator= RandomForestClassifier(),n_features_to_select=5)\n",
    "    model = DecisionTreeClassifier()\n",
    "    models['rf'] = Pipeline([('s',rfe),('m',model)])\n",
    "    \n",
    "    #Gb\n",
    "    rfe = RFE(estimator= GradientBoostingClassifier(),n_features_to_select=5)\n",
    "    model = DecisionTreeClassifier()\n",
    "    models['gb'] = Pipeline([('s',rfe),('m',model)])\n",
    "    \n",
    "    return models\n",
    "\n",
    "#Evaluate the given model using cross validation\n",
    "\n",
    "def evaluate_model(model,X,y,):\n",
    "    cv = RepeatedStratifiedKFold(n_splits=10,n_repeats=3,random_state=1)\n",
    "    n_scores = cross_val_score(pipeline,X,y,scoring=\"accuracy\",cv=cv,n_jobs=-1)\n",
    "    return n_scores\n",
    "\n",
    "#define dataset\n",
    "X,y = get_dataset('cls')\n",
    "\n",
    "# define models\n",
    "models = get_models()\n",
    "\n",
    "#evaluate the models and score results\n",
    "results,names = [],[]\n",
    "for name,model  in models.items():\n",
    "    scores =  evaluate_model(model,X,y)\n",
    "    results.append(scores)\n",
    "    names.append(name)\n",
    "    print('> %s %.3f (%.3f)'%(name,np.mean(scores),np.std(scores)))\n",
    "\n",
    "#Plot model performance for comparison\n",
    "plt.boxplot(results,labels=names,showmeans=True)\n",
    "plt.show()"
   ]
  },
  {
   "cell_type": "code",
   "execution_count": null,
   "id": "mighty-humanity",
   "metadata": {},
   "outputs": [],
   "source": []
  }
 ],
 "metadata": {
  "kernelspec": {
   "display_name": "Python 3",
   "language": "python",
   "name": "python3"
  },
  "language_info": {
   "codemirror_mode": {
    "name": "ipython",
    "version": 3
   },
   "file_extension": ".py",
   "mimetype": "text/x-python",
   "name": "python",
   "nbconvert_exporter": "python",
   "pygments_lexer": "ipython3",
   "version": "3.7.9"
  }
 },
 "nbformat": 4,
 "nbformat_minor": 5
}
