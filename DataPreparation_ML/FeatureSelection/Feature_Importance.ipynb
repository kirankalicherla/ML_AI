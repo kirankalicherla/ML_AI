{
 "cells": [
  {
   "cell_type": "code",
   "execution_count": 1,
   "id": "rising-river",
   "metadata": {},
   "outputs": [],
   "source": [
    "### Tutorial Overview\n",
    "## 1.Feature Importance\n",
    "## 2.Test Datasets\n",
    "## 3.Coefficients as feature importance\n",
    "## 4.Decision Tree feature importance\n",
    "## 5.Permuation feature Importance\n",
    "## 6.Feature selection with Importance\n",
    "## 7.Common Questions"
   ]
  },
  {
   "cell_type": "markdown",
   "id": "radio-granny",
   "metadata": {},
   "source": [
    "### Feature Importance"
   ]
  },
  {
   "cell_type": "code",
   "execution_count": 2,
   "id": "chronic-potter",
   "metadata": {},
   "outputs": [],
   "source": [
    "#We will look at three main types of more advanced feature Importance\n",
    "# 1.Feature Importance from model coefficients\n",
    "# 2.Feature Importance from decision tree\n",
    "# 3.Feature Importance from Permutation testing"
   ]
  },
  {
   "cell_type": "markdown",
   "id": "metric-empire",
   "metadata": {},
   "source": [
    "###  Co-efficients as Feauture Importance"
   ]
  },
  {
   "cell_type": "markdown",
   "id": "foreign-surface",
   "metadata": {},
   "source": [
    "#### Linear Regression Feature Importance"
   ]
  },
  {
   "cell_type": "code",
   "execution_count": 3,
   "id": "specific-oliver",
   "metadata": {},
   "outputs": [
    {
     "name": "stderr",
     "output_type": "stream",
     "text": [
      "D:\\Anaconda_Distribution\\envs\\newEnv\\lib\\importlib\\_bootstrap.py:219: RuntimeWarning: numpy.ufunc size changed, may indicate binary incompatibility. Expected 192 from C header, got 216 from PyObject\n",
      "  return f(*args, **kwds)\n"
     ]
    },
    {
     "name": "stdout",
     "output_type": "stream",
     "text": [
      "Feature : 0 , Score : -0.00000\n",
      "Feature : 1 , Score : 12.44483\n",
      "Feature : 2 , Score : 0.00000\n",
      "Feature : 3 , Score : -0.00000\n",
      "Feature : 4 , Score : 93.32225\n",
      "Feature : 5 , Score : 86.50811\n",
      "Feature : 6 , Score : 26.74607\n",
      "Feature : 7 , Score : 3.28535\n",
      "Feature : 8 , Score : 0.00000\n",
      "Feature : 9 , Score : 0.00000\n"
     ]
    },
    {
     "data": {
      "image/png": "[encoded data removed]",
      "text/plain": [
       "<Figure size 432x288 with 1 Axes>"
      ]
     },
     "metadata": {
      "needs_background": "light"
     },
     "output_type": "display_data"
    }
   ],
   "source": [
    "import numpy as np\n",
    "import pandas as pd\n",
    "import matplotlib.pyplot as plt\n",
    "from sklearn.linear_model import LinearRegression\n",
    "from sklearn.datasets import make_regression\n",
    "\n",
    "### create dataset\n",
    "X,y = make_regression(n_samples=1000,n_features=10,n_informative=5,random_state=1)\n",
    "\n",
    "## define model\n",
    "model = LinearRegression()\n",
    "\n",
    "# fit the model\n",
    "model.fit(X,y)\n",
    "\n",
    "#get importance\n",
    "importance = model.coef_\n",
    "\n",
    "#Summarize the feature importance\n",
    "for i,v in enumerate(importance):\n",
    "    print('Feature : %d , Score : %.5f' %(i,v))\n",
    "\n",
    "# plot the bar\n",
    "plt.bar([i for i in range(len(importance))],importance)\n",
    "plt.show()"
   ]
  },
  {
   "cell_type": "markdown",
   "id": "handled-living",
   "metadata": {},
   "source": [
    "#### Logistic Regression Feature Importance"
   ]
  },
  {
   "cell_type": "code",
   "execution_count": 5,
   "id": "absent-ecuador",
   "metadata": {},
   "outputs": [
    {
     "name": "stdout",
     "output_type": "stream",
     "text": [
      "Feature : 0 , Score : 0.16320\n",
      "Feature : 1 , Score : -0.64301\n",
      "Feature : 2 , Score : 0.48497\n",
      "Feature : 3 , Score : -0.46190\n",
      "Feature : 4 , Score : 0.18432\n",
      "Feature : 5 , Score : -0.11978\n",
      "Feature : 6 , Score : -0.40602\n",
      "Feature : 7 , Score : 0.03772\n",
      "Feature : 8 , Score : -0.51785\n",
      "Feature : 9 , Score : 0.26540\n"
     ]
    },
    {
     "data": {
      "image/png": "[encoded data removed]",
      "text/plain": [
       "<Figure size 432x288 with 1 Axes>"
      ]
     },
     "metadata": {
      "needs_background": "light"
     },
     "output_type": "display_data"
    }
   ],
   "source": [
    "from sklearn.linear_model import LogisticRegression\n",
    "from sklearn.datasets import make_classification\n",
    "\n",
    "X,y =  make_classification(n_samples=1000,n_features=10,n_informative=5,n_redundant=5,random_state=1)\n",
    "\n",
    "model = LogisticRegression()\n",
    "\n",
    "model.fit(X,y)\n",
    "\n",
    "importance = model.coef_[0]\n",
    "\n",
    "#summary\n",
    "for i,v in enumerate(importance):\n",
    "    print(\"Feature : %d , Score : %.5f\"%(i,v))\n",
    "\n",
    "plt.bar([x  for x in range(len(importance))],importance)\n",
    "plt.show()"
   ]
  },
  {
   "cell_type": "markdown",
   "id": "incredible-information",
   "metadata": {},
   "source": [
    "#### Decision Tree Feature Importance "
   ]
  },
  {
   "cell_type": "markdown",
   "id": "ultimate-relevance",
   "metadata": {},
   "source": [
    "##### CART Regression Feature Importance"
   ]
  },
  {
   "cell_type": "code",
   "execution_count": 6,
   "id": "stuffed-chart",
   "metadata": {},
   "outputs": [
    {
     "name": "stdout",
     "output_type": "stream",
     "text": [
      "Feature : 0 , Score : 0.00270\n",
      "Feature : 1 , Score : 0.00425\n",
      "Feature : 2 , Score : 0.00157\n",
      "Feature : 3 , Score : 0.00205\n",
      "Feature : 4 , Score : 0.51704\n",
      "Feature : 5 , Score : 0.43814\n",
      "Feature : 6 , Score : 0.02740\n",
      "Feature : 7 , Score : 0.00275\n",
      "Feature : 8 , Score : 0.00299\n",
      "Feature : 9 , Score : 0.00110\n"
     ]
    },
    {
     "data": {
      "image/png": "[encoded data removed]",
      "text/plain": [
       "<Figure size 432x288 with 1 Axes>"
      ]
     },
     "metadata": {
      "needs_background": "light"
     },
     "output_type": "display_data"
    }
   ],
   "source": [
    "from sklearn.tree import DecisionTreeRegressor\n",
    "\n",
    "X,y = make_regression(n_samples=1000,n_features=10,n_informative=5,random_state=1)\n",
    "\n",
    "model = DecisionTreeRegressor()\n",
    "\n",
    "model.fit(X,y)\n",
    "\n",
    "importance = model.feature_importances_\n",
    "\n",
    "#Summarize the feature importance\n",
    "for i,v in enumerate(importance):\n",
    "    print('Feature : %d , Score : %.5f' %(i,v))\n",
    "\n",
    "# plot the bar\n",
    "plt.bar([i for i in range(len(importance))],importance)\n",
    "plt.show()"
   ]
  },
  {
   "cell_type": "markdown",
   "id": "southern-perry",
   "metadata": {},
   "source": [
    "##### CART Classification Feature Importance"
   ]
  },
  {
   "cell_type": "code",
   "execution_count": 7,
   "id": "editorial-passing",
   "metadata": {},
   "outputs": [
    {
     "name": "stdout",
     "output_type": "stream",
     "text": [
      "Feature : 0 , Score : 0.01505\n",
      "Feature : 1 , Score : 0.00713\n",
      "Feature : 2 , Score : 0.18324\n",
      "Feature : 3 , Score : 0.30767\n",
      "Feature : 4 , Score : 0.09314\n",
      "Feature : 5 , Score : 0.00885\n",
      "Feature : 6 , Score : 0.18474\n",
      "Feature : 7 , Score : 0.03866\n",
      "Feature : 8 , Score : 0.12588\n",
      "Feature : 9 , Score : 0.03564\n"
     ]
    },
    {
     "data": {
      "image/png": "[encoded data removed]",
      "text/plain": [
       "<Figure size 432x288 with 1 Axes>"
      ]
     },
     "metadata": {
      "needs_background": "light"
     },
     "output_type": "display_data"
    }
   ],
   "source": [
    "from sklearn.tree import DecisionTreeClassifier\n",
    "\n",
    "X,y =  make_classification(n_samples=1000,n_features=10,n_informative=5,n_redundant=5,random_state=1)\n",
    "\n",
    "model = DecisionTreeClassifier()\n",
    "\n",
    "model.fit(X,y)\n",
    "\n",
    "importance =  model.feature_importances_\n",
    "\n",
    "#Summarize the feature importance\n",
    "for i,v in enumerate(importance):\n",
    "    print('Feature : %d , Score : %.5f' %(i,v))\n",
    "\n",
    "# plot the bar\n",
    "plt.bar([i for i in range(len(importance))],importance)\n",
    "plt.show()"
   ]
  },
  {
   "cell_type": "markdown",
   "id": "assured-defeat",
   "metadata": {},
   "source": [
    "#### Random Forest Feature Importance"
   ]
  },
  {
   "cell_type": "markdown",
   "id": "sonic-necessity",
   "metadata": {},
   "source": [
    "#####  Random Forest Regression Feature Importance"
   ]
  },
  {
   "cell_type": "code",
   "execution_count": 8,
   "id": "official-venue",
   "metadata": {},
   "outputs": [
    {
     "name": "stdout",
     "output_type": "stream",
     "text": [
      "Feature : 0 , Score : 0.00287\n",
      "Feature : 1 , Score : 0.00547\n",
      "Feature : 2 , Score : 0.00281\n",
      "Feature : 3 , Score : 0.00305\n",
      "Feature : 4 , Score : 0.52915\n",
      "Feature : 5 , Score : 0.42123\n",
      "Feature : 6 , Score : 0.02663\n",
      "Feature : 7 , Score : 0.00279\n",
      "Feature : 8 , Score : 0.00321\n",
      "Feature : 9 , Score : 0.00278\n"
     ]
    },
    {
     "data": {
      "image/png": "[encoded data removed]",
      "text/plain": [
       "<Figure size 432x288 with 1 Axes>"
      ]
     },
     "metadata": {
      "needs_background": "light"
     },
     "output_type": "display_data"
    }
   ],
   "source": [
    "from sklearn.ensemble import RandomForestRegressor\n",
    "\n",
    "X,y = make_regression(n_samples=1000,n_features=10,n_informative=5,random_state=1)\n",
    "\n",
    "model = RandomForestRegressor()\n",
    "\n",
    "model.fit(X,y)\n",
    "\n",
    "importance = model.feature_importances_\n",
    "\n",
    "#Summarize the feature importance\n",
    "for i,v in enumerate(importance):\n",
    "    print('Feature : %d , Score : %.5f' %(i,v))\n",
    "\n",
    "# plot the bar\n",
    "plt.bar([i for i in range(len(importance))],importance)\n",
    "plt.show()"
   ]
  },
  {
   "cell_type": "markdown",
   "id": "first-incentive",
   "metadata": {},
   "source": [
    "##### Randomforest Classification Feature Importance"
   ]
  },
  {
   "cell_type": "code",
   "execution_count": 9,
   "id": "limiting-motion",
   "metadata": {},
   "outputs": [
    {
     "name": "stdout",
     "output_type": "stream",
     "text": [
      "Feature : 0 , Score : 0.06487\n",
      "Feature : 1 , Score : 0.11113\n",
      "Feature : 2 , Score : 0.15415\n",
      "Feature : 3 , Score : 0.19056\n",
      "Feature : 4 , Score : 0.08021\n",
      "Feature : 5 , Score : 0.10515\n",
      "Feature : 6 , Score : 0.10861\n",
      "Feature : 7 , Score : 0.04782\n",
      "Feature : 8 , Score : 0.09134\n",
      "Feature : 9 , Score : 0.04617\n"
     ]
    },
    {
     "data": {
      "image/png": "[encoded data removed]",
      "text/plain": [
       "<Figure size 432x288 with 1 Axes>"
      ]
     },
     "metadata": {
      "needs_background": "light"
     },
     "output_type": "display_data"
    }
   ],
   "source": [
    "from sklearn.ensemble import RandomForestClassifier\n",
    "\n",
    "X,y =  make_classification(n_samples=1000,n_features=10,n_informative=5,n_redundant=5,random_state=1)\n",
    "\n",
    "model = RandomForestClassifier()\n",
    "\n",
    "model.fit(X,y)\n",
    "\n",
    "importance =  model.feature_importances_\n",
    "\n",
    "#Summarize the feature importance\n",
    "for i,v in enumerate(importance):\n",
    "    print('Feature : %d , Score : %.5f' %(i,v))\n",
    "\n",
    "# plot the bar\n",
    "plt.bar([i for i in range(len(importance))],importance)\n",
    "plt.show()"
   ]
  },
  {
   "cell_type": "markdown",
   "id": "upset-burner",
   "metadata": {},
   "source": [
    "### Permutation Feature Importance"
   ]
  },
  {
   "cell_type": "code",
   "execution_count": 10,
   "id": "painful-circus",
   "metadata": {},
   "outputs": [],
   "source": [
    "### Using Permutation_importance()  and K-NearestNeigbhor which does not support feature importance natively\n"
   ]
  },
  {
   "cell_type": "markdown",
   "id": "foreign-branch",
   "metadata": {},
   "source": [
    "#### Permuatioan Feature Importance for Regression"
   ]
  },
  {
   "cell_type": "code",
   "execution_count": 11,
   "id": "owned-allergy",
   "metadata": {},
   "outputs": [
    {
     "name": "stdout",
     "output_type": "stream",
     "text": [
      "Feature : 0 , Score : 184.68413\n",
      "Feature : 1 , Score : 352.24107\n",
      "Feature : 2 , Score : 174.69090\n",
      "Feature : 3 , Score : 1.72286\n",
      "Feature : 4 , Score : 9833.87249\n",
      "Feature : 5 , Score : 7831.08036\n",
      "Feature : 6 , Score : 903.21222\n",
      "Feature : 7 , Score : 191.15372\n",
      "Feature : 8 , Score : 123.29316\n",
      "Feature : 9 , Score : 101.57342\n"
     ]
    },
    {
     "data": {
      "image/png": "[encoded data removed]",
      "text/plain": [
       "<Figure size 432x288 with 1 Axes>"
      ]
     },
     "metadata": {
      "needs_background": "light"
     },
     "output_type": "display_data"
    }
   ],
   "source": [
    "from sklearn.neighbors import KNeighborsRegressor\n",
    "from sklearn.inspection import permutation_importance\n",
    "\n",
    "X,y = make_regression(n_samples=1000,n_features=10,n_informative=5,random_state=1)\n",
    "\n",
    "model = KNeighborsRegressor()\n",
    "\n",
    "model.fit(X,y)\n",
    "\n",
    "results = permutation_importance(model,X,y,scoring=\"neg_mean_squared_error\")\n",
    "\n",
    "importance = results.importances_mean\n",
    "\n",
    "#Summarize the feature importance\n",
    "for i,v in enumerate(importance):\n",
    "    print('Feature : %d , Score : %.5f' %(i,v))\n",
    "\n",
    "# plot the bar\n",
    "plt.bar([i for i in range(len(importance))],importance)\n",
    "plt.show()"
   ]
  },
  {
   "cell_type": "markdown",
   "id": "frozen-alignment",
   "metadata": {},
   "source": [
    "#### Permutation feature importance for the Classification"
   ]
  },
  {
   "cell_type": "code",
   "execution_count": 12,
   "id": "latin-sponsorship",
   "metadata": {},
   "outputs": [
    {
     "name": "stdout",
     "output_type": "stream",
     "text": [
      "Feature : 0 , Score : 0.05240\n",
      "Feature : 1 , Score : 0.06860\n",
      "Feature : 2 , Score : 0.05200\n",
      "Feature : 3 , Score : 0.09120\n",
      "Feature : 4 , Score : 0.05140\n",
      "Feature : 5 , Score : 0.05400\n",
      "Feature : 6 , Score : 0.07460\n",
      "Feature : 7 , Score : 0.05620\n",
      "Feature : 8 , Score : 0.05320\n",
      "Feature : 9 , Score : 0.03100\n"
     ]
    },
    {
     "data": {
      "image/png": "[encoded data removed]",
      "text/plain": [
       "<Figure size 432x288 with 1 Axes>"
      ]
     },
     "metadata": {
      "needs_background": "light"
     },
     "output_type": "display_data"
    }
   ],
   "source": [
    "from sklearn.neighbors import KNeighborsClassifier\n",
    "\n",
    "X,y =  make_classification(n_samples=1000,n_features=10,n_informative=5,n_redundant=5,random_state=1)\n",
    "\n",
    "model = KNeighborsClassifier()\n",
    "\n",
    "model.fit(X,y)\n",
    "\n",
    "results = permutation_importance(model,X,y,scoring=\"accuracy\")\n",
    "\n",
    "importance =  results.importances_mean\n",
    "\n",
    "#Summarize the feature importance\n",
    "for i,v in enumerate(importance):\n",
    "    print('Feature : %d , Score : %.5f' %(i,v))\n",
    "\n",
    "# plot the bar\n",
    "plt.bar([i for i in range(len(importance))],importance)\n",
    "plt.show()"
   ]
  },
  {
   "cell_type": "markdown",
   "id": "basic-daily",
   "metadata": {},
   "source": [
    "#### Feature Selection with Importance"
   ]
  },
  {
   "cell_type": "code",
   "execution_count": 13,
   "id": "differential-medicaid",
   "metadata": {},
   "outputs": [
    {
     "name": "stdout",
     "output_type": "stream",
     "text": [
      "Accuracy : 84.545\n"
     ]
    }
   ],
   "source": [
    "## Evaluation of the model with all features\n",
    "\n",
    "from sklearn.model_selection import train_test_split\n",
    "from sklearn.metrics import accuracy_score\n",
    "\n",
    "X,y =  make_classification(n_samples=1000,n_features=10,n_informative=5,n_redundant=5,random_state=1)\n",
    "\n",
    "X_train,X_test,y_train,y_test = train_test_split(X,y,test_size=0.33 ,random_state=1)\n",
    "\n",
    "model = LogisticRegression(solver=\"liblinear\")\n",
    "\n",
    "model.fit(X_train,y_train)\n",
    "\n",
    "yhat = model.predict(X_test)\n",
    "\n",
    "accuracy = accuracy_score(y_test,yhat) * 100\n",
    "\n",
    "print(\"Accuracy : %.3f\"%(accuracy))"
   ]
  },
  {
   "cell_type": "code",
   "execution_count": 14,
   "id": "textile-blast",
   "metadata": {},
   "outputs": [
    {
     "name": "stdout",
     "output_type": "stream",
     "text": [
      "Accuracy : 84.545\n"
     ]
    }
   ],
   "source": [
    "### Evaluation of model using selecting features with feature Importance\n",
    "\n",
    "from sklearn.feature_selection import SelectFromModel\n",
    "\n",
    "X,y =  make_classification(n_samples=1000,n_features=10,n_informative=5,n_redundant=5,random_state=1)\n",
    "\n",
    "X_train,X_test,y_train,y_test = train_test_split(X,y,test_size=0.33 ,random_state=1)\n",
    "\n",
    "def select_features(X_train,y_train,X_test):\n",
    "    fs = SelectFromModel(RandomForestClassifier(n_estimators=1000),max_features=5)\n",
    "    fs.fit(X_train,y_train)\n",
    "    X_train_fs = fs.transform(X_train)\n",
    "    X_test_fs = fs.transform(X_test)\n",
    "    \n",
    "    return X_train_fs,X_test_fs,fs\n",
    "\n",
    "X_train_fs,X_test_fs,fs = select_features(X_train,y_train,X_test)\n",
    "\n",
    "model = LogisticRegression(solver='liblinear')\n",
    "\n",
    "model.fit(X_train_fs,y_train)\n",
    "\n",
    "yhat = model.predict(X_test_fs)\n",
    "\n",
    "accuracy =  accuracy_score(y_test,yhat) * 100\n",
    "\n",
    "print(\"Accuracy : %.3f\"%(accuracy))"
   ]
  },
  {
   "cell_type": "code",
   "execution_count": null,
   "id": "cellular-munich",
   "metadata": {},
   "outputs": [],
   "source": []
  }
 ],
 "metadata": {
  "kernelspec": {
   "display_name": "Python 3",
   "language": "python",
   "name": "python3"
  },
  "language_info": {
   "codemirror_mode": {
    "name": "ipython",
    "version": 3
   },
   "file_extension": ".py",
   "mimetype": "text/x-python",
   "name": "python",
   "nbconvert_exporter": "python",
   "pygments_lexer": "ipython3",
   "version": "3.7.9"
  }
 },
 "nbformat": 4,
 "nbformat_minor": 5
}
