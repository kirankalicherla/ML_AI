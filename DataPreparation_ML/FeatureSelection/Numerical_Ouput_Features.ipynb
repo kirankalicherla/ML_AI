{
 "cells": [
  {
   "cell_type": "code",
   "execution_count": 1,
   "id": "mineral-horse",
   "metadata": {},
   "outputs": [],
   "source": [
    "### Tutorial Overview\n",
    "## 1. Regression dataset\n",
    "## 2. Numerical Feature Selection\n",
    "## 3. Modeling with Selected Feautures\n",
    "## 4. Tune the number of selected Features"
   ]
  },
  {
   "cell_type": "code",
   "execution_count": 2,
   "id": "revolutionary-roller",
   "metadata": {},
   "outputs": [
    {
     "name": "stderr",
     "output_type": "stream",
     "text": [
      "D:\\Anaconda_Distribution\\envs\\newEnv\\lib\\importlib\\_bootstrap.py:219: RuntimeWarning: numpy.ufunc size changed, may indicate binary incompatibility. Expected 192 from C header, got 216 from PyObject\n",
      "  return f(*args, **kwds)\n"
     ]
    }
   ],
   "source": [
    "###Generating Regression dataset unsing make_regression \n",
    "\n",
    "from sklearn.datasets import make_regression\n",
    "from sklearn.model_selection import train_test_split\n",
    "import numpy as np\n",
    "import pandas as pd"
   ]
  },
  {
   "cell_type": "code",
   "execution_count": 4,
   "id": "requested-dietary",
   "metadata": {},
   "outputs": [
    {
     "name": "stdout",
     "output_type": "stream",
     "text": [
      " Training size: (670, 100) (670,)\n",
      " Testing size: (330, 100) (330,)\n"
     ]
    }
   ],
   "source": [
    "X , y = make_regression(n_samples=1000,n_features=100,n_informative=10,noise=0.1,random_state=1)\n",
    "\n",
    "X_train,X_test,y_train,y_test = train_test_split(X,y,test_size=0.33,random_state=1)\n",
    "\n",
    "print(\" Training size:\", X_train.shape,y_train.shape)\n",
    "print(\" Testing size:\", X_test.shape,y_test.shape)"
   ]
  },
  {
   "cell_type": "markdown",
   "id": "silver-ukraine",
   "metadata": {},
   "source": [
    "### Numerical Feature Selection"
   ]
  },
  {
   "cell_type": "markdown",
   "id": "resistant-interference",
   "metadata": {},
   "source": [
    "#### Correlation Feature Selection"
   ]
  },
  {
   "cell_type": "code",
   "execution_count": 7,
   "id": "later-pledge",
   "metadata": {},
   "outputs": [
    {
     "name": "stdout",
     "output_type": "stream",
     "text": [
      "Features 0 :0.009419\n",
      "Features 1 :1.018881\n",
      "Features 2 :1.205187\n",
      "Features 3 :0.000138\n",
      "Features 4 :0.167511\n",
      "Features 5 :5.985083\n",
      "Features 6 :0.062405\n",
      "Features 7 :1.455257\n",
      "Features 8 :0.420384\n",
      "Features 9 :101.392225\n",
      "Features 10 :0.387091\n",
      "Features 11 :1.581124\n",
      "Features 12 :3.014463\n",
      "Features 13 :0.232705\n",
      "Features 14 :0.076281\n",
      "Features 15 :4.299652\n",
      "Features 16 :1.497530\n",
      "Features 17 :0.261242\n",
      "Features 18 :5.960005\n",
      "Features 19 :0.523219\n",
      "Features 20 :0.003365\n",
      "Features 21 :0.024178\n",
      "Features 22 :0.220958\n",
      "Features 23 :0.576770\n",
      "Features 24 :0.627198\n",
      "Features 25 :0.350687\n",
      "Features 26 :0.281877\n",
      "Features 27 :0.584210\n",
      "Features 28 :52.196337\n",
      "Features 29 :0.046855\n",
      "Features 30 :0.147323\n",
      "Features 31 :0.368485\n",
      "Features 32 :0.077631\n",
      "Features 33 :0.698140\n",
      "Features 34 :45.744046\n",
      "Features 35 :2.047376\n",
      "Features 36 :0.786270\n",
      "Features 37 :0.996190\n",
      "Features 38 :2.733533\n",
      "Features 39 :63.957656\n",
      "Features 40 :231.885540\n",
      "Features 41 :1.372448\n",
      "Features 42 :0.581860\n",
      "Features 43 :1.072930\n",
      "Features 44 :1.066976\n",
      "Features 45 :0.344656\n",
      "Features 46 :13.951551\n",
      "Features 47 :3.575080\n",
      "Features 48 :0.007299\n",
      "Features 49 :0.004651\n",
      "Features 50 :1.094585\n",
      "Features 51 :0.241065\n",
      "Features 52 :0.355137\n",
      "Features 53 :0.020294\n",
      "Features 54 :0.154567\n",
      "Features 55 :2.592512\n",
      "Features 56 :0.300175\n",
      "Features 57 :0.357798\n",
      "Features 58 :3.060090\n",
      "Features 59 :0.890357\n",
      "Features 60 :122.132164\n",
      "Features 61 :2.029982\n",
      "Features 62 :0.091551\n",
      "Features 63 :1.081123\n",
      "Features 64 :0.056041\n",
      "Features 65 :2.930717\n",
      "Features 66 :0.054886\n",
      "Features 67 :1.332787\n",
      "Features 68 :0.145579\n",
      "Features 69 :0.986331\n",
      "Features 70 :0.092661\n",
      "Features 71 :0.083219\n",
      "Features 72 :0.198847\n",
      "Features 73 :2.065792\n",
      "Features 74 :0.236594\n",
      "Features 75 :0.512608\n",
      "Features 76 :1.095650\n",
      "Features 77 :0.015359\n",
      "Features 78 :2.193730\n",
      "Features 79 :1.574530\n",
      "Features 80 :5.360863\n",
      "Features 81 :0.041874\n",
      "Features 82 :5.717705\n",
      "Features 83 :0.436560\n",
      "Features 84 :5.594438\n",
      "Features 85 :0.000065\n",
      "Features 86 :0.026748\n",
      "Features 87 :0.408422\n",
      "Features 88 :2.092557\n",
      "Features 89 :9.568498\n",
      "Features 90 :0.642445\n",
      "Features 91 :0.065794\n",
      "Features 92 :198.705931\n",
      "Features 93 :0.073807\n",
      "Features 94 :1.048605\n",
      "Features 95 :0.004106\n",
      "Features 96 :0.042110\n",
      "Features 97 :0.034228\n",
      "Features 98 :0.792433\n",
      "Features 99 :0.015365\n"
     ]
    },
    {
     "data": {
      "image/png": "[encoded data removed]",
      "text/plain": [
       "<Figure size 432x288 with 1 Axes>"
      ]
     },
     "metadata": {
      "needs_background": "light"
     },
     "output_type": "display_data"
    }
   ],
   "source": [
    "# Correlation is a measure of how two variables change together. Perhaps the most common Correlation measure is \n",
    "# Pearson's Correlation that assumes a Gaussian distribution to each Variable\n",
    "# f_regression\n",
    "\n",
    "from sklearn.feature_selection import f_regression\n",
    "from sklearn.feature_selection import SelectKBest\n",
    "import matplotlib.pyplot as plt\n",
    "\n",
    "\n",
    "def select_features(X_train,X_test,y_train):\n",
    "    \n",
    "    fs = SelectKBest(score_func=f_regression, k='all')\n",
    "    \n",
    "    fs.fit(X_train,y_train)\n",
    "    \n",
    "    X_train_fs = fs.transform(X_train)\n",
    "    X_test_fs = fs.transform(X_test)\n",
    "    \n",
    "    return X_train_fs,X_test_fs,fs\n",
    "\n",
    "X_train_fs,X_test_fs,fs = select_features(X_train,X_test,y_train)\n",
    "\n",
    "for i in range(len(fs.scores_)):\n",
    "    print(\"Features %d :%f\"%(i,fs.scores_[i]))\n",
    "\n",
    "# plot the scores\n",
    "plt.bar([i for i in range(len(fs.scores_))],fs.scores_)\n",
    "plt.show()"
   ]
  },
  {
   "cell_type": "markdown",
   "id": "sapphire-candle",
   "metadata": {},
   "source": [
    "#### Mutual Information Feature Selection"
   ]
  },
  {
   "cell_type": "code",
   "execution_count": 8,
   "id": "widespread-adult",
   "metadata": {},
   "outputs": [
    {
     "name": "stdout",
     "output_type": "stream",
     "text": [
      "Features 0 :0.045484\n",
      "Features 1 :0.000000\n",
      "Features 2 :0.000000\n",
      "Features 3 :0.000000\n",
      "Features 4 :0.024816\n",
      "Features 5 :0.000000\n",
      "Features 6 :0.022659\n",
      "Features 7 :0.000000\n",
      "Features 8 :0.000000\n",
      "Features 9 :0.074320\n",
      "Features 10 :0.000000\n",
      "Features 11 :0.000000\n",
      "Features 12 :0.000000\n",
      "Features 13 :0.000000\n",
      "Features 14 :0.020390\n",
      "Features 15 :0.004307\n",
      "Features 16 :0.000000\n",
      "Features 17 :0.000000\n",
      "Features 18 :0.016566\n",
      "Features 19 :0.003688\n",
      "Features 20 :0.007579\n",
      "Features 21 :0.018640\n",
      "Features 22 :0.025206\n",
      "Features 23 :0.017967\n",
      "Features 24 :0.069173\n",
      "Features 25 :0.000000\n",
      "Features 26 :0.022232\n",
      "Features 27 :0.000000\n",
      "Features 28 :0.007849\n",
      "Features 29 :0.012849\n",
      "Features 30 :0.017402\n",
      "Features 31 :0.008083\n",
      "Features 32 :0.047321\n",
      "Features 33 :0.002829\n",
      "Features 34 :0.028968\n",
      "Features 35 :0.000000\n",
      "Features 36 :0.071652\n",
      "Features 37 :0.027969\n",
      "Features 38 :0.000000\n",
      "Features 39 :0.064796\n",
      "Features 40 :0.137695\n",
      "Features 41 :0.008732\n",
      "Features 42 :0.003983\n",
      "Features 43 :0.000000\n",
      "Features 44 :0.009387\n",
      "Features 45 :0.000000\n",
      "Features 46 :0.038385\n",
      "Features 47 :0.000000\n",
      "Features 48 :0.000000\n",
      "Features 49 :0.000000\n",
      "Features 50 :0.000000\n",
      "Features 51 :0.000000\n",
      "Features 52 :0.000000\n",
      "Features 53 :0.008130\n",
      "Features 54 :0.041779\n",
      "Features 55 :0.000000\n",
      "Features 56 :0.000000\n",
      "Features 57 :0.000000\n",
      "Features 58 :0.031228\n",
      "Features 59 :0.002689\n",
      "Features 60 :0.146192\n",
      "Features 61 :0.000000\n",
      "Features 62 :0.000000\n",
      "Features 63 :0.000000\n",
      "Features 64 :0.018194\n",
      "Features 65 :0.021368\n",
      "Features 66 :0.046071\n",
      "Features 67 :0.034707\n",
      "Features 68 :0.033530\n",
      "Features 69 :0.002262\n",
      "Features 70 :0.018332\n",
      "Features 71 :0.000000\n",
      "Features 72 :0.000000\n",
      "Features 73 :0.074876\n",
      "Features 74 :0.000000\n",
      "Features 75 :0.004429\n",
      "Features 76 :0.002617\n",
      "Features 77 :0.031354\n",
      "Features 78 :0.000000\n",
      "Features 79 :0.000000\n",
      "Features 80 :0.000000\n",
      "Features 81 :0.033931\n",
      "Features 82 :0.010400\n",
      "Features 83 :0.019373\n",
      "Features 84 :0.000000\n",
      "Features 85 :0.033191\n",
      "Features 86 :0.000000\n",
      "Features 87 :0.028745\n",
      "Features 88 :0.000000\n",
      "Features 89 :0.000000\n",
      "Features 90 :0.000000\n",
      "Features 91 :0.017698\n",
      "Features 92 :0.129797\n",
      "Features 93 :0.000000\n",
      "Features 94 :0.002171\n",
      "Features 95 :0.029995\n",
      "Features 96 :0.000000\n",
      "Features 97 :0.014428\n",
      "Features 98 :0.000000\n",
      "Features 99 :0.000000\n"
     ]
    },
    {
     "data": {
      "image/png": "[encoded data removed]",
      "text/plain": [
       "<Figure size 432x288 with 1 Axes>"
      ]
     },
     "metadata": {
      "needs_background": "light"
     },
     "output_type": "display_data"
    }
   ],
   "source": [
    "### mutual_info_regression\n",
    "\n",
    "from sklearn.feature_selection import mutual_info_regression\n",
    "\n",
    "def select_features(X_train,X_test,y_train):\n",
    "    \n",
    "    fs = SelectKBest(score_func=mutual_info_regression, k='all')\n",
    "    \n",
    "    fs.fit(X_train,y_train)\n",
    "    \n",
    "    X_train_fs = fs.transform(X_train)\n",
    "    X_test_fs = fs.transform(X_test)\n",
    "    \n",
    "    return X_train_fs,X_test_fs,fs\n",
    "\n",
    "X_train_fs,X_test_fs,fs = select_features(X_train,X_test,y_train)\n",
    "\n",
    "for i in range(len(fs.scores_)):\n",
    "    print(\"Features %d :%f\"%(i,fs.scores_[i]))\n",
    "\n",
    "# plot the scores\n",
    "plt.bar([i for i in range(len(fs.scores_))],fs.scores_)\n",
    "plt.show()"
   ]
  },
  {
   "cell_type": "markdown",
   "id": "comfortable-failure",
   "metadata": {},
   "source": [
    "### Model with Selected Features"
   ]
  },
  {
   "cell_type": "markdown",
   "id": "alternative-nickname",
   "metadata": {},
   "source": [
    "#### Model built with all features"
   ]
  },
  {
   "cell_type": "code",
   "execution_count": 9,
   "id": "precise-corporation",
   "metadata": {},
   "outputs": [
    {
     "name": "stdout",
     "output_type": "stream",
     "text": [
      "Mean Abs Error is :0.085692\n"
     ]
    }
   ],
   "source": [
    "from sklearn.linear_model import LinearRegression\n",
    "from sklearn.metrics import mean_absolute_error\n",
    "\n",
    "model = LinearRegression()\n",
    "\n",
    "model.fit(X_train,y_train)\n",
    "\n",
    "y_hat = model.predict(X_test)\n",
    "\n",
    "mae = mean_absolute_error(y_test,y_hat)\n",
    "\n",
    "print(\"Mean Abs Error is :%f\"%(mae))"
   ]
  },
  {
   "cell_type": "markdown",
   "id": "clear-graduate",
   "metadata": {},
   "source": [
    "#### Model built using Correlation Coefficient feature select"
   ]
  },
  {
   "cell_type": "code",
   "execution_count": 13,
   "id": "physical-flight",
   "metadata": {},
   "outputs": [
    {
     "name": "stdout",
     "output_type": "stream",
     "text": [
      " Training size: (670, 100) (670,)\n",
      " Testing size: (330, 100) (330,)\n",
      "MAE : 0.085\n"
     ]
    }
   ],
   "source": [
    "X , y = make_regression(n_samples=1000,n_features=100,n_informative=10,noise=0.1,random_state=1)\n",
    "\n",
    "X_train,X_test,y_train,y_test = train_test_split(X,y,test_size=0.33,random_state=1)\n",
    "\n",
    "print(\" Training size:\", X_train.shape,y_train.shape)\n",
    "print(\" Testing size:\", X_test.shape,y_test.shape)\n",
    "\n",
    "\n",
    "def select_features(X_train,y_train,X_test,n_features):\n",
    "    fs = SelectKBest(score_func=f_regression,k=n_features)\n",
    "    fs.fit(X_train,y_train)\n",
    "    X_train_fs = fs.transform(X_train)\n",
    "    X_test_fs = fs.transform(X_test)\n",
    "    \n",
    "    return X_train_fs,X_test_fs,fs\n",
    "\n",
    "\n",
    "X_train_fs,X_test_fs,fs = select_features(X_train,y_train,X_test,88)\n",
    "\n",
    "model = LinearRegression()\n",
    "\n",
    "model.fit(X_train_fs,y_train)\n",
    "\n",
    "y_hat = model.predict(X_test_fs)\n",
    "\n",
    "mae = mean_absolute_error(y_test,y_hat)\n",
    "\n",
    "print('MAE : %.3f'%(mae))"
   ]
  },
  {
   "cell_type": "markdown",
   "id": "reported-america",
   "metadata": {},
   "source": [
    "####  Model built using mutual information"
   ]
  },
  {
   "cell_type": "code",
   "execution_count": 14,
   "id": "expanded-antenna",
   "metadata": {},
   "outputs": [
    {
     "name": "stdout",
     "output_type": "stream",
     "text": [
      " Training size: (670, 100) (670,)\n",
      " Testing size: (330, 100) (330,)\n",
      "MAE : 0.084\n"
     ]
    }
   ],
   "source": [
    "X , y = make_regression(n_samples=1000,n_features=100,n_informative=10,noise=0.1,random_state=1)\n",
    "\n",
    "X_train,X_test,y_train,y_test = train_test_split(X,y,test_size=0.33,random_state=1)\n",
    "\n",
    "print(\" Training size:\", X_train.shape,y_train.shape)\n",
    "print(\" Testing size:\", X_test.shape,y_test.shape)\n",
    "\n",
    "\n",
    "def select_features(X_train,y_train,X_test,n_features):\n",
    "    fs = SelectKBest(score_func=mutual_info_regression,k=n_features)\n",
    "    fs.fit(X_train,y_train)\n",
    "    X_train_fs = fs.transform(X_train)\n",
    "    X_test_fs = fs.transform(X_test)\n",
    "    \n",
    "    return X_train_fs,X_test_fs,fs\n",
    "\n",
    "\n",
    "X_train_fs,X_test_fs,fs = select_features(X_train,y_train,X_test,88)\n",
    "\n",
    "model = LinearRegression()\n",
    "\n",
    "model.fit(X_train_fs,y_train)\n",
    "\n",
    "y_hat = model.predict(X_test_fs)\n",
    "\n",
    "mae = mean_absolute_error(y_test,y_hat)\n",
    "\n",
    "print('MAE : %.3f'%(mae))"
   ]
  },
  {
   "cell_type": "markdown",
   "id": "outstanding-inclusion",
   "metadata": {},
   "source": [
    "###  Tune the number of selected features"
   ]
  },
  {
   "cell_type": "code",
   "execution_count": 18,
   "id": "satellite-virtue",
   "metadata": {},
   "outputs": [
    {
     "name": "stdout",
     "output_type": "stream",
     "text": [
      " Training size: (670, 100) (670,)\n",
      " Testing size: (330, 100) (330,)\n"
     ]
    },
    {
     "ename": "KeyboardInterrupt",
     "evalue": "",
     "output_type": "error",
     "traceback": [
      "\u001b[1;31m---------------------------------------------------------------------------\u001b[0m",
      "\u001b[1;31mKeyboardInterrupt\u001b[0m                         Traceback (most recent call last)",
      "\u001b[1;32m<ipython-input-18-1fabb42f3103>\u001b[0m in \u001b[0;36m<module>\u001b[1;34m\u001b[0m\n\u001b[0;32m     25\u001b[0m \u001b[1;33m\u001b[0m\u001b[0m\n\u001b[0;32m     26\u001b[0m \u001b[1;31m#Performa the search\u001b[0m\u001b[1;33m\u001b[0m\u001b[1;33m\u001b[0m\u001b[1;33m\u001b[0m\u001b[0m\n\u001b[1;32m---> 27\u001b[1;33m \u001b[0mresults\u001b[0m \u001b[1;33m=\u001b[0m \u001b[0msearch\u001b[0m\u001b[1;33m.\u001b[0m\u001b[0mfit\u001b[0m\u001b[1;33m(\u001b[0m\u001b[0mX\u001b[0m\u001b[1;33m,\u001b[0m\u001b[0my\u001b[0m\u001b[1;33m)\u001b[0m\u001b[1;33m\u001b[0m\u001b[1;33m\u001b[0m\u001b[0m\n\u001b[0m\u001b[0;32m     28\u001b[0m \u001b[1;33m\u001b[0m\u001b[0m\n\u001b[0;32m     29\u001b[0m \u001b[1;31m#Summary\u001b[0m\u001b[1;33m\u001b[0m\u001b[1;33m\u001b[0m\u001b[1;33m\u001b[0m\u001b[0m\n",
      "\u001b[1;32mD:\\Anaconda_Distribution\\envs\\newEnv\\lib\\site-packages\\sklearn\\utils\\validation.py\u001b[0m in \u001b[0;36minner_f\u001b[1;34m(*args, **kwargs)\u001b[0m\n\u001b[0;32m     70\u001b[0m                           FutureWarning)\n\u001b[0;32m     71\u001b[0m         \u001b[0mkwargs\u001b[0m\u001b[1;33m.\u001b[0m\u001b[0mupdate\u001b[0m\u001b[1;33m(\u001b[0m\u001b[1;33m{\u001b[0m\u001b[0mk\u001b[0m\u001b[1;33m:\u001b[0m \u001b[0marg\u001b[0m \u001b[1;32mfor\u001b[0m \u001b[0mk\u001b[0m\u001b[1;33m,\u001b[0m \u001b[0marg\u001b[0m \u001b[1;32min\u001b[0m \u001b[0mzip\u001b[0m\u001b[1;33m(\u001b[0m\u001b[0msig\u001b[0m\u001b[1;33m.\u001b[0m\u001b[0mparameters\u001b[0m\u001b[1;33m,\u001b[0m \u001b[0margs\u001b[0m\u001b[1;33m)\u001b[0m\u001b[1;33m}\u001b[0m\u001b[1;33m)\u001b[0m\u001b[1;33m\u001b[0m\u001b[1;33m\u001b[0m\u001b[0m\n\u001b[1;32m---> 72\u001b[1;33m         \u001b[1;32mreturn\u001b[0m \u001b[0mf\u001b[0m\u001b[1;33m(\u001b[0m\u001b[1;33m**\u001b[0m\u001b[0mkwargs\u001b[0m\u001b[1;33m)\u001b[0m\u001b[1;33m\u001b[0m\u001b[1;33m\u001b[0m\u001b[0m\n\u001b[0m\u001b[0;32m     73\u001b[0m     \u001b[1;32mreturn\u001b[0m \u001b[0minner_f\u001b[0m\u001b[1;33m\u001b[0m\u001b[1;33m\u001b[0m\u001b[0m\n\u001b[0;32m     74\u001b[0m \u001b[1;33m\u001b[0m\u001b[0m\n",
      "\u001b[1;32mD:\\Anaconda_Distribution\\envs\\newEnv\\lib\\site-packages\\sklearn\\model_selection\\_search.py\u001b[0m in \u001b[0;36mfit\u001b[1;34m(self, X, y, groups, **fit_params)\u001b[0m\n\u001b[0;32m    734\u001b[0m                 \u001b[1;32mreturn\u001b[0m \u001b[0mresults\u001b[0m\u001b[1;33m\u001b[0m\u001b[1;33m\u001b[0m\u001b[0m\n\u001b[0;32m    735\u001b[0m \u001b[1;33m\u001b[0m\u001b[0m\n\u001b[1;32m--> 736\u001b[1;33m             \u001b[0mself\u001b[0m\u001b[1;33m.\u001b[0m\u001b[0m_run_search\u001b[0m\u001b[1;33m(\u001b[0m\u001b[0mevaluate_candidates\u001b[0m\u001b[1;33m)\u001b[0m\u001b[1;33m\u001b[0m\u001b[1;33m\u001b[0m\u001b[0m\n\u001b[0m\u001b[0;32m    737\u001b[0m \u001b[1;33m\u001b[0m\u001b[0m\n\u001b[0;32m    738\u001b[0m         \u001b[1;31m# For multi-metric evaluation, store the best_index_, best_params_ and\u001b[0m\u001b[1;33m\u001b[0m\u001b[1;33m\u001b[0m\u001b[1;33m\u001b[0m\u001b[0m\n",
      "\u001b[1;32mD:\\Anaconda_Distribution\\envs\\newEnv\\lib\\site-packages\\sklearn\\model_selection\\_search.py\u001b[0m in \u001b[0;36m_run_search\u001b[1;34m(self, evaluate_candidates)\u001b[0m\n\u001b[0;32m   1186\u001b[0m     \u001b[1;32mdef\u001b[0m \u001b[0m_run_search\u001b[0m\u001b[1;33m(\u001b[0m\u001b[0mself\u001b[0m\u001b[1;33m,\u001b[0m \u001b[0mevaluate_candidates\u001b[0m\u001b[1;33m)\u001b[0m\u001b[1;33m:\u001b[0m\u001b[1;33m\u001b[0m\u001b[1;33m\u001b[0m\u001b[0m\n\u001b[0;32m   1187\u001b[0m         \u001b[1;34m\"\"\"Search all candidates in param_grid\"\"\"\u001b[0m\u001b[1;33m\u001b[0m\u001b[1;33m\u001b[0m\u001b[0m\n\u001b[1;32m-> 1188\u001b[1;33m         \u001b[0mevaluate_candidates\u001b[0m\u001b[1;33m(\u001b[0m\u001b[0mParameterGrid\u001b[0m\u001b[1;33m(\u001b[0m\u001b[0mself\u001b[0m\u001b[1;33m.\u001b[0m\u001b[0mparam_grid\u001b[0m\u001b[1;33m)\u001b[0m\u001b[1;33m)\u001b[0m\u001b[1;33m\u001b[0m\u001b[1;33m\u001b[0m\u001b[0m\n\u001b[0m\u001b[0;32m   1189\u001b[0m \u001b[1;33m\u001b[0m\u001b[0m\n\u001b[0;32m   1190\u001b[0m \u001b[1;33m\u001b[0m\u001b[0m\n",
      "\u001b[1;32mD:\\Anaconda_Distribution\\envs\\newEnv\\lib\\site-packages\\sklearn\\model_selection\\_search.py\u001b[0m in \u001b[0;36mevaluate_candidates\u001b[1;34m(candidate_params)\u001b[0m\n\u001b[0;32m    713\u001b[0m                                \u001b[1;32mfor\u001b[0m \u001b[0mparameters\u001b[0m\u001b[1;33m,\u001b[0m \u001b[1;33m(\u001b[0m\u001b[0mtrain\u001b[0m\u001b[1;33m,\u001b[0m \u001b[0mtest\u001b[0m\u001b[1;33m)\u001b[0m\u001b[1;33m\u001b[0m\u001b[1;33m\u001b[0m\u001b[0m\n\u001b[0;32m    714\u001b[0m                                in product(candidate_params,\n\u001b[1;32m--> 715\u001b[1;33m                                           cv.split(X, y, groups)))\n\u001b[0m\u001b[0;32m    716\u001b[0m \u001b[1;33m\u001b[0m\u001b[0m\n\u001b[0;32m    717\u001b[0m                 \u001b[1;32mif\u001b[0m \u001b[0mlen\u001b[0m\u001b[1;33m(\u001b[0m\u001b[0mout\u001b[0m\u001b[1;33m)\u001b[0m \u001b[1;33m<\u001b[0m \u001b[1;36m1\u001b[0m\u001b[1;33m:\u001b[0m\u001b[1;33m\u001b[0m\u001b[1;33m\u001b[0m\u001b[0m\n",
      "\u001b[1;32mD:\\Anaconda_Distribution\\envs\\newEnv\\lib\\site-packages\\joblib\\parallel.py\u001b[0m in \u001b[0;36m__call__\u001b[1;34m(self, iterable)\u001b[0m\n\u001b[0;32m   1052\u001b[0m \u001b[1;33m\u001b[0m\u001b[0m\n\u001b[0;32m   1053\u001b[0m             \u001b[1;32mwith\u001b[0m \u001b[0mself\u001b[0m\u001b[1;33m.\u001b[0m\u001b[0m_backend\u001b[0m\u001b[1;33m.\u001b[0m\u001b[0mretrieval_context\u001b[0m\u001b[1;33m(\u001b[0m\u001b[1;33m)\u001b[0m\u001b[1;33m:\u001b[0m\u001b[1;33m\u001b[0m\u001b[1;33m\u001b[0m\u001b[0m\n\u001b[1;32m-> 1054\u001b[1;33m                 \u001b[0mself\u001b[0m\u001b[1;33m.\u001b[0m\u001b[0mretrieve\u001b[0m\u001b[1;33m(\u001b[0m\u001b[1;33m)\u001b[0m\u001b[1;33m\u001b[0m\u001b[1;33m\u001b[0m\u001b[0m\n\u001b[0m\u001b[0;32m   1055\u001b[0m             \u001b[1;31m# Make sure that we get a last message telling us we are done\u001b[0m\u001b[1;33m\u001b[0m\u001b[1;33m\u001b[0m\u001b[1;33m\u001b[0m\u001b[0m\n\u001b[0;32m   1056\u001b[0m             \u001b[0melapsed_time\u001b[0m \u001b[1;33m=\u001b[0m \u001b[0mtime\u001b[0m\u001b[1;33m.\u001b[0m\u001b[0mtime\u001b[0m\u001b[1;33m(\u001b[0m\u001b[1;33m)\u001b[0m \u001b[1;33m-\u001b[0m \u001b[0mself\u001b[0m\u001b[1;33m.\u001b[0m\u001b[0m_start_time\u001b[0m\u001b[1;33m\u001b[0m\u001b[1;33m\u001b[0m\u001b[0m\n",
      "\u001b[1;32mD:\\Anaconda_Distribution\\envs\\newEnv\\lib\\site-packages\\joblib\\parallel.py\u001b[0m in \u001b[0;36mretrieve\u001b[1;34m(self)\u001b[0m\n\u001b[0;32m    931\u001b[0m             \u001b[1;32mtry\u001b[0m\u001b[1;33m:\u001b[0m\u001b[1;33m\u001b[0m\u001b[1;33m\u001b[0m\u001b[0m\n\u001b[0;32m    932\u001b[0m                 \u001b[1;32mif\u001b[0m \u001b[0mgetattr\u001b[0m\u001b[1;33m(\u001b[0m\u001b[0mself\u001b[0m\u001b[1;33m.\u001b[0m\u001b[0m_backend\u001b[0m\u001b[1;33m,\u001b[0m \u001b[1;34m'supports_timeout'\u001b[0m\u001b[1;33m,\u001b[0m \u001b[1;32mFalse\u001b[0m\u001b[1;33m)\u001b[0m\u001b[1;33m:\u001b[0m\u001b[1;33m\u001b[0m\u001b[1;33m\u001b[0m\u001b[0m\n\u001b[1;32m--> 933\u001b[1;33m                     \u001b[0mself\u001b[0m\u001b[1;33m.\u001b[0m\u001b[0m_output\u001b[0m\u001b[1;33m.\u001b[0m\u001b[0mextend\u001b[0m\u001b[1;33m(\u001b[0m\u001b[0mjob\u001b[0m\u001b[1;33m.\u001b[0m\u001b[0mget\u001b[0m\u001b[1;33m(\u001b[0m\u001b[0mtimeout\u001b[0m\u001b[1;33m=\u001b[0m\u001b[0mself\u001b[0m\u001b[1;33m.\u001b[0m\u001b[0mtimeout\u001b[0m\u001b[1;33m)\u001b[0m\u001b[1;33m)\u001b[0m\u001b[1;33m\u001b[0m\u001b[1;33m\u001b[0m\u001b[0m\n\u001b[0m\u001b[0;32m    934\u001b[0m                 \u001b[1;32melse\u001b[0m\u001b[1;33m:\u001b[0m\u001b[1;33m\u001b[0m\u001b[1;33m\u001b[0m\u001b[0m\n\u001b[0;32m    935\u001b[0m                     \u001b[0mself\u001b[0m\u001b[1;33m.\u001b[0m\u001b[0m_output\u001b[0m\u001b[1;33m.\u001b[0m\u001b[0mextend\u001b[0m\u001b[1;33m(\u001b[0m\u001b[0mjob\u001b[0m\u001b[1;33m.\u001b[0m\u001b[0mget\u001b[0m\u001b[1;33m(\u001b[0m\u001b[1;33m)\u001b[0m\u001b[1;33m)\u001b[0m\u001b[1;33m\u001b[0m\u001b[1;33m\u001b[0m\u001b[0m\n",
      "\u001b[1;32mD:\\Anaconda_Distribution\\envs\\newEnv\\lib\\site-packages\\joblib\\_parallel_backends.py\u001b[0m in \u001b[0;36mwrap_future_result\u001b[1;34m(future, timeout)\u001b[0m\n\u001b[0;32m    540\u001b[0m         AsyncResults.get from multiprocessing.\"\"\"\n\u001b[0;32m    541\u001b[0m         \u001b[1;32mtry\u001b[0m\u001b[1;33m:\u001b[0m\u001b[1;33m\u001b[0m\u001b[1;33m\u001b[0m\u001b[0m\n\u001b[1;32m--> 542\u001b[1;33m             \u001b[1;32mreturn\u001b[0m \u001b[0mfuture\u001b[0m\u001b[1;33m.\u001b[0m\u001b[0mresult\u001b[0m\u001b[1;33m(\u001b[0m\u001b[0mtimeout\u001b[0m\u001b[1;33m=\u001b[0m\u001b[0mtimeout\u001b[0m\u001b[1;33m)\u001b[0m\u001b[1;33m\u001b[0m\u001b[1;33m\u001b[0m\u001b[0m\n\u001b[0m\u001b[0;32m    543\u001b[0m         \u001b[1;32mexcept\u001b[0m \u001b[0mCfTimeoutError\u001b[0m \u001b[1;32mas\u001b[0m \u001b[0me\u001b[0m\u001b[1;33m:\u001b[0m\u001b[1;33m\u001b[0m\u001b[1;33m\u001b[0m\u001b[0m\n\u001b[0;32m    544\u001b[0m             \u001b[1;32mraise\u001b[0m \u001b[0mTimeoutError\u001b[0m \u001b[1;32mfrom\u001b[0m \u001b[0me\u001b[0m\u001b[1;33m\u001b[0m\u001b[1;33m\u001b[0m\u001b[0m\n",
      "\u001b[1;32mD:\\Anaconda_Distribution\\envs\\newEnv\\lib\\concurrent\\futures\\_base.py\u001b[0m in \u001b[0;36mresult\u001b[1;34m(self, timeout)\u001b[0m\n\u001b[0;32m    428\u001b[0m                 \u001b[1;32mreturn\u001b[0m \u001b[0mself\u001b[0m\u001b[1;33m.\u001b[0m\u001b[0m__get_result\u001b[0m\u001b[1;33m(\u001b[0m\u001b[1;33m)\u001b[0m\u001b[1;33m\u001b[0m\u001b[1;33m\u001b[0m\u001b[0m\n\u001b[0;32m    429\u001b[0m \u001b[1;33m\u001b[0m\u001b[0m\n\u001b[1;32m--> 430\u001b[1;33m             \u001b[0mself\u001b[0m\u001b[1;33m.\u001b[0m\u001b[0m_condition\u001b[0m\u001b[1;33m.\u001b[0m\u001b[0mwait\u001b[0m\u001b[1;33m(\u001b[0m\u001b[0mtimeout\u001b[0m\u001b[1;33m)\u001b[0m\u001b[1;33m\u001b[0m\u001b[1;33m\u001b[0m\u001b[0m\n\u001b[0m\u001b[0;32m    431\u001b[0m \u001b[1;33m\u001b[0m\u001b[0m\n\u001b[0;32m    432\u001b[0m             \u001b[1;32mif\u001b[0m \u001b[0mself\u001b[0m\u001b[1;33m.\u001b[0m\u001b[0m_state\u001b[0m \u001b[1;32min\u001b[0m \u001b[1;33m[\u001b[0m\u001b[0mCANCELLED\u001b[0m\u001b[1;33m,\u001b[0m \u001b[0mCANCELLED_AND_NOTIFIED\u001b[0m\u001b[1;33m]\u001b[0m\u001b[1;33m:\u001b[0m\u001b[1;33m\u001b[0m\u001b[1;33m\u001b[0m\u001b[0m\n",
      "\u001b[1;32mD:\\Anaconda_Distribution\\envs\\newEnv\\lib\\threading.py\u001b[0m in \u001b[0;36mwait\u001b[1;34m(self, timeout)\u001b[0m\n\u001b[0;32m    294\u001b[0m         \u001b[1;32mtry\u001b[0m\u001b[1;33m:\u001b[0m    \u001b[1;31m# restore state no matter what (e.g., KeyboardInterrupt)\u001b[0m\u001b[1;33m\u001b[0m\u001b[1;33m\u001b[0m\u001b[0m\n\u001b[0;32m    295\u001b[0m             \u001b[1;32mif\u001b[0m \u001b[0mtimeout\u001b[0m \u001b[1;32mis\u001b[0m \u001b[1;32mNone\u001b[0m\u001b[1;33m:\u001b[0m\u001b[1;33m\u001b[0m\u001b[1;33m\u001b[0m\u001b[0m\n\u001b[1;32m--> 296\u001b[1;33m                 \u001b[0mwaiter\u001b[0m\u001b[1;33m.\u001b[0m\u001b[0macquire\u001b[0m\u001b[1;33m(\u001b[0m\u001b[1;33m)\u001b[0m\u001b[1;33m\u001b[0m\u001b[1;33m\u001b[0m\u001b[0m\n\u001b[0m\u001b[0;32m    297\u001b[0m                 \u001b[0mgotit\u001b[0m \u001b[1;33m=\u001b[0m \u001b[1;32mTrue\u001b[0m\u001b[1;33m\u001b[0m\u001b[1;33m\u001b[0m\u001b[0m\n\u001b[0;32m    298\u001b[0m             \u001b[1;32melse\u001b[0m\u001b[1;33m:\u001b[0m\u001b[1;33m\u001b[0m\u001b[1;33m\u001b[0m\u001b[0m\n",
      "\u001b[1;31mKeyboardInterrupt\u001b[0m: "
     ]
    }
   ],
   "source": [
    "from sklearn.model_selection import RepeatedKFold\n",
    "from sklearn.model_selection import GridSearchCV\n",
    "from sklearn.pipeline import Pipeline\n",
    "\n",
    "X , y = make_regression(n_samples=1000,n_features=100,n_informative=10,noise=0.1,random_state=1)\n",
    "\n",
    "X_train,X_test,y_train,y_test = train_test_split(X,y,test_size=0.33,random_state=1)\n",
    "\n",
    "print(\" Training size:\", X_train.shape,y_train.shape)\n",
    "print(\" Testing size:\", X_test.shape,y_test.shape)\n",
    "\n",
    "fs = SelectKBest(score_func=mutual_info_regression)\n",
    "\n",
    "lr = LinearRegression()\n",
    "\n",
    "pipeline = Pipeline(steps = [('ks',fs),('lrs',lr)])\n",
    "\n",
    "grid = {}\n",
    "\n",
    "grid['ks__k'] = [i for i in range(X_train.shape[1]-80,X_train.shape[1]+1)]\n",
    "\n",
    "cv = RepeatedKFold(n_splits=10,n_repeats=3,random_state=1)\n",
    "\n",
    "search = GridSearchCV(pipeline,grid,cv=cv,scoring=\"neg_mean_absolute_error\",n_jobs=-1)\n",
    "\n",
    "#Performa the search\n",
    "results = search.fit(X,y)\n",
    "\n",
    "#Summary\n",
    "\n",
    "print(\"Best MAE : %.3f\" % results.best_score_)\n",
    "print(\"Best params : %s\" % results.best_params_)\n",
    "\n",
    "#Summarize all\n",
    "\n",
    "means = results.cv_results_[\"mean_test_score\"]\n",
    "params = results.cv_results_['params']\n",
    "\n",
    "for mean,param in zip(means,params):\n",
    "    print('>%.3f with: %r'%(mean,param))\n",
    "\n"
   ]
  },
  {
   "cell_type": "code",
   "execution_count": null,
   "id": "consecutive-border",
   "metadata": {},
   "outputs": [],
   "source": []
  }
 ],
 "metadata": {
  "kernelspec": {
   "display_name": "Python 3",
   "language": "python",
   "name": "python3"
  },
  "language_info": {
   "codemirror_mode": {
    "name": "ipython",
    "version": 3
   },
   "file_extension": ".py",
   "mimetype": "text/x-python",
   "name": "python",
   "nbconvert_exporter": "python",
   "pygments_lexer": "ipython3",
   "version": "3.7.9"
  }
 },
 "nbformat": 4,
 "nbformat_minor": 5
}
