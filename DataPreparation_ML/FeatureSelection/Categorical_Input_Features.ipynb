{
 "cells": [
  {
   "cell_type": "code",
   "execution_count": 1,
   "id": "pleased-procedure",
   "metadata": {},
   "outputs": [],
   "source": [
    "###Tutorial Overview\n",
    "# 1. Breast Cancer Categorical dataset\n",
    "# 2. Categorical Feature Selection\n",
    "# 3. Modeling with Selected Features\n"
   ]
  },
  {
   "cell_type": "code",
   "execution_count": 2,
   "id": "featured-prince",
   "metadata": {},
   "outputs": [
    {
     "name": "stderr",
     "output_type": "stream",
     "text": [
      "D:\\Anaconda_Distribution\\envs\\newEnv\\lib\\importlib\\_bootstrap.py:219: RuntimeWarning: numpy.ufunc size changed, may indicate binary incompatibility. Expected 192 from C header, got 216 from PyObject\n",
      "  return f(*args, **kwds)\n"
     ]
    }
   ],
   "source": [
    "import pandas as pd\n",
    "import numpy as np\n",
    "from sklearn.model_selection import train_test_split"
   ]
  },
  {
   "cell_type": "code",
   "execution_count": 11,
   "id": "designing-painting",
   "metadata": {},
   "outputs": [],
   "source": [
    "def load_dataset(filename):\n",
    "    dataset  = pd.read_csv(filename,header=None)\n",
    "    \n",
    "    data = dataset.values\n",
    "    \n",
    "    X = data[:,:-1]\n",
    "    y = data[:,-1]\n",
    "    \n",
    "    X = X.astype(str)\n",
    "    X_train,X_test,y_train,y_test = train_test_split(X,y,test_size=0.33,random_state=1)\n",
    "    \n",
    "    return X_train,X_test,y_train,y_test"
   ]
  },
  {
   "cell_type": "code",
   "execution_count": 12,
   "id": "involved-punch",
   "metadata": {},
   "outputs": [
    {
     "name": "stdout",
     "output_type": "stream",
     "text": [
      "Training size (191, 9) (191,)\n",
      "Testing size (95, 9) (95,)\n"
     ]
    }
   ],
   "source": [
    "X_train,X_test,y_train,y_test = load_dataset('../dataset/breast-cancer.csv')\n",
    "\n",
    "print(\"Training size\", X_train.shape,y_train.shape)\n",
    "print(\"Testing size\", X_test.shape,y_test.shape)"
   ]
  },
  {
   "cell_type": "code",
   "execution_count": 13,
   "id": "recent-variable",
   "metadata": {},
   "outputs": [],
   "source": [
    "from sklearn.preprocessing import OrdinalEncoder\n",
    "from sklearn.preprocessing import LabelEncoder\n",
    "\n",
    "def prepare_input(X_train,X_test):\n",
    "    oe = OrdinalEncoder()\n",
    "    oe.fit(X_train)\n",
    "    \n",
    "    X_train_oe = oe.transform(X_train)\n",
    "    X_test_oe = oe.transform(X_test)\n",
    "    \n",
    "    return X_train_oe,X_test_oe,oe\n",
    "\n",
    "def prepare_target(y_train,y_test):\n",
    "    le = LabelEncoder()\n",
    "    le.fit(y_train)\n",
    "    \n",
    "    y_train_le = le.transform(y_train)\n",
    "    y_test_le = le.transform(y_test)\n",
    "    \n",
    "    return y_train_le,y_test_le,le"
   ]
  },
  {
   "cell_type": "code",
   "execution_count": 15,
   "id": "proud-gravity",
   "metadata": {},
   "outputs": [],
   "source": [
    "# preparing input data\n",
    "X_train_oe,X_test_oe,oe = prepare_input(X_train,X_test)\n",
    "\n",
    "#preparing output data\n",
    "y_train_le,y_test_le,le = prepare_target(y_train,y_test)"
   ]
  },
  {
   "cell_type": "code",
   "execution_count": 16,
   "id": "adjusted-paragraph",
   "metadata": {},
   "outputs": [
    {
     "name": "stdout",
     "output_type": "stream",
     "text": [
      "Train (191, 9) (191,)\n",
      "Test (95, 9) (95,)\n"
     ]
    }
   ],
   "source": [
    "print(\"Train\",X_train_oe.shape,y_train_le.shape)\n",
    "print(\"Test\",X_test_oe.shape,y_test_le.shape)"
   ]
  },
  {
   "cell_type": "markdown",
   "id": "limited-particular",
   "metadata": {},
   "source": [
    "###  Categorical Feature Selection"
   ]
  },
  {
   "cell_type": "markdown",
   "id": "advanced-viking",
   "metadata": {},
   "source": [
    "#### Chi-Squared Feature Selection"
   ]
  },
  {
   "cell_type": "code",
   "execution_count": 18,
   "id": "duplicate-manual",
   "metadata": {},
   "outputs": [],
   "source": [
    "## Pearson's Chi-Squared statistical hypothesis test is an example of a test for independence between two categorical variables\n",
    "# The results of this test can be used for feature selection , where those features that are independent for target variable\n",
    "# can be removed from the dataset\n",
    "# Sklearn library has implementation Chi2()"
   ]
  },
  {
   "cell_type": "code",
   "execution_count": 19,
   "id": "american-pension",
   "metadata": {},
   "outputs": [],
   "source": [
    "from sklearn.feature_selection import SelectKBest\n",
    "from sklearn.feature_selection import chi2\n",
    "\n",
    "def select_features(X_train,y_train,X_test,scoreFun,numFeature=\"all\"):\n",
    "    \n",
    "    fs = SelectKBest(score_func=scoreFun , k=numFeature)\n",
    "\n",
    "    fs.fit(X_train,y_train)\n",
    "\n",
    "    X_train_fs = fs.transform(X_train)\n",
    "    X_test_fs = fs.transform(X_test)\n",
    "    \n",
    "    return X_train_fs,X_test_fs,fs\n"
   ]
  },
  {
   "cell_type": "code",
   "execution_count": 22,
   "id": "numerical-brand",
   "metadata": {},
   "outputs": [
    {
     "name": "stdout",
     "output_type": "stream",
     "text": [
      "Train set (191, 9) (191,)\n",
      "Test set (95, 9) (95,)\n",
      "Feature 0 : 0.472553\n",
      "Feature 1 : 0.029193\n",
      "Feature 2 : 2.137658\n",
      "Feature 3 : 29.381059\n",
      "Feature 4 : 8.222601\n",
      "Feature 5 : 8.100183\n",
      "Feature 6 : 1.273822\n",
      "Feature 7 : 0.950682\n",
      "Feature 8 : 3.699989\n"
     ]
    },
    {
     "data": {
      "image/png": "[encoded data removed]",
      "text/plain": [
       "<Figure size 432x288 with 1 Axes>"
      ]
     },
     "metadata": {
      "needs_background": "light"
     },
     "output_type": "display_data"
    }
   ],
   "source": [
    "##### Printing the feature importance\n",
    "import matplotlib.pyplot as plt\n",
    "\n",
    "###Loading the dataset\n",
    "X_train,X_test,y_train,y_test = load_dataset('../dataset/breast-cancer.csv')\n",
    "\n",
    "print(\"Train set\",X_train.shape,y_train.shape)\n",
    "print(\"Test set\", X_test.shape,y_test.shape)\n",
    "\n",
    "# Feature encoding \n",
    "X_train_oe,X_test_oe,oe  = prepare_input(X_train,X_test)\n",
    "\n",
    "y_train_le,y_test_le,le = prepare_target(y_train,y_test)\n",
    "\n",
    "#Selecting the features\n",
    "X_train_fs,X_test_fs,fs = select_features(X_train_oe,y_train_le,X_test_oe,chi2,\"all\")\n",
    "\n",
    "## printing the scores of each feature\n",
    "for i in range(len(fs.scores_)):\n",
    "    print(\"Feature %d : %f\"%(i,fs.scores_[i]))\n",
    "\n",
    "# plotting the bar plot\n",
    "plt.bar([i for i in range(len(fs.scores_))],fs.scores_)\n",
    "plt.show()"
   ]
  },
  {
   "cell_type": "markdown",
   "id": "special-alloy",
   "metadata": {},
   "source": [
    "#### Mutual Information feature selection"
   ]
  },
  {
   "cell_type": "code",
   "execution_count": 36,
   "id": "romantic-jason",
   "metadata": {},
   "outputs": [
    {
     "name": "stdout",
     "output_type": "stream",
     "text": [
      "Train set (191, 9) (191,)\n",
      "Test set (95, 9) (95,)\n",
      "Feature 0 : 0.000000\n",
      "Feature 1 : 0.000000\n",
      "Feature 2 : 0.013399\n",
      "Feature 3 : 0.024430\n",
      "Feature 4 : 0.044822\n",
      "Feature 5 : 0.013430\n",
      "Feature 6 : 0.000000\n",
      "Feature 7 : 0.000000\n",
      "Feature 8 : 0.003771\n"
     ]
    },
    {
     "data": {
      "image/png": "[encoded data removed]",
      "text/plain": [
       "<Figure size 432x288 with 1 Axes>"
      ]
     },
     "metadata": {
      "needs_background": "light"
     },
     "output_type": "display_data"
    }
   ],
   "source": [
    "from sklearn.feature_selection import mutual_info_classif\n",
    "##### Printing the feature importance\n",
    "import matplotlib.pyplot as plt\n",
    "\n",
    "###Loading the dataset\n",
    "X_train,X_test,y_train,y_test = load_dataset('../dataset/breast-cancer.csv')\n",
    "\n",
    "print(\"Train set\",X_train.shape,y_train.shape)\n",
    "print(\"Test set\", X_test.shape,y_test.shape)\n",
    "\n",
    "# Feature encoding \n",
    "X_train_oe,X_test_oe,oe  = prepare_input(X_train,X_test)\n",
    "\n",
    "y_train_le,y_test_le,le = prepare_target(y_train,y_test)\n",
    "\n",
    "#Selecting the features\n",
    "X_train_fs,X_test_fs,fs = select_features(X_train_oe,y_train_le,X_test_oe,mutual_info_classif,\"all\")\n",
    "\n",
    "## printing the scores of each feature\n",
    "for i in range(len(fs.scores_)):\n",
    "    print(\"Feature %d : %f\"%(i,fs.scores_[i]))\n",
    "\n",
    "# plotting the bar plot\n",
    "plt.bar([i for i in range(len(fs.scores_))],fs.scores_)\n",
    "plt.show()\n"
   ]
  },
  {
   "cell_type": "markdown",
   "id": "correct-fellow",
   "metadata": {},
   "source": [
    "#### Model Built using all features"
   ]
  },
  {
   "cell_type": "code",
   "execution_count": 25,
   "id": "binary-macintosh",
   "metadata": {},
   "outputs": [
    {
     "name": "stdout",
     "output_type": "stream",
     "text": [
      "Train set (191, 9) (191,)\n",
      "Test set (95, 9) (95,)\n",
      "Accuracy is 75.789\n"
     ]
    }
   ],
   "source": [
    "from sklearn.linear_model import LogisticRegression\n",
    "from sklearn.metrics import accuracy_score\n",
    "\n",
    "###Loading the dataset\n",
    "X_train,X_test,y_train,y_test = load_dataset('../dataset/breast-cancer.csv')\n",
    "\n",
    "print(\"Train set\",X_train.shape,y_train.shape)\n",
    "print(\"Test set\", X_test.shape,y_test.shape)\n",
    "\n",
    "# Feature encoding \n",
    "X_train_oe,X_test_oe,oe  = prepare_input(X_train,X_test)\n",
    "\n",
    "y_train_le,y_test_le,le = prepare_target(y_train,y_test)\n",
    "\n",
    "\n",
    "model = LogisticRegression(solver=\"lbfgs\")\n",
    "\n",
    "model.fit(X_train_oe,y_train_le)\n",
    "\n",
    "yhat = model.predict(X_test_oe)\n",
    "\n",
    "accr = accuracy_score(y_test_le,yhat) * 100\n",
    "print(\"Accuracy is %.3f\"%(accr))"
   ]
  },
  {
   "cell_type": "markdown",
   "id": "original-notice",
   "metadata": {},
   "source": [
    "####  Model built using Chi Square with best 4 models"
   ]
  },
  {
   "cell_type": "code",
   "execution_count": 35,
   "id": "hybrid-message",
   "metadata": {},
   "outputs": [
    {
     "name": "stdout",
     "output_type": "stream",
     "text": [
      "Train set (191, 9) (191,)\n",
      "Test set (95, 9) (95,)\n",
      "Accuracy is 74.737\n"
     ]
    }
   ],
   "source": [
    "###Loading the dataset\n",
    "X_train,X_test,y_train,y_test = load_dataset('../dataset/breast-cancer.csv')\n",
    "\n",
    "print(\"Train set\",X_train.shape,y_train.shape)\n",
    "print(\"Test set\", X_test.shape,y_test.shape)\n",
    "\n",
    "# Feature encoding \n",
    "X_train_oe,X_test_oe,oe  = prepare_input(X_train,X_test)\n",
    "\n",
    "y_train_le,y_test_le,le = prepare_target(y_train,y_test)\n",
    "\n",
    "# Feature selection\n",
    "X_train_fs,X_test_fs,fs = select_features(X_train_oe,y_train_le,X_test_oe,chi2,4)\n",
    "\n",
    "model = LogisticRegression(solver=\"lbfgs\")\n",
    "\n",
    "model.fit(X_train_fs,y_train_le)\n",
    "\n",
    "yhat = model.predict(X_test_fs)\n",
    "\n",
    "accr = accuracy_score(y_test_le,yhat) * 100\n",
    "print(\"Accuracy is %.3f\"%(accr))"
   ]
  },
  {
   "cell_type": "markdown",
   "id": "familiar-battery",
   "metadata": {},
   "source": [
    "####  Model built using Mutual information with best 4 models"
   ]
  },
  {
   "cell_type": "code",
   "execution_count": 33,
   "id": "prime-realtor",
   "metadata": {},
   "outputs": [
    {
     "name": "stdout",
     "output_type": "stream",
     "text": [
      "Train set (191, 9) (191,)\n",
      "Test set (95, 9) (95,)\n",
      "Accuracy is 66.316\n"
     ]
    }
   ],
   "source": [
    "###Loading the dataset\n",
    "X_train,X_test,y_train,y_test = load_dataset('../dataset/breast-cancer.csv')\n",
    "\n",
    "print(\"Train set\",X_train.shape,y_train.shape)\n",
    "print(\"Test set\", X_test.shape,y_test.shape)\n",
    "\n",
    "# Feature encoding \n",
    "X_train_oe,X_test_oe,oe  = prepare_input(X_train,X_test)\n",
    "\n",
    "y_train_le,y_test_le,le = prepare_target(y_train,y_test)\n",
    "\n",
    "# Feature selection\n",
    "X_train_fs,X_test_fs,fs = select_features(X_train_oe,y_train_le,X_test_oe,mutual_info_classif,4)\n",
    "\n",
    "model = LogisticRegression(solver=\"lbfgs\")\n",
    "\n",
    "model.fit(X_train_fs,y_train_le)\n",
    "\n",
    "yhat = model.predict(X_test_fs)\n",
    "\n",
    "accr = accuracy_score(y_test_le,yhat) * 100\n",
    "print(\"Accuracy is %.3f\"%(accr))"
   ]
  },
  {
   "cell_type": "code",
   "execution_count": null,
   "id": "foster-establishment",
   "metadata": {},
   "outputs": [],
   "source": []
  }
 ],
 "metadata": {
  "kernelspec": {
   "display_name": "Python 3",
   "language": "python",
   "name": "python3"
  },
  "language_info": {
   "codemirror_mode": {
    "name": "ipython",
    "version": 3
   },
   "file_extension": ".py",
   "mimetype": "text/x-python",
   "name": "python",
   "nbconvert_exporter": "python",
   "pygments_lexer": "ipython3",
   "version": "3.7.9"
  }
 },
 "nbformat": 4,
 "nbformat_minor": 5
}
