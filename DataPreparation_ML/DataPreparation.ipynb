{
 "cells": [
  {
   "cell_type": "markdown",
   "id": "julian-ferry",
   "metadata": {},
   "source": [
    "### Data Preparation with Train and Test Splits"
   ]
  },
  {
   "cell_type": "code",
   "execution_count": 9,
   "id": "rolled-classification",
   "metadata": {},
   "outputs": [
    {
     "name": "stdout",
     "output_type": "stream",
     "text": [
      "(1000, 20) (1000,)\n"
     ]
    }
   ],
   "source": [
    "##Test classification dataset\n",
    "from sklearn.datasets import make_classification\n",
    "###Define dataset\n",
    "X ,y = make_classification(n_samples=1000,n_features=20,n_informative=15,n_redundant=5,random_state=7)\n",
    "\n",
    "#Summarize the dataset\n",
    "print(X.shape,y.shape)"
   ]
  },
  {
   "cell_type": "markdown",
   "id": "innocent-terry",
   "metadata": {},
   "source": [
    "#### Train-Test Evaluation with Naive Approach"
   ]
  },
  {
   "cell_type": "code",
   "execution_count": 10,
   "id": "taken-reaction",
   "metadata": {},
   "outputs": [],
   "source": [
    "#Standardize the scaler\n",
    "from sklearn.preprocessing import MinMaxScaler\n",
    "scaler = MinMaxScaler()\n",
    "Xnorm = scaler.fit_transform(X)"
   ]
  },
  {
   "cell_type": "code",
   "execution_count": 11,
   "id": "narrative-following",
   "metadata": {},
   "outputs": [],
   "source": [
    "#Split the train and test cases\n",
    "from sklearn.model_selection import train_test_split\n",
    "X_train,X_test,y_train,y_test = train_test_split(Xnorm,y,test_size=0.33,random_state=1)"
   ]
  },
  {
   "cell_type": "code",
   "execution_count": 12,
   "id": "endangered-series",
   "metadata": {},
   "outputs": [
    {
     "data": {
      "text/plain": [
       "LogisticRegression()"
      ]
     },
     "execution_count": 12,
     "metadata": {},
     "output_type": "execute_result"
    }
   ],
   "source": [
    "# Fit the model\n",
    "from sklearn.linear_model import LogisticRegression\n",
    "model =LogisticRegression()\n",
    "model.fit(X_train,y_train)"
   ]
  },
  {
   "cell_type": "code",
   "execution_count": 13,
   "id": "hundred-resident",
   "metadata": {},
   "outputs": [],
   "source": [
    "#Evaluate the model\n",
    "from sklearn.metrics import accuracy_score\n",
    "yhat = model.predict(X_test)\n",
    "accuracy = accuracy_score(y_test,yhat)"
   ]
  },
  {
   "cell_type": "code",
   "execution_count": 14,
   "id": "improved-andrew",
   "metadata": {},
   "outputs": [
    {
     "name": "stdout",
     "output_type": "stream",
     "text": [
      "Accuracy : 84.848\n"
     ]
    }
   ],
   "source": [
    "print('Accuracy : %.3f'%(accuracy*100))"
   ]
  },
  {
   "cell_type": "code",
   "execution_count": null,
   "id": "covered-advance",
   "metadata": {},
   "outputs": [],
   "source": []
  },
  {
   "cell_type": "markdown",
   "id": "sophisticated-preparation",
   "metadata": {},
   "source": [
    "#### Train test evaluation with Correct Data preparation"
   ]
  },
  {
   "cell_type": "code",
   "execution_count": 15,
   "id": "intended-liver",
   "metadata": {},
   "outputs": [],
   "source": [
    "#Split the data into train and test cases\n",
    "X_train,X_test,y_train,y_test = train_test_split(X,y,test_size=0.33,random_state=1)"
   ]
  },
  {
   "cell_type": "code",
   "execution_count": 16,
   "id": "varying-porter",
   "metadata": {},
   "outputs": [],
   "source": [
    "#define the scaler\n",
    "scaler =  MinMaxScaler()\n",
    "\n",
    "X_train = scaler.fit_transform(X_train)\n",
    "X_test = scaler.transform(X_test)"
   ]
  },
  {
   "cell_type": "code",
   "execution_count": 18,
   "id": "dress-essence",
   "metadata": {},
   "outputs": [
    {
     "name": "stdout",
     "output_type": "stream",
     "text": [
      "Accuracy : 85.455\n"
     ]
    }
   ],
   "source": [
    "model =LogisticRegression()\n",
    "model.fit(X_train,y_train)\n",
    "yhat = model.predict(X_test)\n",
    "accuracy = accuracy_score(y_test,yhat)\n",
    "print(\"Accuracy : %.3f\"%(accuracy*100))"
   ]
  },
  {
   "cell_type": "markdown",
   "id": "banner-animal",
   "metadata": {},
   "source": [
    "### Data preparation with k -fold cross validation"
   ]
  },
  {
   "cell_type": "markdown",
   "id": "bronze-london",
   "metadata": {},
   "source": [
    "#### Cross validation evaluation with Naive Data preparation"
   ]
  },
  {
   "cell_type": "code",
   "execution_count": 25,
   "id": "available-albania",
   "metadata": {},
   "outputs": [],
   "source": [
    "scaler = MinMaxScaler()\n",
    "Xnorm = scaler.fit_transform(X)"
   ]
  },
  {
   "cell_type": "code",
   "execution_count": 26,
   "id": "offensive-observer",
   "metadata": {},
   "outputs": [
    {
     "name": "stdout",
     "output_type": "stream",
     "text": [
      "Accuracy: 86.533 (2.667)\n"
     ]
    }
   ],
   "source": [
    "import numpy as np\n",
    "from sklearn.model_selection import RepeatedStratifiedKFold\n",
    "from sklearn.model_selection import cross_val_score\n",
    "model = LogisticRegression()\n",
    "cv = RepeatedStratifiedKFold(n_splits=10,n_repeats=3,random_state=1)\n",
    "scores = cross_val_score(model,X,y,scoring=\"accuracy\",cv =cv ,n_jobs=-1)\n",
    "\n",
    "#report performance\n",
    "print(\"Accuracy: %.3f (%.3f)\"%(np.mean(scores)*100,np.std(scores)*100))"
   ]
  },
  {
   "cell_type": "markdown",
   "id": "norman-deficit",
   "metadata": {},
   "source": [
    "#### Cross validation evaluation with COrrect Data Preparation"
   ]
  },
  {
   "cell_type": "code",
   "execution_count": 23,
   "id": "former-illustration",
   "metadata": {},
   "outputs": [],
   "source": [
    "from sklearn.pipeline import Pipeline\n",
    "\n",
    "#Define the pipeline\n",
    "steps = list()\n",
    "steps.append(('scaler',MinMaxScaler()))\n",
    "steps.append(('model',LogisticRegression()))\n",
    "\n",
    "pipeline = Pipeline(steps = steps)\n",
    "\n"
   ]
  },
  {
   "cell_type": "code",
   "execution_count": 24,
   "id": "unknown-express",
   "metadata": {},
   "outputs": [
    {
     "name": "stdout",
     "output_type": "stream",
     "text": [
      "Accuracy: 85.433 (3.471)\n"
     ]
    }
   ],
   "source": [
    "cv = RepeatedStratifiedKFold(n_splits=10,n_repeats=3,random_state=1)\n",
    "scores = cross_val_score(pipeline,X,y,scoring=\"accuracy\",cv =cv ,n_jobs=-1)\n",
    "\n",
    "#report performance\n",
    "print(\"Accuracy: %.3f (%.3f)\"%(np.mean(scores)*100,np.std(scores)*100))"
   ]
  },
  {
   "cell_type": "code",
   "execution_count": null,
   "id": "transparent-illustration",
   "metadata": {},
   "outputs": [],
   "source": []
  }
 ],
 "metadata": {
  "kernelspec": {
   "display_name": "Python 3",
   "language": "python",
   "name": "python3"
  },
  "language_info": {
   "codemirror_mode": {
    "name": "ipython",
    "version": 3
   },
   "file_extension": ".py",
   "mimetype": "text/x-python",
   "name": "python",
   "nbconvert_exporter": "python",
   "pygments_lexer": "ipython3",
   "version": "3.7.9"
  }
 },
 "nbformat": 4,
 "nbformat_minor": 5
}
